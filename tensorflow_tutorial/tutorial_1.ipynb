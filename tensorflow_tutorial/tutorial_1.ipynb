{
 "cells": [
  {
   "cell_type": "code",
   "execution_count": 20,
   "id": "4401bafc-5445-4c19-b31e-3d6b883ebef2",
   "metadata": {},
   "outputs": [],
   "source": [
    "import tensorflow as tf"
   ]
  },
  {
   "cell_type": "code",
   "execution_count": 48,
   "id": "c9571fa4-6a64-4011-b8c1-c1111702a62c",
   "metadata": {},
   "outputs": [
    {
     "data": {
      "text/plain": [
       "<tf.Tensor: shape=(2, 2), dtype=float32, numpy=\n",
       "array([[4., 4.],\n",
       "       [4., 4.]], dtype=float32)>"
      ]
     },
     "execution_count": 48,
     "metadata": {},
     "output_type": "execute_result"
    }
   ],
   "source": [
    "#Initialization of tensors\n",
    "x = tf.constant(4, shape=(2,2), dtype=tf.float32)\n",
    "x"
   ]
  },
  {
   "cell_type": "code",
   "execution_count": 50,
   "id": "8c130b6d-25a2-474e-bdfe-1b4514b7f24f",
   "metadata": {},
   "outputs": [
    {
     "data": {
      "text/plain": [
       "<tf.Tensor: shape=(2, 3), dtype=float32, numpy=\n",
       "array([[1., 2., 3.],\n",
       "       [4., 5., 6.]], dtype=float32)>"
      ]
     },
     "execution_count": 50,
     "metadata": {},
     "output_type": "execute_result"
    }
   ],
   "source": [
    "x = tf.constant([[1, 2, 3], [4, 5, 6]], dtype=tf.float32)\n",
    "x"
   ]
  },
  {
   "cell_type": "code",
   "execution_count": 56,
   "id": "4eed201f-80c5-4b0b-a344-43298748628e",
   "metadata": {},
   "outputs": [
    {
     "name": "stdout",
     "output_type": "stream",
     "text": [
      "tf.Tensor(\n",
      "[[1. 1. 1.]\n",
      " [1. 1. 1.]\n",
      " [1. 1. 1.]\n",
      " [1. 1. 1.]], shape=(4, 3), dtype=float32)\n",
      "tf.Tensor(\n",
      "[[0. 0. 0.]\n",
      " [0. 0. 0.]\n",
      " [0. 0. 0.]\n",
      " [0. 0. 0.]], shape=(4, 3), dtype=float32)\n"
     ]
    }
   ],
   "source": [
    "x = tf.ones(shape=(4,3), dtype=tf.float32)\n",
    "print(x)\n",
    "\n",
    "x = tf.zeros(shape=(4,3), dtype=tf.float32)\n",
    "print(x)"
   ]
  },
  {
   "cell_type": "code",
   "execution_count": 108,
   "id": "47e073dc-8eff-406d-911a-1bc66e2fbb16",
   "metadata": {},
   "outputs": [
    {
     "data": {
      "text/plain": [
       "<tf.Tensor: shape=(4, 4), dtype=float32, numpy=\n",
       "array([[1., 0., 0., 0.],\n",
       "       [0., 1., 0., 0.],\n",
       "       [0., 0., 1., 0.],\n",
       "       [0., 0., 0., 1.]], dtype=float32)>"
      ]
     },
     "execution_count": 108,
     "metadata": {},
     "output_type": "execute_result"
    }
   ],
   "source": [
    "x = tf.eye(4)\n",
    "x"
   ]
  },
  {
   "cell_type": "code",
   "execution_count": 92,
   "id": "b6001d47-436f-4e1d-be10-fb78c5ee1694",
   "metadata": {},
   "outputs": [],
   "source": [
    "# Random with distribution\n",
    "import matplotlib.pyplot as plt\n",
    "\n",
    "#Random các giá trị, các giá trị gần mean thì có xác suất xảy ra cao hơn\n",
    "x = tf.random.normal((100, ))"
   ]
  },
  {
   "cell_type": "code",
   "execution_count": 94,
   "id": "eb1f9134-afee-4e7a-9556-760d4607576e",
   "metadata": {},
   "outputs": [
    {
     "data": {
      "text/plain": [
       "<matplotlib.collections.PathCollection at 0x231cb3c9ee0>"
      ]
     },
     "execution_count": 94,
     "metadata": {},
     "output_type": "execute_result"
    },
    {
     "data": {
      "image/png": "[encoded data removed]",
      "text/plain": [
       "<Figure size 640x480 with 1 Axes>"
      ]
     },
     "metadata": {},
     "output_type": "display_data"
    }
   ],
   "source": [
    "plt.scatter(x, y=np.zeros(x.shape))"
   ]
  },
  {
   "cell_type": "code",
   "execution_count": 118,
   "id": "9fba2cd3-caa8-48d7-aef0-9dd11eae2e82",
   "metadata": {},
   "outputs": [
    {
     "data": {
      "text/plain": [
       "<tf.Tensor: shape=(5, 20), dtype=float32, numpy=\n",
       "array([[ 0.56111425,  1.0359648 , -0.58977807, -0.5395212 ,  0.6565311 ,\n",
       "        -0.6579715 , -0.25942758, -1.428099  , -0.35046113,  0.27455246,\n",
       "         0.19478025, -0.22275297,  2.300516  ,  0.1772605 , -0.18402515,\n",
       "        -0.45213646, -0.40693247, -0.7223754 ,  1.3013469 , -0.7209942 ],\n",
       "       [ 0.7426536 ,  0.13615033, -1.2078818 ,  0.53590417, -0.36728287,\n",
       "        -0.6067294 , -0.57007533, -0.27831343, -0.26186824,  0.7626018 ,\n",
       "        -0.49655968, -0.48587164, -1.5967826 ,  1.0941924 ,  1.5715564 ,\n",
       "         0.34718928, -0.18806739, -0.02823845,  0.47472262, -0.39610493],\n",
       "       [-0.29982597, -1.551282  ,  0.03373977, -0.4026061 , -0.43398196,\n",
       "        -0.89420027, -1.4471576 , -0.9754947 , -0.1096547 , -0.4556048 ,\n",
       "        -0.04920565,  1.6834965 ,  0.38485113, -1.3360943 , -0.39984173,\n",
       "        -0.22382256, -0.06311096,  2.0071359 ,  0.369438  ,  1.4153416 ],\n",
       "       [-0.10409493,  0.551557  , -1.9756751 ,  1.4540744 , -0.38467294,\n",
       "        -1.3208377 , -0.57036096,  0.5595743 ,  1.8183411 ,  0.15843172,\n",
       "         0.7747237 , -0.28107324,  0.9237781 ,  1.1669713 ,  0.01891707,\n",
       "        -0.7588923 ,  0.3850954 , -0.35541552, -1.5991666 ,  2.272305  ],\n",
       "       [ 0.53862804, -0.530934  , -1.9987785 , -0.91859233, -0.36723208,\n",
       "         2.2502615 , -1.073384  , -0.44794333,  0.3340082 ,  0.2245567 ,\n",
       "         0.45809543,  1.0367736 ,  0.7680859 ,  0.6017739 ,  0.11380116,\n",
       "         1.9214898 , -0.7623014 , -0.60090137,  1.8395388 , -0.70191437]],\n",
       "      dtype=float32)>"
      ]
     },
     "execution_count": 118,
     "metadata": {},
     "output_type": "execute_result"
    }
   ],
   "source": [
    "x = tf.random.normal((10, 10), mean=0, stddev=1)\n",
    "tf.reshape(x, (5, 20))"
   ]
  },
  {
   "cell_type": "code",
   "execution_count": 134,
   "id": "7b04f5a1-558f-4b6d-8f6e-1ce7258ae78a",
   "metadata": {},
   "outputs": [
    {
     "data": {
      "text/plain": [
       "<tf.Tensor: shape=(100,), dtype=float32, numpy=\n",
       "array([ 0.56111425,  1.0359648 , -0.58977807, -0.5395212 ,  0.6565311 ,\n",
       "       -0.6579715 , -0.25942758, -1.428099  , -0.35046113,  0.27455246,\n",
       "        0.19478025, -0.22275297,  2.300516  ,  0.1772605 , -0.18402515,\n",
       "       -0.45213646, -0.40693247, -0.7223754 ,  1.3013469 , -0.7209942 ,\n",
       "        0.7426536 ,  0.13615033, -1.2078818 ,  0.53590417, -0.36728287,\n",
       "       -0.6067294 , -0.57007533, -0.27831343, -0.26186824,  0.7626018 ,\n",
       "       -0.49655968, -0.48587164, -1.5967826 ,  1.0941924 ,  1.5715564 ,\n",
       "        0.34718928, -0.18806739, -0.02823845,  0.47472262, -0.39610493,\n",
       "       -0.29982597, -1.551282  ,  0.03373977, -0.4026061 , -0.43398196,\n",
       "       -0.89420027, -1.4471576 , -0.9754947 , -0.1096547 , -0.4556048 ,\n",
       "       -0.04920565,  1.6834965 ,  0.38485113, -1.3360943 , -0.39984173,\n",
       "       -0.22382256, -0.06311096,  2.0071359 ,  0.369438  ,  1.4153416 ,\n",
       "       -0.10409493,  0.551557  , -1.9756751 ,  1.4540744 , -0.38467294,\n",
       "       -1.3208377 , -0.57036096,  0.5595743 ,  1.8183411 ,  0.15843172,\n",
       "        0.7747237 , -0.28107324,  0.9237781 ,  1.1669713 ,  0.01891707,\n",
       "       -0.7588923 ,  0.3850954 , -0.35541552, -1.5991666 ,  2.272305  ,\n",
       "        0.53862804, -0.530934  , -1.9987785 , -0.91859233, -0.36723208,\n",
       "        2.2502615 , -1.073384  , -0.44794333,  0.3340082 ,  0.2245567 ,\n",
       "        0.45809543,  1.0367736 ,  0.7680859 ,  0.6017739 ,  0.11380116,\n",
       "        1.9214898 , -0.7623014 , -0.60090137,  1.8395388 , -0.70191437],\n",
       "      dtype=float32)>"
      ]
     },
     "execution_count": 134,
     "metadata": {},
     "output_type": "execute_result"
    }
   ],
   "source": [
    "# Flatten tensor\n",
    "tf.reshape(x, -1)"
   ]
  },
  {
   "cell_type": "code",
   "execution_count": 136,
   "id": "cfcdb792-b6cd-4cf0-9e84-c1e88aa1b36c",
   "metadata": {},
   "outputs": [
    {
     "data": {
      "text/plain": [
       "<matplotlib.collections.PathCollection at 0x231cb5b6690>"
      ]
     },
     "execution_count": 136,
     "metadata": {},
     "output_type": "execute_result"
    },
    {
     "data": {
      "image/png": "[encoded data removed]",
      "text/plain": [
       "<Figure size 640x480 with 1 Axes>"
      ]
     },
     "metadata": {},
     "output_type": "display_data"
    }
   ],
   "source": [
    "plt.scatter(x, y=np.zeros(x.shape))"
   ]
  },
  {
   "cell_type": "code",
   "execution_count": 164,
   "id": "33e6ab70-0d97-44fe-9f17-2c9c30db4891",
   "metadata": {},
   "outputs": [
    {
     "data": {
      "text/plain": [
       "<tf.Tensor: shape=(5,), dtype=int32, numpy=array([1, 3, 5, 7, 9])>"
      ]
     },
     "execution_count": 164,
     "metadata": {},
     "output_type": "execute_result"
    }
   ],
   "source": [
    "#Range\n",
    "x = tf.range(start=1, limit=10, delta=2, dtype=tf.int32)\n",
    "x"
   ]
  },
  {
   "cell_type": "code",
   "execution_count": 168,
   "id": "e77e7c41-e11b-45eb-8974-39c5be487417",
   "metadata": {},
   "outputs": [
    {
     "data": {
      "text/plain": [
       "<tf.Tensor: shape=(5,), dtype=float32, numpy=array([1., 3., 5., 7., 9.], dtype=float32)>"
      ]
     },
     "execution_count": 168,
     "metadata": {},
     "output_type": "execute_result"
    }
   ],
   "source": [
    "#Casting\n",
    "tf.cast(x, dtype=tf.float32)"
   ]
  },
  {
   "cell_type": "code",
   "execution_count": 190,
   "id": "c08ac957-f692-495f-b4a4-3336f006a5cf",
   "metadata": {},
   "outputs": [
    {
     "name": "stdout",
     "output_type": "stream",
     "text": [
      "tf.Tensor([5 7 9], shape=(3,), dtype=int32)\n",
      "tf.Tensor([ 4 10 18], shape=(3,), dtype=int32)\n",
      "tf.Tensor([  1  32 729], shape=(3,), dtype=int32)\n"
     ]
    }
   ],
   "source": [
    "#Operations\n",
    "x = tf.constant([1, 2, 3])\n",
    "y = tf.constant([4, 5, 6])\n",
    "\n",
    "print(x + y)\n",
    "print(x * y)\n",
    "print(x ** y)"
   ]
  },
  {
   "cell_type": "code",
   "execution_count": 186,
   "id": "e073bb3f-d302-40bd-a5d5-0d77c0cb5b44",
   "metadata": {},
   "outputs": [
    {
     "name": "stdout",
     "output_type": "stream",
     "text": [
      "tf.Tensor(\n",
      "[[ 4  5  6]\n",
      " [ 8 10 12]\n",
      " [12 15 18]], shape=(3, 3), dtype=int32)\n",
      "tf.Tensor(32, shape=(), dtype=int32)\n"
     ]
    }
   ],
   "source": [
    "#Tensor product\n",
    "print(tf.tensordot(x, y, axes=0)) #nhân từng hàng của y với từng phần tử của x\n",
    "print(tf.tensordot(x, y, axes=1)) #tích vô hướng"
   ]
  },
  {
   "cell_type": "code",
   "execution_count": 194,
   "id": "a37a95c3-70dd-465f-b6df-b0957b6f5023",
   "metadata": {},
   "outputs": [
    {
     "name": "stdout",
     "output_type": "stream",
     "text": [
      "tf.Tensor(\n",
      "[[ 1.4439145   5.625133    0.8930964  -4.029399   -0.6087347   0.8837491 ]\n",
      " [ 1.5251596   5.083653    0.5007268  -2.1305778   0.16478205  0.4130191 ]\n",
      " [-0.18892959 -2.3940527  -0.9722048   4.6347513   1.6406283  -1.1213937 ]], shape=(3, 6), dtype=float32)\n",
      "tf.Tensor(\n",
      "[[ 1.4439145   5.625133    0.8930964  -4.029399   -0.6087347   0.8837491 ]\n",
      " [ 1.5251596   5.083653    0.5007268  -2.1305778   0.16478205  0.4130191 ]\n",
      " [-0.18892959 -2.3940527  -0.9722048   4.6347513   1.6406283  -1.1213937 ]], shape=(3, 6), dtype=float32)\n"
     ]
    }
   ],
   "source": [
    "x = tf.random.normal(shape=(3, 2))\n",
    "y = tf.random.normal(shape=(2, 6))\n",
    "print(tf.matmul(x, y))\n",
    "print(x @ y)"
   ]
  },
  {
   "cell_type": "code",
   "execution_count": 242,
   "id": "103b2492-4d5b-4a28-b430-18c4a38116bc",
   "metadata": {},
   "outputs": [
    {
     "name": "stdout",
     "output_type": "stream",
     "text": [
      "[[False False False False  True]\n",
      " [False False False False  True]]\n",
      "[ True False]\n"
     ]
    },
    {
     "data": {
      "text/plain": [
       "array([[1, 2, 4, 4, 6]])"
      ]
     },
     "execution_count": 242,
     "metadata": {},
     "output_type": "execute_result"
    }
   ],
   "source": [
    "#Indexing\n",
    "import numpy as np\n",
    "\n",
    "x = np.array([[1, 2, 4, 4, 6], [1, 2, 3, 4, 5]])\n",
    "print(x > 4)\n",
    "print(x[:, 4] == 6)\n",
    "x[x[:, 4] == 6] # các hàng mà vị trí cột 5 có giá trị == 6"
   ]
  },
  {
   "cell_type": "code",
   "execution_count": 244,
   "id": "78bf35a6-2db7-475c-9dc0-826c77e34016",
   "metadata": {},
   "outputs": [
    {
     "name": "stdout",
     "output_type": "stream",
     "text": [
      "tf.Tensor(\n",
      "[[False False False False  True]\n",
      " [False False False False  True]], shape=(2, 5), dtype=bool)\n",
      "tf.Tensor([ True False], shape=(2,), dtype=bool)\n"
     ]
    },
    {
     "data": {
      "text/plain": [
       "<tf.Tensor: shape=(1, 5), dtype=int32, numpy=array([[1, 2, 4, 4, 6]])>"
      ]
     },
     "execution_count": 244,
     "metadata": {},
     "output_type": "execute_result"
    }
   ],
   "source": [
    "x = tf.constant(x)\n",
    "print(x > 4)\n",
    "print(x[:, 4] == 6)\n",
    "x[x[:, 4] == 6] # các hàng mà vị trí cột 5 có giá trị == 6"
   ]
  },
  {
   "cell_type": "code",
   "execution_count": 246,
   "id": "94be92ee-6c0d-4c75-b109-863aac9a4598",
   "metadata": {},
   "outputs": [
    {
     "data": {
      "text/plain": [
       "array([2, 3, 5])"
      ]
     },
     "execution_count": 246,
     "metadata": {},
     "output_type": "execute_result"
    }
   ],
   "source": [
    "x = np.array([1, 2, 3, 4, 5])\n",
    "indices = [1, 2, 4]\n",
    "x[indices]"
   ]
  },
  {
   "cell_type": "code",
   "execution_count": 252,
   "id": "4521412a-4807-4b0a-83bc-04a22c504b4d",
   "metadata": {},
   "outputs": [
    {
     "data": {
      "text/plain": [
       "<tf.Tensor: shape=(3,), dtype=int32, numpy=array([2, 3, 5])>"
      ]
     },
     "execution_count": 252,
     "metadata": {},
     "output_type": "execute_result"
    }
   ],
   "source": [
    "x = tf.constant(x)\n",
    "indices = [1, 2, 4]\n",
    "tf.gather(x, indices)"
   ]
  }
 ],
 "metadata": {
  "kernelspec": {
   "display_name": "Python 3 (ipykernel)",
   "language": "python",
   "name": "python3"
  },
  "language_info": {
   "codemirror_mode": {
    "name": "ipython",
    "version": 3
   },
   "file_extension": ".py",
   "mimetype": "text/x-python",
   "name": "python",
   "nbconvert_exporter": "python",
   "pygments_lexer": "ipython3",
   "version": "3.12.4"
  }
 },
 "nbformat": 4,
 "nbformat_minor": 5
}
