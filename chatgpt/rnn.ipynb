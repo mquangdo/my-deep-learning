{
 "cells": [
  {
   "cell_type": "code",
   "execution_count": 1,
   "id": "c8928f14-40f9-40a8-b782-aed29c65e346",
   "metadata": {},
   "outputs": [],
   "source": [
    "import numpy as np\n",
    "import tensorflow as tf\n",
    "from tensorflow.keras import Sequential\n",
    "from tensorflow.keras.layers import SimpleRNN, Dense"
   ]
  },
  {
   "cell_type": "code",
   "execution_count": 2,
   "id": "5f595e3b-52f0-47a2-900e-d4151abac3f5",
   "metadata": {},
   "outputs": [],
   "source": [
    "# Tạo dữ liệu giả lập (chuỗi thời gian)\n",
    "def generate_data(seq_length, num_samples):\n",
    "    X = []\n",
    "    y = []\n",
    "    for _ in range(num_samples):\n",
    "        sequence = np.sin(np.linspace(0, 2 * np.pi, seq_length))\n",
    "        noise = np.random.normal(0, 0.1, seq_length)\n",
    "        sequence += noise  # Thêm nhiễu\n",
    "        X.append(sequence[:-1])  # Tất cả trừ phần tử cuối\n",
    "        y.append(sequence[-1])   # Phần tử cuối là nhãn\n",
    "    return np.array(X), np.array(y)"
   ]
  },
  {
   "cell_type": "code",
   "execution_count": 3,
   "id": "08086706-35fd-47e0-beae-671519db3f11",
   "metadata": {},
   "outputs": [],
   "source": [
    "# Tham số\n",
    "seq_length = 50\n",
    "num_samples = 1000\n",
    "\n",
    "# Tạo dữ liệu\n",
    "X, y = generate_data(seq_length, num_samples)\n",
    "\n",
    "# Chuyển đổi dữ liệu để phù hợp với đầu vào RNN\n",
    "X = X.reshape((X.shape[0], X.shape[1], 1))  # (số mẫu, độ dài chuỗi, số đặc trưng)"
   ]
  },
  {
   "cell_type": "code",
   "execution_count": 4,
   "id": "3b33cb30-04d7-452b-957b-70f3f2e38f0f",
   "metadata": {},
   "outputs": [
    {
     "data": {
      "text/plain": [
       "(1000, 49, 1)"
      ]
     },
     "execution_count": 4,
     "metadata": {},
     "output_type": "execute_result"
    }
   ],
   "source": [
    "X.shape"
   ]
  },
  {
   "cell_type": "code",
   "execution_count": 5,
   "id": "b00c8c27-c8af-48da-af82-c34409f09a93",
   "metadata": {},
   "outputs": [
    {
     "data": {
      "text/plain": [
       "(1000,)"
      ]
     },
     "execution_count": 5,
     "metadata": {},
     "output_type": "execute_result"
    }
   ],
   "source": [
    "y.shape"
   ]
  },
  {
   "cell_type": "code",
   "execution_count": 6,
   "id": "e646a36f-18a2-44d6-ac28-7b13f6d165db",
   "metadata": {},
   "outputs": [
    {
     "name": "stderr",
     "output_type": "stream",
     "text": [
      "C:\\Users\\ASUS\\anaconda3\\Lib\\site-packages\\keras\\src\\layers\\rnn\\rnn.py:204: UserWarning: Do not pass an `input_shape`/`input_dim` argument to a layer. When using Sequential models, prefer using an `Input(shape)` object as the first layer in the model instead.\n",
      "  super().__init__(**kwargs)\n"
     ]
    }
   ],
   "source": [
    "\n",
    "# Xây dựng mô hình RNN\n",
    "model = Sequential([\n",
    "    SimpleRNN(50, activation='tanh', input_shape=(seq_length-1, 1)),\n",
    "    Dense(1)  # Dự đoán một giá trị\n",
    "])\n",
    "\n",
    "# Biên dịch mô hình\n",
    "model.compile(optimizer='adam', loss='mse', metrics=['mae'])\n"
   ]
  },
  {
   "cell_type": "code",
   "execution_count": 7,
   "id": "20a907f7-1030-4a07-9ab4-85a4836b17f9",
   "metadata": {},
   "outputs": [
    {
     "name": "stdout",
     "output_type": "stream",
     "text": [
      "Epoch 1/20\n",
      "\u001b[1m25/25\u001b[0m \u001b[32m━━━━━━━━━━━━━━━━━━━━\u001b[0m\u001b[37m\u001b[0m \u001b[1m2s\u001b[0m 15ms/step - loss: 0.3206 - mae: 0.4229 - val_loss: 0.0131 - val_mae: 0.0928\n",
      "Epoch 2/20\n",
      "\u001b[1m25/25\u001b[0m \u001b[32m━━━━━━━━━━━━━━━━━━━━\u001b[0m\u001b[37m\u001b[0m \u001b[1m0s\u001b[0m 6ms/step - loss: 0.0121 - mae: 0.0871 - val_loss: 0.0107 - val_mae: 0.0830\n",
      "Epoch 3/20\n",
      "\u001b[1m25/25\u001b[0m \u001b[32m━━━━━━━━━━━━━━━━━━━━\u001b[0m\u001b[37m\u001b[0m \u001b[1m0s\u001b[0m 5ms/step - loss: 0.0105 - mae: 0.0815 - val_loss: 0.0091 - val_mae: 0.0762\n",
      "Epoch 4/20\n",
      "\u001b[1m25/25\u001b[0m \u001b[32m━━━━━━━━━━━━━━━━━━━━\u001b[0m\u001b[37m\u001b[0m \u001b[1m0s\u001b[0m 6ms/step - loss: 0.0100 - mae: 0.0793 - val_loss: 0.0096 - val_mae: 0.0778\n",
      "Epoch 5/20\n",
      "\u001b[1m25/25\u001b[0m \u001b[32m━━━━━━━━━━━━━━━━━━━━\u001b[0m\u001b[37m\u001b[0m \u001b[1m0s\u001b[0m 6ms/step - loss: 0.0115 - mae: 0.0853 - val_loss: 0.0088 - val_mae: 0.0745\n",
      "Epoch 6/20\n",
      "\u001b[1m25/25\u001b[0m \u001b[32m━━━━━━━━━━━━━━━━━━━━\u001b[0m\u001b[37m\u001b[0m \u001b[1m0s\u001b[0m 6ms/step - loss: 0.0099 - mae: 0.0782 - val_loss: 0.0092 - val_mae: 0.0762\n",
      "Epoch 7/20\n",
      "\u001b[1m25/25\u001b[0m \u001b[32m━━━━━━━━━━━━━━━━━━━━\u001b[0m\u001b[37m\u001b[0m \u001b[1m0s\u001b[0m 7ms/step - loss: 0.0098 - mae: 0.0780 - val_loss: 0.0091 - val_mae: 0.0757\n",
      "Epoch 8/20\n",
      "\u001b[1m25/25\u001b[0m \u001b[32m━━━━━━━━━━━━━━━━━━━━\u001b[0m\u001b[37m\u001b[0m \u001b[1m0s\u001b[0m 6ms/step - loss: 0.0097 - mae: 0.0777 - val_loss: 0.0089 - val_mae: 0.0745\n",
      "Epoch 9/20\n",
      "\u001b[1m25/25\u001b[0m \u001b[32m━━━━━━━━━━━━━━━━━━━━\u001b[0m\u001b[37m\u001b[0m \u001b[1m0s\u001b[0m 5ms/step - loss: 0.0096 - mae: 0.0785 - val_loss: 0.0088 - val_mae: 0.0741\n",
      "Epoch 10/20\n",
      "\u001b[1m25/25\u001b[0m \u001b[32m━━━━━━━━━━━━━━━━━━━━\u001b[0m\u001b[37m\u001b[0m \u001b[1m0s\u001b[0m 7ms/step - loss: 0.0101 - mae: 0.0792 - val_loss: 0.0088 - val_mae: 0.0743\n",
      "Epoch 11/20\n",
      "\u001b[1m25/25\u001b[0m \u001b[32m━━━━━━━━━━━━━━━━━━━━\u001b[0m\u001b[37m\u001b[0m \u001b[1m0s\u001b[0m 6ms/step - loss: 0.0103 - mae: 0.0811 - val_loss: 0.0086 - val_mae: 0.0731\n",
      "Epoch 12/20\n",
      "\u001b[1m25/25\u001b[0m \u001b[32m━━━━━━━━━━━━━━━━━━━━\u001b[0m\u001b[37m\u001b[0m \u001b[1m0s\u001b[0m 4ms/step - loss: 0.0103 - mae: 0.0815 - val_loss: 0.0087 - val_mae: 0.0735\n",
      "Epoch 13/20\n",
      "\u001b[1m25/25\u001b[0m \u001b[32m━━━━━━━━━━━━━━━━━━━━\u001b[0m\u001b[37m\u001b[0m \u001b[1m0s\u001b[0m 6ms/step - loss: 0.0101 - mae: 0.0780 - val_loss: 0.0087 - val_mae: 0.0737\n",
      "Epoch 14/20\n",
      "\u001b[1m25/25\u001b[0m \u001b[32m━━━━━━━━━━━━━━━━━━━━\u001b[0m\u001b[37m\u001b[0m \u001b[1m0s\u001b[0m 6ms/step - loss: 0.0097 - mae: 0.0780 - val_loss: 0.0086 - val_mae: 0.0735\n",
      "Epoch 15/20\n",
      "\u001b[1m25/25\u001b[0m \u001b[32m━━━━━━━━━━━━━━━━━━━━\u001b[0m\u001b[37m\u001b[0m \u001b[1m0s\u001b[0m 7ms/step - loss: 0.0094 - mae: 0.0752 - val_loss: 0.0086 - val_mae: 0.0736\n",
      "Epoch 16/20\n",
      "\u001b[1m25/25\u001b[0m \u001b[32m━━━━━━━━━━━━━━━━━━━━\u001b[0m\u001b[37m\u001b[0m \u001b[1m0s\u001b[0m 6ms/step - loss: 0.0099 - mae: 0.0783 - val_loss: 0.0086 - val_mae: 0.0738\n",
      "Epoch 17/20\n",
      "\u001b[1m25/25\u001b[0m \u001b[32m━━━━━━━━━━━━━━━━━━━━\u001b[0m\u001b[37m\u001b[0m \u001b[1m0s\u001b[0m 6ms/step - loss: 0.0099 - mae: 0.0801 - val_loss: 0.0097 - val_mae: 0.0784\n",
      "Epoch 18/20\n",
      "\u001b[1m25/25\u001b[0m \u001b[32m━━━━━━━━━━━━━━━━━━━━\u001b[0m\u001b[37m\u001b[0m \u001b[1m0s\u001b[0m 7ms/step - loss: 0.0100 - mae: 0.0796 - val_loss: 0.0087 - val_mae: 0.0740\n",
      "Epoch 19/20\n",
      "\u001b[1m25/25\u001b[0m \u001b[32m━━━━━━━━━━━━━━━━━━━━\u001b[0m\u001b[37m\u001b[0m \u001b[1m0s\u001b[0m 7ms/step - loss: 0.0099 - mae: 0.0802 - val_loss: 0.0087 - val_mae: 0.0738\n",
      "Epoch 20/20\n",
      "\u001b[1m25/25\u001b[0m \u001b[32m━━━━━━━━━━━━━━━━━━━━\u001b[0m\u001b[37m\u001b[0m \u001b[1m0s\u001b[0m 7ms/step - loss: 0.0093 - mae: 0.0763 - val_loss: 0.0087 - val_mae: 0.0743\n"
     ]
    }
   ],
   "source": [
    "# Huấn luyện mô hình\n",
    "history = model.fit(X, y, epochs=20, batch_size=32, validation_split=0.2)"
   ]
  },
  {
   "cell_type": "code",
   "execution_count": 8,
   "id": "09a2e84c-8545-4306-b790-8c412e1be2c8",
   "metadata": {},
   "outputs": [
    {
     "data": {
      "text/plain": [
       "<Axes: >"
      ]
     },
     "execution_count": 8,
     "metadata": {},
     "output_type": "execute_result"
    },
    {
     "data": {
      "image/png": "[encoded data removed]",
      "text/plain": [
       "<Figure size 640x480 with 1 Axes>"
      ]
     },
     "metadata": {},
     "output_type": "display_data"
    }
   ],
   "source": [
    "import pandas as pd\n",
    "\n",
    "pd.DataFrame(history.history).plot()"
   ]
  },
  {
   "cell_type": "code",
   "execution_count": 9,
   "id": "fc49881e-ef8b-49a8-975d-0f40c5cb6dfc",
   "metadata": {},
   "outputs": [
    {
     "name": "stdout",
     "output_type": "stream",
     "text": [
      "\u001b[1m1/1\u001b[0m \u001b[32m━━━━━━━━━━━━━━━━━━━━\u001b[0m\u001b[37m\u001b[0m \u001b[1m0s\u001b[0m 73ms/step\n"
     ]
    },
    {
     "data": {
      "text/plain": [
       "array([[0.01376619]], dtype=float32)"
      ]
     },
     "execution_count": 9,
     "metadata": {},
     "output_type": "execute_result"
    }
   ],
   "source": [
    "# Dự đoán thử nghiệm\n",
    "test_input = np.sin(np.linspace(0, 2 * np.pi, seq_length - 1)).reshape((1, seq_length-1, 1))\n",
    "prediction = model.predict(test_input)\n",
    "prediction"
   ]
  },
  {
   "cell_type": "code",
   "execution_count": 10,
   "id": "a2e9c6f6-5076-4ecd-a541-f56c4446f967",
   "metadata": {},
   "outputs": [
    {
     "name": "stdout",
     "output_type": "stream",
     "text": [
      "\u001b[1m32/32\u001b[0m \u001b[32m━━━━━━━━━━━━━━━━━━━━\u001b[0m\u001b[37m\u001b[0m \u001b[1m0s\u001b[0m 3ms/step\n"
     ]
    }
   ],
   "source": [
    "y_pred = model.predict(X)"
   ]
  },
  {
   "cell_type": "code",
   "execution_count": 11,
   "id": "eb2acd23-5d5f-4e7a-b815-524c9fb7ea4e",
   "metadata": {},
   "outputs": [
    {
     "data": {
      "text/html": [
       "<div>\n",
       "<style scoped>\n",
       "    .dataframe tbody tr th:only-of-type {\n",
       "        vertical-align: middle;\n",
       "    }\n",
       "\n",
       "    .dataframe tbody tr th {\n",
       "        vertical-align: top;\n",
       "    }\n",
       "\n",
       "    .dataframe thead th {\n",
       "        text-align: right;\n",
       "    }\n",
       "</style>\n",
       "<table border=\"1\" class=\"dataframe\">\n",
       "  <thead>\n",
       "    <tr style=\"text-align: right;\">\n",
       "      <th></th>\n",
       "      <th>0</th>\n",
       "      <th>1</th>\n",
       "    </tr>\n",
       "  </thead>\n",
       "  <tbody>\n",
       "    <tr>\n",
       "      <th>0</th>\n",
       "      <td>0.05813</td>\n",
       "      <td>[-0.013391095]</td>\n",
       "    </tr>\n",
       "    <tr>\n",
       "      <th>1</th>\n",
       "      <td>0.074702</td>\n",
       "      <td>[-0.0023960276]</td>\n",
       "    </tr>\n",
       "    <tr>\n",
       "      <th>2</th>\n",
       "      <td>-0.122623</td>\n",
       "      <td>[0.015525253]</td>\n",
       "    </tr>\n",
       "    <tr>\n",
       "      <th>3</th>\n",
       "      <td>-0.058923</td>\n",
       "      <td>[0.003993408]</td>\n",
       "    </tr>\n",
       "    <tr>\n",
       "      <th>4</th>\n",
       "      <td>0.037888</td>\n",
       "      <td>[0.01750876]</td>\n",
       "    </tr>\n",
       "    <tr>\n",
       "      <th>5</th>\n",
       "      <td>-0.030344</td>\n",
       "      <td>[-0.0034303898]</td>\n",
       "    </tr>\n",
       "    <tr>\n",
       "      <th>6</th>\n",
       "      <td>-0.022052</td>\n",
       "      <td>[0.0031910343]</td>\n",
       "    </tr>\n",
       "    <tr>\n",
       "      <th>7</th>\n",
       "      <td>0.079873</td>\n",
       "      <td>[-0.008604261]</td>\n",
       "    </tr>\n",
       "    <tr>\n",
       "      <th>8</th>\n",
       "      <td>0.121836</td>\n",
       "      <td>[-0.0029491456]</td>\n",
       "    </tr>\n",
       "    <tr>\n",
       "      <th>9</th>\n",
       "      <td>0.062735</td>\n",
       "      <td>[0.01945709]</td>\n",
       "    </tr>\n",
       "    <tr>\n",
       "      <th>10</th>\n",
       "      <td>0.080513</td>\n",
       "      <td>[-0.014119829]</td>\n",
       "    </tr>\n",
       "    <tr>\n",
       "      <th>11</th>\n",
       "      <td>-0.18605</td>\n",
       "      <td>[-0.026178088]</td>\n",
       "    </tr>\n",
       "    <tr>\n",
       "      <th>12</th>\n",
       "      <td>0.046138</td>\n",
       "      <td>[-0.0059766127]</td>\n",
       "    </tr>\n",
       "    <tr>\n",
       "      <th>13</th>\n",
       "      <td>-0.123186</td>\n",
       "      <td>[0.009977383]</td>\n",
       "    </tr>\n",
       "    <tr>\n",
       "      <th>14</th>\n",
       "      <td>0.253832</td>\n",
       "      <td>[-0.009570039]</td>\n",
       "    </tr>\n",
       "    <tr>\n",
       "      <th>15</th>\n",
       "      <td>0.065243</td>\n",
       "      <td>[0.0145820575]</td>\n",
       "    </tr>\n",
       "    <tr>\n",
       "      <th>16</th>\n",
       "      <td>-0.182289</td>\n",
       "      <td>[-0.022551998]</td>\n",
       "    </tr>\n",
       "    <tr>\n",
       "      <th>17</th>\n",
       "      <td>-0.028175</td>\n",
       "      <td>[0.0021189088]</td>\n",
       "    </tr>\n",
       "    <tr>\n",
       "      <th>18</th>\n",
       "      <td>-0.070392</td>\n",
       "      <td>[-0.033599764]</td>\n",
       "    </tr>\n",
       "    <tr>\n",
       "      <th>19</th>\n",
       "      <td>0.061184</td>\n",
       "      <td>[-0.01714776]</td>\n",
       "    </tr>\n",
       "    <tr>\n",
       "      <th>20</th>\n",
       "      <td>0.042435</td>\n",
       "      <td>[0.0032081725]</td>\n",
       "    </tr>\n",
       "    <tr>\n",
       "      <th>21</th>\n",
       "      <td>-0.112768</td>\n",
       "      <td>[0.01265473]</td>\n",
       "    </tr>\n",
       "    <tr>\n",
       "      <th>22</th>\n",
       "      <td>0.058893</td>\n",
       "      <td>[0.01713125]</td>\n",
       "    </tr>\n",
       "    <tr>\n",
       "      <th>23</th>\n",
       "      <td>-0.007853</td>\n",
       "      <td>[0.018706495]</td>\n",
       "    </tr>\n",
       "    <tr>\n",
       "      <th>24</th>\n",
       "      <td>-0.036424</td>\n",
       "      <td>[0.030213293]</td>\n",
       "    </tr>\n",
       "    <tr>\n",
       "      <th>25</th>\n",
       "      <td>0.093448</td>\n",
       "      <td>[0.016100626]</td>\n",
       "    </tr>\n",
       "    <tr>\n",
       "      <th>26</th>\n",
       "      <td>0.017452</td>\n",
       "      <td>[-0.000990062]</td>\n",
       "    </tr>\n",
       "    <tr>\n",
       "      <th>27</th>\n",
       "      <td>-0.093737</td>\n",
       "      <td>[0.0025018463]</td>\n",
       "    </tr>\n",
       "    <tr>\n",
       "      <th>28</th>\n",
       "      <td>0.219003</td>\n",
       "      <td>[0.017324105]</td>\n",
       "    </tr>\n",
       "    <tr>\n",
       "      <th>29</th>\n",
       "      <td>0.07525</td>\n",
       "      <td>[0.010178176]</td>\n",
       "    </tr>\n",
       "  </tbody>\n",
       "</table>\n",
       "</div>"
      ],
      "text/plain": [
       "           0                1\n",
       "0    0.05813   [-0.013391095]\n",
       "1   0.074702  [-0.0023960276]\n",
       "2  -0.122623    [0.015525253]\n",
       "3  -0.058923    [0.003993408]\n",
       "4   0.037888     [0.01750876]\n",
       "5  -0.030344  [-0.0034303898]\n",
       "6  -0.022052   [0.0031910343]\n",
       "7   0.079873   [-0.008604261]\n",
       "8   0.121836  [-0.0029491456]\n",
       "9   0.062735     [0.01945709]\n",
       "10  0.080513   [-0.014119829]\n",
       "11  -0.18605   [-0.026178088]\n",
       "12  0.046138  [-0.0059766127]\n",
       "13 -0.123186    [0.009977383]\n",
       "14  0.253832   [-0.009570039]\n",
       "15  0.065243   [0.0145820575]\n",
       "16 -0.182289   [-0.022551998]\n",
       "17 -0.028175   [0.0021189088]\n",
       "18 -0.070392   [-0.033599764]\n",
       "19  0.061184    [-0.01714776]\n",
       "20  0.042435   [0.0032081725]\n",
       "21 -0.112768     [0.01265473]\n",
       "22  0.058893     [0.01713125]\n",
       "23 -0.007853    [0.018706495]\n",
       "24 -0.036424    [0.030213293]\n",
       "25  0.093448    [0.016100626]\n",
       "26  0.017452   [-0.000990062]\n",
       "27 -0.093737   [0.0025018463]\n",
       "28  0.219003    [0.017324105]\n",
       "29   0.07525    [0.010178176]"
      ]
     },
     "execution_count": 11,
     "metadata": {},
     "output_type": "execute_result"
    }
   ],
   "source": [
    "pd.DataFrame([y, y_pred]).T.head(30)"
   ]
  },
  {
   "cell_type": "markdown",
   "id": "9230453e-1ac2-460c-9622-195c5c7b3245",
   "metadata": {},
   "source": [
    "![Ảnh minh họa](img/rnn.png)"
   ]
  },
  {
   "cell_type": "code",
   "execution_count": 251,
   "id": "1ff9b6d1-235e-40f0-ac82-14aa867103e3",
   "metadata": {},
   "outputs": [],
   "source": [
    "inputs = np.random.random([2, 3, 1]).astype(np.float32) #số chiều phải là (số mẫu, độ dài chuỗi, số đặc trưng)"
   ]
  },
  {
   "cell_type": "code",
   "execution_count": 253,
   "id": "2d9b3828-8450-4727-a5dd-ab8122915560",
   "metadata": {},
   "outputs": [
    {
     "name": "stdout",
     "output_type": "stream",
     "text": [
      "(<tf.Tensor: shape=(2, 3, 4), dtype=float32, numpy=\n",
      "array([[[ 0.08149791,  0.27664125, -0.09519787,  0.2998307 ],\n",
      "        [ 0.29433963,  0.28679547, -0.07361862,  0.25406042],\n",
      "        [ 0.37278882,  0.43779722, -0.01847421,  0.17653778]],\n",
      "\n",
      "       [[ 0.14859271,  0.478155  , -0.17324315,  0.51311237],\n",
      "        [ 0.56352615,  0.7049257 , -0.24883671,  0.68647695],\n",
      "        [ 0.7275301 ,  0.7611121 , -0.12319173,  0.4431913 ]]],\n",
      "      dtype=float32)>, <tf.Tensor: shape=(2, 4), dtype=float32, numpy=\n",
      "array([[ 0.37278882,  0.43779722, -0.01847421,  0.17653778],\n",
      "       [ 0.7275301 ,  0.7611121 , -0.12319173,  0.4431913 ]],\n",
      "      dtype=float32)>)\n"
     ]
    }
   ],
   "source": [
    "simple_rnn = tf.keras.layers.SimpleRNN(4, return_sequences=True, return_state=True) #vector output tại mỗi state có 4 chiều\n",
    "\n",
    "output = simple_rnn(inputs)\n",
    "\n",
    "print(output)\n",
    "# print(\"====\")\n",
    "# print(state)\n",
    "\n",
    "\n",
    "\n",
    "# inputs = np.random.random([2, 3, 1]).astype(np.float32) #số chiều phải là (số mẫu, độ dài chuỗi, số đặc trưng)\n",
    "# simple_rnn = tf.keras.layers.SimpleRNN(4, return_state=True, return_sequences=True)\n",
    "\n",
    "# output, state = simple_rnn(inputs)\n",
    "\n",
    "# print(output)\n",
    "# print(\"====\")\n",
    "# print(state)"
   ]
  },
  {
   "cell_type": "markdown",
   "id": "8e2de1cd-2e1b-42a6-bddb-d65d9dcf0b60",
   "metadata": {},
   "source": [
    "**Chú ý rằng với mỗi một điểm dữ liệu, hidden_state trả về giống hệt output của time step cuối cùng.**"
   ]
  },
  {
   "cell_type": "code",
   "execution_count": 151,
   "id": "5199ee31-d853-40db-8b1f-c34a3846d8f5",
   "metadata": {},
   "outputs": [
    {
     "data": {
      "text/plain": [
       "(2, 3, 2)"
      ]
     },
     "execution_count": 151,
     "metadata": {},
     "output_type": "execute_result"
    }
   ],
   "source": [
    "inputs.shape"
   ]
  },
  {
   "cell_type": "code",
   "execution_count": 228,
   "id": "104d47b7-97ea-419a-bc03-d56504627e0f",
   "metadata": {},
   "outputs": [
    {
     "data": {
      "text/plain": [
       "array([[[0.80383277],\n",
       "        [0.09936956],\n",
       "        [0.46512628]],\n",
       "\n",
       "       [[0.06068936],\n",
       "        [0.08857133],\n",
       "        [0.7634123 ]]], dtype=float32)"
      ]
     },
     "execution_count": 228,
     "metadata": {},
     "output_type": "execute_result"
    }
   ],
   "source": [
    "inputs"
   ]
  },
  {
   "cell_type": "code",
   "execution_count": 230,
   "id": "f6d4add1-d491-42f1-afb4-4272c15037b1",
   "metadata": {},
   "outputs": [
    {
     "data": {
      "text/plain": [
       "array([[0.80383277],\n",
       "       [0.09936956],\n",
       "       [0.46512628]], dtype=float32)"
      ]
     },
     "execution_count": 230,
     "metadata": {},
     "output_type": "execute_result"
    }
   ],
   "source": [
    "inputs[0]"
   ]
  }
 ],
 "metadata": {
  "kernelspec": {
   "display_name": "Python 3 (ipykernel)",
   "language": "python",
   "name": "python3"
  },
  "language_info": {
   "codemirror_mode": {
    "name": "ipython",
    "version": 3
   },
   "file_extension": ".py",
   "mimetype": "text/x-python",
   "name": "python",
   "nbconvert_exporter": "python",
   "pygments_lexer": "ipython3",
   "version": "3.12.4"
  }
 },
 "nbformat": 4,
 "nbformat_minor": 5
}
