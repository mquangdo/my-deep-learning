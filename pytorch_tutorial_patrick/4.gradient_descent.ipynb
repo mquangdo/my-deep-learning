{
 "cells": [
  {
   "cell_type": "markdown",
   "id": "d52c91c1-0abf-4aa0-bf0c-94aa83f0cbe0",
   "metadata": {},
   "source": [
    "# Easy implementation using Numpy"
   ]
  },
  {
   "cell_type": "code",
   "execution_count": 97,
   "id": "fcfd88aa-a370-4153-a43f-0b1671b1fc6d",
   "metadata": {},
   "outputs": [],
   "source": [
    "import numpy as np"
   ]
  },
  {
   "cell_type": "code",
   "execution_count": 99,
   "id": "6296da3e-2287-4b2c-a7e0-230ed892dd66",
   "metadata": {},
   "outputs": [],
   "source": [
    "X = np.array([1, 2, 3,  4], dtype = 'float')\n",
    "Y = np.array([2, 4, 6, 8],  dtype = 'float')"
   ]
  },
  {
   "cell_type": "code",
   "execution_count": 101,
   "id": "dba900f4-48df-470a-bc0b-4102ac848a0b",
   "metadata": {},
   "outputs": [],
   "source": [
    "w = 0.0 #Trying to find w to minimize the loss function"
   ]
  },
  {
   "cell_type": "code",
   "execution_count": 103,
   "id": "a607ee01-0f5b-44bb-a92c-589cc2bda03d",
   "metadata": {},
   "outputs": [],
   "source": [
    "def forward(x):\n",
    "    return w * x"
   ]
  },
  {
   "cell_type": "code",
   "execution_count": 105,
   "id": "fd957d27-e9ca-496b-8927-b524c3c9f235",
   "metadata": {},
   "outputs": [],
   "source": [
    "def loss(y_pred, y):\n",
    "    return ((y_pred - y) ** 2).mean()"
   ]
  },
  {
   "cell_type": "code",
   "execution_count": 107,
   "id": "405fe0df-1036-4747-82d4-afeda8a0d162",
   "metadata": {},
   "outputs": [],
   "source": [
    "#dJ/dw\n",
    "def loss_prime(x, y_pred, y):\n",
    "    return np.dot(2 * x, y_pred - y).mean()"
   ]
  },
  {
   "cell_type": "code",
   "execution_count": 109,
   "id": "e88d7931-a06f-48e5-849b-83a61f51aba6",
   "metadata": {},
   "outputs": [],
   "source": [
    "lr = 0.0001\n",
    "\n",
    "for epoch in range(10000):\n",
    "    Y_pred = forward(X)\n",
    "    l = loss(Y_pred, Y)\n",
    "    dw = loss_prime(X, Y_pred, Y)\n",
    "    w -= lr * dw"
   ]
  },
  {
   "cell_type": "code",
   "execution_count": 111,
   "id": "db212cc5-753e-4755-8cf4-74c0c265cc4b",
   "metadata": {},
   "outputs": [
    {
     "data": {
      "text/plain": [
       "1.9999999999999816"
      ]
     },
     "execution_count": 111,
     "metadata": {},
     "output_type": "execute_result"
    }
   ],
   "source": [
    "w"
   ]
  },
  {
   "cell_type": "markdown",
   "id": "be0ff3e3-61e6-42e8-9fb0-addccfe4ddb5",
   "metadata": {},
   "source": [
    "# Implementation using PyTorch"
   ]
  },
  {
   "cell_type": "code",
   "execution_count": 275,
   "id": "5d560e76-571f-4a6a-9992-feae358e1a03",
   "metadata": {},
   "outputs": [],
   "source": [
    "import torch"
   ]
  },
  {
   "cell_type": "code",
   "execution_count": 289,
   "id": "37b84770-99db-4c3b-889c-c37281d3544a",
   "metadata": {},
   "outputs": [],
   "source": [
    "X = torch.tensor([1, 2, 3,  4], dtype = torch.float)\n",
    "Y = torch.tensor([2, 4, 6, 8],  dtype = torch.float)"
   ]
  },
  {
   "cell_type": "code",
   "execution_count": 291,
   "id": "786d412c-91d8-41b8-9e79-dc7429a3ff8f",
   "metadata": {},
   "outputs": [],
   "source": [
    "w = torch.tensor(0.0, requires_grad = True)"
   ]
  },
  {
   "cell_type": "code",
   "execution_count": 293,
   "id": "38598663-9d79-4473-a347-ded28244f6b3",
   "metadata": {},
   "outputs": [],
   "source": [
    "def forward(x):\n",
    "    return w * x"
   ]
  },
  {
   "cell_type": "code",
   "execution_count": 295,
   "id": "495b10fd-f5cc-4f11-bdca-93f5a4e43b3e",
   "metadata": {},
   "outputs": [],
   "source": [
    "def loss(y_pred, y):\n",
    "    return ((y_pred - y) ** 2).mean()"
   ]
  },
  {
   "cell_type": "code",
   "execution_count": 297,
   "id": "4aac6e10-f0c8-49ec-9b67-cbd049eebeed",
   "metadata": {},
   "outputs": [],
   "source": [
    "lr = 0.0001\n",
    "\n",
    "for epoch in range(10000):\n",
    "    Y_pred = forward(X)\n",
    "    l = loss(Y_pred, Y)\n",
    "    l.backward()  #phải gọi backward() trước khi sử dụng w.grad (dL/dw), trước khi gọi bakward() thì w.grad == None\n",
    "    with torch.no_grad():\n",
    "        w -= lr * w.grad\n",
    "    w.grad.zero_()"
   ]
  },
  {
   "cell_type": "code",
   "execution_count": 298,
   "id": "916e2407-4cae-4220-b00f-59b2cd719f2c",
   "metadata": {},
   "outputs": [
    {
     "data": {
      "text/plain": [
       "tensor(2.0000, requires_grad=True)"
      ]
     },
     "execution_count": 298,
     "metadata": {},
     "output_type": "execute_result"
    }
   ],
   "source": [
    "w"
   ]
  }
 ],
 "metadata": {
  "kernelspec": {
   "display_name": "Python 3 (ipykernel)",
   "language": "python",
   "name": "python3"
  },
  "language_info": {
   "codemirror_mode": {
    "name": "ipython",
    "version": 3
   },
   "file_extension": ".py",
   "mimetype": "text/x-python",
   "name": "python",
   "nbconvert_exporter": "python",
   "pygments_lexer": "ipython3",
   "version": "3.12.4"
  }
 },
 "nbformat": 4,
 "nbformat_minor": 5
}
