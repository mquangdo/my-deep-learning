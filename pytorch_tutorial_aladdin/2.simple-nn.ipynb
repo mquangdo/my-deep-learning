{
 "cells": [
  {
   "cell_type": "code",
   "execution_count": 23,
   "id": "9c14dadf-fea6-43e2-9c72-3c2a6e9e93b8",
   "metadata": {},
   "outputs": [],
   "source": [
    "import torch\n",
    "import torch.nn.functional as F  # Parameterless functions, like (some) activation functions\n",
    "import torchvision.datasets as datasets  # Standard datasets\n",
    "import torchvision.transforms as transforms  # Transformations we can perform on our dataset for augmentation\n",
    "from torch import optim  # For optimizers like SGD, Adam, etc.\n",
    "from torch import nn  # All neural network modules\n",
    "from torch.utils.data import (\n",
    "    DataLoader,\n",
    ")  # Gives easier dataset managment by creating mini batches etc.\n",
    "from tqdm import tqdm  # For nice progress bar!\n",
    "import matplotlib.pyplot as plt"
   ]
  },
  {
   "cell_type": "code",
   "execution_count": 4,
   "id": "b2b04017-3808-45c0-a7d7-132a24e428e3",
   "metadata": {},
   "outputs": [],
   "source": [
    "# Here we create our simple neural network. For more details here we are subclassing and\n",
    "# inheriting from nn.Module, this is the most general way to create your networks and\n",
    "# allows for more flexibility. I encourage you to also check out nn.Sequential which\n",
    "# would be easier to use in this scenario but I wanted to show you something that"
   ]
  },
  {
   "cell_type": "code",
   "execution_count": 181,
   "id": "ceb2855e-4e7c-4663-851d-877af286d54e",
   "metadata": {},
   "outputs": [],
   "source": [
    "class NN(nn.Module):\n",
    "    def __init__(self, input_size, num_classes):\n",
    "        \"\"\"\n",
    "        Here we define the layers of the network. We create two fully connected layers\n",
    "\n",
    "        Parameters:\n",
    "            input_size: the size of the input, in this case 784 (28x28)\n",
    "            num_classes: the number of classes we want to predict, in this case 10 (0-9)\n",
    "\n",
    "        \"\"\"\n",
    "        super().__init__()\n",
    "        # Our first linear layer take input_size, in this case 784 nodes to 50\n",
    "        # and our second linear layer takes 50 to the num_classes we have, in\n",
    "        # this case 10.\n",
    "        self.fc1 = nn.Linear(input_size, 50)\n",
    "        self.fc2 = nn.Linear(50, num_classes)\n",
    "\n",
    "    def forward(self, x):\n",
    "        \"\"\"\n",
    "        x here is the mnist images and we run it through fc1, fc2 that we created above.\n",
    "        we also add a ReLU activation function in between and for that (since it has no parameters)\n",
    "        I recommend using nn.functional (F)\n",
    "\n",
    "        Parameters:\n",
    "            x: mnist images\n",
    "\n",
    "        Returns:\n",
    "            out: the output of the network\n",
    "        \"\"\"\n",
    "\n",
    "        x = F.relu(self.fc1(x))\n",
    "        x = self.fc2(x)\n",
    "        return x"
   ]
  },
  {
   "cell_type": "code",
   "execution_count": 183,
   "id": "c6cdf823-6442-468b-832c-db490686825c",
   "metadata": {},
   "outputs": [],
   "source": [
    "# Hyperparameters\n",
    "input_size = 784\n",
    "num_classes = 10\n",
    "learning_rate = 0.001\n",
    "batch_size = 64\n",
    "num_epochs = 1"
   ]
  },
  {
   "cell_type": "code",
   "execution_count": 185,
   "id": "389dfbfd-45e1-4f3f-bca8-5d3cc80112db",
   "metadata": {},
   "outputs": [],
   "source": [
    "# Load Data\n",
    "train_dataset = datasets.MNIST(\n",
    "    root=\"dataset/\", train=True, transform=transforms.ToTensor(), download=True\n",
    ")\n",
    "test_dataset = datasets.MNIST(\n",
    "    root=\"dataset/\", train=False, transform=transforms.ToTensor(), download=True\n",
    ")\n",
    "train_loader = DataLoader(dataset=train_dataset, batch_size=batch_size, shuffle=True)\n",
    "test_loader = DataLoader(dataset=test_dataset, batch_size=batch_size, shuffle=True)"
   ]
  },
  {
   "cell_type": "code",
   "execution_count": 187,
   "id": "2871ff9a-49cb-4596-9efb-38fd90cb1fe6",
   "metadata": {},
   "outputs": [],
   "source": [
    "# Initialize network\n",
    "model = NN(input_size=input_size, num_classes=num_classes)"
   ]
  },
  {
   "cell_type": "code",
   "execution_count": 189,
   "id": "419e8634-c3f8-48c7-8531-0a46de426a6a",
   "metadata": {},
   "outputs": [],
   "source": [
    "# Loss and optimizer\n",
    "criterion = nn.CrossEntropyLoss()\n",
    "optimizer = optim.Adam(model.parameters(), lr=learning_rate)"
   ]
  },
  {
   "cell_type": "code",
   "execution_count": 191,
   "id": "df9874b9-9487-46fe-98d9-38df585956f1",
   "metadata": {},
   "outputs": [
    {
     "name": "stderr",
     "output_type": "stream",
     "text": [
      "100%|████████████████████████████████████████████████████████████████████████████████| 938/938 [01:59<00:00,  7.85it/s]\n"
     ]
    }
   ],
   "source": [
    "# Train Network\n",
    "for epoch in range(num_epochs):\n",
    "    for batch_idx, (data, targets) in enumerate(tqdm(train_loader)):\n",
    "        # Get to correct shape\n",
    "        data = data.reshape(data.shape[0], -1)\n",
    "\n",
    "        # Forward\n",
    "        scores = model(data)\n",
    "        loss = criterion(scores, targets)\n",
    "\n",
    "        # Backward\n",
    "        optimizer.zero_grad()\n",
    "        loss.backward()\n",
    "\n",
    "        # Gradient descent or adam step\n",
    "        optimizer.step()\n"
   ]
  },
  {
   "cell_type": "code",
   "execution_count": 55,
   "id": "7c725c5f-62b2-47d2-aae3-dd6405325258",
   "metadata": {},
   "outputs": [],
   "source": [
    "def check_accuracy(loader, model):\n",
    "    \"\"\"\n",
    "    Check accuracy of our trained model given a loader and a model\n",
    "\n",
    "    Parameters:\n",
    "        loader: torch.utils.data.DataLoader\n",
    "            A loader for the dataset you want to check accuracy on\n",
    "        model: nn.Module\n",
    "            The model you want to check accuracy on\n",
    "\n",
    "    Returns:\n",
    "        acc: float\n",
    "            The accuracy of the model on the dataset given by the loader\n",
    "    \"\"\"\n",
    "\n",
    "    num_correct = 0\n",
    "    num_samples = 0\n",
    "    model.eval()\n",
    "\n",
    "    # We don't need to keep track of gradients here so we wrap it in torch.no_grad()\n",
    "    with torch.no_grad():\n",
    "        # Loop through the data\n",
    "        for x, y in loader:\n",
    "            # Get to correct shape\n",
    "            x = x.reshape(x.shape[0], -1)\n",
    "\n",
    "            # Forward pass \n",
    "            scores = model(x) #64 x 10 matrix 64 is the batch size, 10 is num_classes\n",
    "            _, predictions = scores.max(1) #give us the maximum value of each row of the matrix and its indice, we can use scores.argmax(1) instead\n",
    "\n",
    "            # Check how many we got correct\n",
    "            num_correct += (predictions == y).sum()\n",
    "\n",
    "            # Keep track of number of samples\n",
    "            num_samples += predictions.size(0)\n",
    "\n",
    "    model.train()\n",
    "    return num_correct / num_samples\n"
   ]
  },
  {
   "cell_type": "code",
   "execution_count": 57,
   "id": "fdb1bcf5-e691-45c8-a634-da90803306a7",
   "metadata": {},
   "outputs": [
    {
     "name": "stdout",
     "output_type": "stream",
     "text": [
      "Accuracy on training set: 96.06\n",
      "Accuracy on test set: 95.44\n"
     ]
    }
   ],
   "source": [
    "# Check accuracy on training & test to see how good our model\n",
    "print(f\"Accuracy on training set: {check_accuracy(train_loader, model)*100:.2f}\")\n",
    "print(f\"Accuracy on test set: {check_accuracy(test_loader, model)*100:.2f}\")"
   ]
  },
  {
   "cell_type": "code",
   "execution_count": 105,
   "id": "97f51ad4-364d-4777-8737-ed3872b8ef04",
   "metadata": {},
   "outputs": [
    {
     "name": "stderr",
     "output_type": "stream",
     "text": [
      "  1%|▊                                                                               | 10/938 [00:00<00:05, 180.18it/s]"
     ]
    },
    {
     "name": "stdout",
     "output_type": "stream",
     "text": [
      "<class 'torch.Tensor'>\n",
      "torch.Size([64, 784])\n",
      "<class 'torch.nn.modules.flatten.Flatten'>\n",
      "<class 'torch.Tensor'>\n",
      "torch.Size([64, 784])\n",
      "<class 'torch.nn.modules.flatten.Flatten'>\n",
      "<class 'torch.Tensor'>\n",
      "torch.Size([64, 784])\n",
      "<class 'torch.nn.modules.flatten.Flatten'>\n",
      "<class 'torch.Tensor'>\n",
      "torch.Size([64, 784])\n",
      "<class 'torch.nn.modules.flatten.Flatten'>\n",
      "<class 'torch.Tensor'>\n",
      "torch.Size([64, 784])\n",
      "<class 'torch.nn.modules.flatten.Flatten'>\n",
      "<class 'torch.Tensor'>\n",
      "torch.Size([64, 784])\n",
      "<class 'torch.nn.modules.flatten.Flatten'>\n",
      "<class 'torch.Tensor'>\n",
      "torch.Size([64, 784])\n",
      "<class 'torch.nn.modules.flatten.Flatten'>\n",
      "<class 'torch.Tensor'>\n",
      "torch.Size([64, 784])\n",
      "<class 'torch.nn.modules.flatten.Flatten'>\n",
      "<class 'torch.Tensor'>\n",
      "torch.Size([64, 784])\n",
      "<class 'torch.nn.modules.flatten.Flatten'>\n",
      "<class 'torch.Tensor'>\n",
      "torch.Size([64, 784])\n",
      "<class 'torch.nn.modules.flatten.Flatten'>\n"
     ]
    },
    {
     "name": "stderr",
     "output_type": "stream",
     "text": [
      "\n"
     ]
    }
   ],
   "source": [
    "for batch_idx, (data, targets) in enumerate(tqdm(train_loader)):\n",
    "    if batch_idx == 10:\n",
    "        break\n",
    "    print(type(data))\n",
    "    print(data.reshape(data.shape[0], -1).shape)\n",
    "    data = nn.Flatten(data)\n",
    "    print(type(data))"
   ]
  },
  {
   "cell_type": "code",
   "execution_count": 161,
   "id": "309c4dd6-2d45-47a7-9a43-d8205fff3702",
   "metadata": {},
   "outputs": [
    {
     "name": "stderr",
     "output_type": "stream",
     "text": [
      "  0%|                                                                                  | 1/938 [00:00<00:32, 29.01it/s]"
     ]
    },
    {
     "name": "stdout",
     "output_type": "stream",
     "text": [
      "torch.Size([64, 10])\n",
      "torch.return_types.max(\n",
      "values=tensor([ 5.8206,  6.4088,  8.2700,  6.5946,  6.9546,  8.1498,  7.8014,  8.7487,\n",
      "         7.9128,  5.7195, 10.3948,  7.0461,  3.7557,  4.2113,  7.7321, 11.6473,\n",
      "         6.1670,  8.8498,  9.7461,  7.6122,  7.4517,  9.4291,  6.4006,  1.9015,\n",
      "         9.1702,  4.1103,  8.9394,  8.5605, 13.7045,  6.7924,  7.1509,  7.4686,\n",
      "        10.7217, 10.2292,  9.9222,  5.1790, 13.0021,  7.0120,  5.8735,  7.2510,\n",
      "         9.8781,  7.9612, 13.5689,  3.5592,  3.8612,  5.9975,  3.7144,  4.2430,\n",
      "         7.7463,  8.8735,  5.6881,  4.2716,  9.7905,  7.2907, 10.8334,  7.5945,\n",
      "         7.3691,  6.4914,  9.5999, 10.3801,  5.9047,  5.2315,  6.7468,  3.1682],\n",
      "       grad_fn=<MaxBackward0>),\n",
      "indices=tensor([8, 8, 9, 6, 4, 6, 3, 0, 8, 3, 2, 3, 4, 3, 4, 6, 4, 8, 0, 0, 9, 4, 6, 9,\n",
      "        5, 8, 4, 0, 0, 1, 1, 4, 2, 2, 3, 0, 7, 8, 1, 1, 3, 5, 7, 1, 8, 1, 8, 4,\n",
      "        8, 6, 1, 7, 0, 5, 6, 5, 3, 8, 9, 2, 0, 8, 6, 2]))\n"
     ]
    },
    {
     "name": "stderr",
     "output_type": "stream",
     "text": [
      "\n"
     ]
    }
   ],
   "source": [
    "for epoch in range(num_epochs):\n",
    "    for batch_idx, (data, targets) in enumerate(tqdm(train_loader)):\n",
    "        if batch_idx == 1:\n",
    "            break\n",
    "        # Get to correct shape\n",
    "        data = data.reshape(data.shape[0], -1)\n",
    "\n",
    "        # Forward\n",
    "        scores = model(data)\n",
    "        print(scores.shape)\n",
    "        print(scores.max(1))\n",
    "        loss = criterion(scores, targets)\n",
    "\n",
    "        # Backward\n",
    "        optimizer.zero_grad()\n",
    "        loss.backward()\n",
    "\n",
    "        # Gradient descent or adam step\n",
    "        optimizer.step()"
   ]
  },
  {
   "cell_type": "code",
   "execution_count": 155,
   "id": "96809529-002e-4fa5-803a-c2a48b103d61",
   "metadata": {},
   "outputs": [],
   "source": [
    "temp = torch.tensor([[1, 2, 3], [3, 4, 5]])"
   ]
  },
  {
   "cell_type": "code",
   "execution_count": 177,
   "id": "e44ade4f-79fe-43e9-b919-e16272a467cf",
   "metadata": {},
   "outputs": [
    {
     "data": {
      "text/plain": [
       "tensor([2, 2])"
      ]
     },
     "execution_count": 177,
     "metadata": {},
     "output_type": "execute_result"
    }
   ],
   "source": [
    "_, pred = temp.max(1)\n",
    "pred"
   ]
  },
  {
   "cell_type": "code",
   "execution_count": 179,
   "id": "1402f087-3ffc-4eee-bb17-8bdeafc2d446",
   "metadata": {},
   "outputs": [
    {
     "data": {
      "text/plain": [
       "tensor([2, 2])"
      ]
     },
     "execution_count": 179,
     "metadata": {},
     "output_type": "execute_result"
    }
   ],
   "source": [
    "temp.argmax(1)"
   ]
  }
 ],
 "metadata": {
  "kernelspec": {
   "display_name": "Python 3 (ipykernel)",
   "language": "python",
   "name": "python3"
  },
  "language_info": {
   "codemirror_mode": {
    "name": "ipython",
    "version": 3
   },
   "file_extension": ".py",
   "mimetype": "text/x-python",
   "name": "python",
   "nbconvert_exporter": "python",
   "pygments_lexer": "ipython3",
   "version": "3.12.4"
  }
 },
 "nbformat": 4,
 "nbformat_minor": 5
}
