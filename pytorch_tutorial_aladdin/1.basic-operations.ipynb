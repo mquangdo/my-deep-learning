{
 "cells": [
  {
   "cell_type": "code",
   "execution_count": 1,
   "id": "e5e2110d-a982-4297-baff-67bdef79a91a",
   "metadata": {},
   "outputs": [],
   "source": [
    "import torch\n",
    "import numpy as np"
   ]
  },
  {
   "cell_type": "code",
   "execution_count": 2,
   "id": "20221b9f-a865-4303-9ef5-eecbeeeceae8",
   "metadata": {},
   "outputs": [
    {
     "data": {
      "text/plain": [
       "tensor([[1., 2., 3.],\n",
       "        [4., 5., 6.]], requires_grad=True)"
      ]
     },
     "execution_count": 2,
     "metadata": {},
     "output_type": "execute_result"
    }
   ],
   "source": [
    "my_tensor = torch.tensor(\n",
    "    [[1, 2, 3], [4, 5, 6]], dtype=torch.float32, requires_grad=True\n",
    ")\n",
    "my_tensor"
   ]
  },
  {
   "cell_type": "markdown",
   "id": "4920752e-51bd-4717-adee-ac20a07a77aa",
   "metadata": {},
   "source": [
    "# Tensor attributes"
   ]
  },
  {
   "cell_type": "code",
   "execution_count": 4,
   "id": "fdea5806-61d5-478a-a918-2cc005d94324",
   "metadata": {},
   "outputs": [
    {
     "data": {
      "text/plain": [
       "torch.Size([2, 3])"
      ]
     },
     "execution_count": 4,
     "metadata": {},
     "output_type": "execute_result"
    }
   ],
   "source": [
    "my_tensor.shape"
   ]
  },
  {
   "cell_type": "code",
   "execution_count": 5,
   "id": "62ce6b02-1e7d-45b3-b7ab-47091b56543f",
   "metadata": {},
   "outputs": [
    {
     "data": {
      "text/plain": [
       "tensor([[1., 2., 3.],\n",
       "        [4., 5., 6.]])"
      ]
     },
     "execution_count": 5,
     "metadata": {},
     "output_type": "execute_result"
    }
   ],
   "source": [
    "my_tensor.data"
   ]
  },
  {
   "cell_type": "code",
   "execution_count": 6,
   "id": "a2852331-7591-4755-9133-435ef63d1eae",
   "metadata": {},
   "outputs": [
    {
     "data": {
      "text/plain": [
       "tensor([[1., 4.],\n",
       "        [2., 5.],\n",
       "        [3., 6.]], grad_fn=<PermuteBackward0>)"
      ]
     },
     "execution_count": 6,
     "metadata": {},
     "output_type": "execute_result"
    }
   ],
   "source": [
    "my_tensor.T"
   ]
  },
  {
   "cell_type": "code",
   "execution_count": 7,
   "id": "79772e24-114d-4a61-a19c-d1aabb80819b",
   "metadata": {},
   "outputs": [
    {
     "data": {
      "text/plain": [
       "torch.float32"
      ]
     },
     "execution_count": 7,
     "metadata": {},
     "output_type": "execute_result"
    }
   ],
   "source": [
    "my_tensor.dtype"
   ]
  },
  {
   "cell_type": "code",
   "execution_count": 8,
   "id": "427b89f9-22c7-4afc-97b2-46ab7608d1a4",
   "metadata": {},
   "outputs": [
    {
     "data": {
      "text/plain": [
       "tensor([[1., 4.],\n",
       "        [2., 5.],\n",
       "        [3., 6.]], grad_fn=<TransposeBackward0>)"
      ]
     },
     "execution_count": 8,
     "metadata": {},
     "output_type": "execute_result"
    }
   ],
   "source": [
    "my_tensor.H"
   ]
  },
  {
   "cell_type": "code",
   "execution_count": 9,
   "id": "fe46738a-15bb-4c9c-a746-c836c9e7c097",
   "metadata": {},
   "outputs": [
    {
     "data": {
      "text/plain": [
       "2"
      ]
     },
     "execution_count": 9,
     "metadata": {},
     "output_type": "execute_result"
    }
   ],
   "source": [
    "my_tensor.ndim"
   ]
  },
  {
   "cell_type": "markdown",
   "id": "2c3217f3-1365-48de-82a2-55a00f51d171",
   "metadata": {},
   "source": [
    "Lots of attributes."
   ]
  },
  {
   "cell_type": "markdown",
   "id": "563753e8-4712-4387-8450-dc08138ac6b4",
   "metadata": {},
   "source": [
    "# Initialize methods"
   ]
  },
  {
   "cell_type": "code",
   "execution_count": 12,
   "id": "d39cf6d7-af5e-4bf9-9ce0-ad3b81a977b6",
   "metadata": {},
   "outputs": [
    {
     "data": {
      "text/plain": [
       "tensor([[-7.5787e-01,  2.0935e-42,  0.0000e+00],\n",
       "        [ 0.0000e+00,  0.0000e+00,  0.0000e+00],\n",
       "        [ 0.0000e+00,  0.0000e+00,  0.0000e+00]])"
      ]
     },
     "execution_count": 12,
     "metadata": {},
     "output_type": "execute_result"
    }
   ],
   "source": [
    "x = torch.empty(size = (3, 3))\n",
    "x"
   ]
  },
  {
   "cell_type": "code",
   "execution_count": 13,
   "id": "cdd35e4d-2690-4d88-8d5a-98e4fac8f24d",
   "metadata": {},
   "outputs": [
    {
     "data": {
      "text/plain": [
       "tensor([[0., 0., 0.],\n",
       "        [0., 0., 0.],\n",
       "        [0., 0., 0.]])"
      ]
     },
     "execution_count": 13,
     "metadata": {},
     "output_type": "execute_result"
    }
   ],
   "source": [
    "x = torch.zeros(size = (3, 3))\n",
    "x"
   ]
  },
  {
   "cell_type": "code",
   "execution_count": 14,
   "id": "48a7f9ed-bc29-4cd7-b70e-f9f377e4b8e2",
   "metadata": {},
   "outputs": [
    {
     "data": {
      "text/plain": [
       "Text(0.5, 1.0, 'Normal Distribution')"
      ]
     },
     "execution_count": 14,
     "metadata": {},
     "output_type": "execute_result"
    },
    {
     "data": {
      "image/png": "[encoded data removed]",
      "text/plain": [
       "<Figure size 640x480 with 1 Axes>"
      ]
     },
     "metadata": {},
     "output_type": "display_data"
    }
   ],
   "source": [
    "import matplotlib.pyplot as plt\n",
    "\n",
    "x = torch.empty(size=(1, 100)).normal_(\n",
    "    mean=0, std=1\n",
    ")  # Normally distributed with mean=0, std=1\n",
    "plt.scatter(x, torch.zeros(x.shape))\n",
    "plt.title('Normal Distribution')"
   ]
  },
  {
   "cell_type": "code",
   "execution_count": 15,
   "id": "18b83eec-155b-48ee-8074-05505bb6b91a",
   "metadata": {},
   "outputs": [
    {
     "data": {
      "text/plain": [
       "Text(0.5, 1.0, 'Uniform Distribution')"
      ]
     },
     "execution_count": 15,
     "metadata": {},
     "output_type": "execute_result"
    },
    {
     "data": {
      "image/png": "[encoded data removed]",
      "text/plain": [
       "<Figure size 640x480 with 1 Axes>"
      ]
     },
     "metadata": {},
     "output_type": "display_data"
    }
   ],
   "source": [
    "x = torch.rand(size = (10, 10)) #uniform distribution \n",
    "plt.scatter(x, torch.zeros(x.shape)) #x can be 2 dimensional\n",
    "plt.title('Uniform Distribution')  "
   ]
  },
  {
   "cell_type": "code",
   "execution_count": 16,
   "id": "209d2323-fa8d-4769-a6ed-f2042bc3ed8d",
   "metadata": {},
   "outputs": [
    {
     "data": {
      "text/plain": [
       "tensor([[1., 1., 1.],\n",
       "        [1., 1., 1.],\n",
       "        [1., 1., 1.]])"
      ]
     },
     "execution_count": 16,
     "metadata": {},
     "output_type": "execute_result"
    }
   ],
   "source": [
    "x = torch.ones(size = (3, 3))\n",
    "x"
   ]
  },
  {
   "cell_type": "code",
   "execution_count": 17,
   "id": "d55e1cab-99ae-4219-b1da-defa46945e96",
   "metadata": {},
   "outputs": [
    {
     "data": {
      "text/plain": [
       "tensor([[1., 0., 0., 0., 0.],\n",
       "        [0., 1., 0., 0., 0.],\n",
       "        [0., 0., 1., 0., 0.],\n",
       "        [0., 0., 0., 1., 0.],\n",
       "        [0., 0., 0., 0., 1.]])"
      ]
     },
     "execution_count": 17,
     "metadata": {},
     "output_type": "execute_result"
    }
   ],
   "source": [
    "x = torch.eye(n = 5)\n",
    "x"
   ]
  },
  {
   "cell_type": "code",
   "execution_count": 18,
   "id": "5c7f15a2-4794-47f8-b5e1-191c44585652",
   "metadata": {},
   "outputs": [
    {
     "data": {
      "text/plain": [
       "tensor([0, 2, 4, 6, 8])"
      ]
     },
     "execution_count": 18,
     "metadata": {},
     "output_type": "execute_result"
    }
   ],
   "source": [
    "x = torch.arange(0, 10, 2)\n",
    "x"
   ]
  },
  {
   "cell_type": "code",
   "execution_count": 19,
   "id": "3e54cd3d-c1e5-40f9-8719-d540e37242cd",
   "metadata": {},
   "outputs": [
    {
     "data": {
      "text/plain": [
       "tensor([ 0.0000,  0.1010,  0.2020,  0.3030,  0.4040,  0.5051,  0.6061,  0.7071,\n",
       "         0.8081,  0.9091,  1.0101,  1.1111,  1.2121,  1.3131,  1.4141,  1.5152,\n",
       "         1.6162,  1.7172,  1.8182,  1.9192,  2.0202,  2.1212,  2.2222,  2.3232,\n",
       "         2.4242,  2.5253,  2.6263,  2.7273,  2.8283,  2.9293,  3.0303,  3.1313,\n",
       "         3.2323,  3.3333,  3.4343,  3.5354,  3.6364,  3.7374,  3.8384,  3.9394,\n",
       "         4.0404,  4.1414,  4.2424,  4.3434,  4.4444,  4.5455,  4.6465,  4.7475,\n",
       "         4.8485,  4.9495,  5.0505,  5.1515,  5.2525,  5.3535,  5.4545,  5.5556,\n",
       "         5.6566,  5.7576,  5.8586,  5.9596,  6.0606,  6.1616,  6.2626,  6.3636,\n",
       "         6.4646,  6.5657,  6.6667,  6.7677,  6.8687,  6.9697,  7.0707,  7.1717,\n",
       "         7.2727,  7.3737,  7.4747,  7.5758,  7.6768,  7.7778,  7.8788,  7.9798,\n",
       "         8.0808,  8.1818,  8.2828,  8.3838,  8.4848,  8.5859,  8.6869,  8.7879,\n",
       "         8.8889,  8.9899,  9.0909,  9.1919,  9.2929,  9.3939,  9.4949,  9.5960,\n",
       "         9.6970,  9.7980,  9.8990, 10.0000])"
      ]
     },
     "execution_count": 19,
     "metadata": {},
     "output_type": "execute_result"
    }
   ],
   "source": [
    "x = torch.linspace(0, 10, 100)\n",
    "x"
   ]
  },
  {
   "cell_type": "code",
   "execution_count": 57,
   "id": "e98de51c-e4f9-483a-a4b2-19a7bd490bd8",
   "metadata": {},
   "outputs": [
    {
     "data": {
      "text/plain": [
       "tensor([[1, 0, 0, 0, 0],\n",
       "        [0, 2, 0, 0, 0],\n",
       "        [0, 0, 3, 0, 0],\n",
       "        [0, 0, 0, 4, 0],\n",
       "        [0, 0, 0, 0, 5]])"
      ]
     },
     "execution_count": 57,
     "metadata": {},
     "output_type": "execute_result"
    }
   ],
   "source": [
    "torch.diag(torch.tensor([1, 2, 3, 4, 5]))"
   ]
  },
  {
   "cell_type": "code",
   "execution_count": 59,
   "id": "6e16afb0-6d67-49c2-afa8-ad9cff7d5f27",
   "metadata": {},
   "outputs": [
    {
     "data": {
      "text/plain": [
       "tensor([0, 1, 2, 3])"
      ]
     },
     "execution_count": 59,
     "metadata": {},
     "output_type": "execute_result"
    }
   ],
   "source": [
    "x = torch.arange(4)\n",
    "x"
   ]
  },
  {
   "cell_type": "code",
   "execution_count": 61,
   "id": "d56fd395-55a6-449a-ab8a-5c756da9811e",
   "metadata": {},
   "outputs": [
    {
     "data": {
      "text/plain": [
       "tensor([[3, 0, 9],\n",
       "        [6, 1, 2],\n",
       "        [3, 8, 4]])"
      ]
     },
     "execution_count": 61,
     "metadata": {},
     "output_type": "execute_result"
    }
   ],
   "source": [
    "x = torch.randint(low = 0, high = 10, size = (3, 3))\n",
    "x"
   ]
  },
  {
   "cell_type": "code",
   "execution_count": 63,
   "id": "e24e48ef-418c-483b-90a7-b72498a4fdd6",
   "metadata": {},
   "outputs": [
    {
     "name": "stdout",
     "output_type": "stream",
     "text": [
      "tensor(0)\n",
      "tensor(1)\n",
      "tensor(2)\n",
      "tensor(3)\n"
     ]
    }
   ],
   "source": [
    "for i in torch.arange(4):\n",
    "    print(i)"
   ]
  },
  {
   "cell_type": "code",
   "execution_count": 65,
   "id": "12518a35-24c6-454c-96f9-c006db69bdc0",
   "metadata": {},
   "outputs": [
    {
     "name": "stdout",
     "output_type": "stream",
     "text": [
      "torch.int64\n",
      "torch.int64\n",
      "torch.int64\n",
      "torch.int64\n"
     ]
    }
   ],
   "source": [
    "for i in torch.arange(4):\n",
    "    print(i.dtype)"
   ]
  },
  {
   "cell_type": "code",
   "execution_count": 67,
   "id": "4c96c05f-472d-4c22-a59e-69383c012ec2",
   "metadata": {},
   "outputs": [
    {
     "name": "stdout",
     "output_type": "stream",
     "text": [
      "tensor(0)\n",
      "tensor(1)\n",
      "tensor(2)\n",
      "tensor(3)\n"
     ]
    }
   ],
   "source": [
    "for i in torch.arange(4):\n",
    "    print(i.abs())"
   ]
  },
  {
   "cell_type": "code",
   "execution_count": 71,
   "id": "84315a46-c439-4e80-aec5-aeadcb08406d",
   "metadata": {},
   "outputs": [
    {
     "name": "stdout",
     "output_type": "stream",
     "text": [
      "tensor(1.)\n",
      "tensor(0.5403)\n",
      "tensor(-0.4161)\n",
      "tensor(-0.9900)\n"
     ]
    }
   ],
   "source": [
    "for i in torch.arange(4):\n",
    "    print(i.cos())"
   ]
  },
  {
   "cell_type": "code",
   "execution_count": 75,
   "id": "03873892-6af5-4eeb-87bc-48fa0b053218",
   "metadata": {},
   "outputs": [
    {
     "name": "stdout",
     "output_type": "stream",
     "text": [
      "Converted Boolean: tensor([False,  True,  True,  True])\n",
      "Converted int16 tensor([0, 1, 2, 3], dtype=torch.int16)\n",
      "Converted int64 tensor([0, 1, 2, 3])\n",
      "Converted float16 tensor([0., 1., 2., 3.], dtype=torch.float16)\n",
      "Converted float32 tensor([0., 1., 2., 3.])\n",
      "Converted float64 tensor([0., 1., 2., 3.], dtype=torch.float64)\n"
     ]
    }
   ],
   "source": [
    "# How to make initialized tensors to other types (int, float, double)\n",
    "# These will work even if you're on CPU or CUDA!\n",
    "tensor = torch.arange(4)  # [0, 1, 2, 3] Initialized as int64 by default\n",
    "print(f\"Converted Boolean: {tensor.bool()}\")  # Converted to Boolean: 1 if nonzero\n",
    "print(f\"Converted int16 {tensor.short()}\")  # Converted to int16\n",
    "print(\n",
    "    f\"Converted int64 {tensor.long()}\"\n",
    ")  # Converted to int64 (This one is very important, used super often)\n",
    "print(f\"Converted float16 {tensor.half()}\")  # Converted to float16\n",
    "print(\n",
    "    f\"Converted float32 {tensor.float()}\"\n",
    ")  # Converted to float32 (This one is very important, used super often)\n",
    "print(f\"Converted float64 {tensor.double()}\")  # Converted to float64"
   ]
  },
  {
   "cell_type": "code",
   "execution_count": 87,
   "id": "c4ed527a-4f3d-43e5-9fd7-3abf6a8afc13",
   "metadata": {},
   "outputs": [
    {
     "name": "stdout",
     "output_type": "stream",
     "text": [
      "<class 'torch.Tensor'>\n",
      "<class 'numpy.ndarray'>\n"
     ]
    }
   ],
   "source": [
    "# Array to Tensor conversion and vice-versa\n",
    "np_array = np.zeros((5, 5))\n",
    "tensor = torch.from_numpy(np_array)\n",
    "print(type(tensor))\n",
    "np_array_again = (\n",
    "    tensor.numpy()\n",
    ")  # np_array_again will be same as np_array (perhaps with numerical round offs)\n",
    "print(type(np_array_again))"
   ]
  },
  {
   "cell_type": "markdown",
   "id": "16aab75c-6631-49a9-b38d-160b72e52423",
   "metadata": {},
   "source": [
    "# Tensor Math & Comparison Operations"
   ]
  },
  {
   "cell_type": "code",
   "execution_count": 91,
   "id": "107aa37d-1146-4821-991f-dbd834fef493",
   "metadata": {},
   "outputs": [],
   "source": [
    "x = torch.tensor([1, 2, 3])\n",
    "y = torch.tensor([9, 8, 7])"
   ]
  },
  {
   "cell_type": "code",
   "execution_count": 93,
   "id": "6161b62a-4b59-417d-922b-e75852ed8eb2",
   "metadata": {},
   "outputs": [
    {
     "data": {
      "text/plain": [
       "tensor([10, 10, 10])"
      ]
     },
     "execution_count": 93,
     "metadata": {},
     "output_type": "execute_result"
    }
   ],
   "source": [
    "x + y"
   ]
  },
  {
   "cell_type": "code",
   "execution_count": 95,
   "id": "54df23e0-e460-4e35-9113-2bb93ebbdbca",
   "metadata": {},
   "outputs": [
    {
     "data": {
      "text/plain": [
       "tensor([ 9, 16, 21])"
      ]
     },
     "execution_count": 95,
     "metadata": {},
     "output_type": "execute_result"
    }
   ],
   "source": [
    "x * y"
   ]
  },
  {
   "cell_type": "code",
   "execution_count": 97,
   "id": "c03b0d4e-7f6d-4dd2-b6db-365e819762c0",
   "metadata": {},
   "outputs": [
    {
     "data": {
      "text/plain": [
       "tensor([-8, -6, -4])"
      ]
     },
     "execution_count": 97,
     "metadata": {},
     "output_type": "execute_result"
    }
   ],
   "source": [
    "x - y"
   ]
  },
  {
   "cell_type": "code",
   "execution_count": 99,
   "id": "1364eedf-6cd0-46d1-a2c1-aea10d63cc92",
   "metadata": {},
   "outputs": [
    {
     "data": {
      "text/plain": [
       "tensor([0.1111, 0.2500, 0.4286])"
      ]
     },
     "execution_count": 99,
     "metadata": {},
     "output_type": "execute_result"
    }
   ],
   "source": [
    "x / y"
   ]
  },
  {
   "cell_type": "code",
   "execution_count": 119,
   "id": "3d4a4512-73e0-452c-b70f-9819402e3cc7",
   "metadata": {},
   "outputs": [
    {
     "name": "stdout",
     "output_type": "stream",
     "text": [
      "tensor([ 2.7183,  7.3891, 20.0855])\n",
      "tensor([ 2.7183,  7.3891, 20.0855])\n"
     ]
    }
   ],
   "source": [
    "print(x.exp())\n",
    "print(torch.exp(x))"
   ]
  },
  {
   "cell_type": "code",
   "execution_count": 123,
   "id": "b406bb7c-bfb8-4d9a-bcf1-4f480571d182",
   "metadata": {},
   "outputs": [
    {
     "name": "stdout",
     "output_type": "stream",
     "text": [
      "tensor([2, 4, 8])\n",
      "tensor([ 4, 16, 64])\n",
      "tensor([1, 4, 9])\n"
     ]
    }
   ],
   "source": [
    "print(2 ** x)\n",
    "print(4 ** x)\n",
    "print(x ** 2)"
   ]
  },
  {
   "cell_type": "code",
   "execution_count": 127,
   "id": "85ff51de-4c35-422a-99ce-03ca27d3413a",
   "metadata": {},
   "outputs": [
    {
     "data": {
      "text/plain": [
       "tensor(46)"
      ]
     },
     "execution_count": 127,
     "metadata": {},
     "output_type": "execute_result"
    }
   ],
   "source": [
    "x @ y"
   ]
  },
  {
   "cell_type": "code",
   "execution_count": 131,
   "id": "62ec6bfe-f00f-423b-8b9c-3b70bcfba9c4",
   "metadata": {},
   "outputs": [
    {
     "name": "stdout",
     "output_type": "stream",
     "text": [
      "tensor([[0.6247, 1.3148, 0.4213, 0.8244],\n",
      "        [0.4001, 0.6863, 0.2690, 0.5404],\n",
      "        [0.7189, 1.8760, 0.5155, 0.9131],\n",
      "        [0.2342, 1.0076, 0.4305, 0.2028],\n",
      "        [0.7067, 1.6430, 0.5041, 0.9138]])\n",
      "tensor([[0.6247, 1.3148, 0.4213, 0.8244],\n",
      "        [0.4001, 0.6863, 0.2690, 0.5404],\n",
      "        [0.7189, 1.8760, 0.5155, 0.9131],\n",
      "        [0.2342, 1.0076, 0.4305, 0.2028],\n",
      "        [0.7067, 1.6430, 0.5041, 0.9138]])\n"
     ]
    }
   ],
   "source": [
    "A = torch.rand((5, 3))\n",
    "B = torch.rand((3, 4))\n",
    "print(A @ B)\n",
    "print(A.mm(B))"
   ]
  },
  {
   "cell_type": "code",
   "execution_count": 137,
   "id": "01698785-c2d9-4c21-985a-baafcf68a749",
   "metadata": {},
   "outputs": [
    {
     "name": "stdout",
     "output_type": "stream",
     "text": [
      "tensor(3)\n",
      "tensor([1, 2, 3])\n",
      "tensor([ 0.5403, -0.4161, -0.9900])\n"
     ]
    }
   ],
   "source": [
    "print(x.max())\n",
    "print(x.abs())\n",
    "print(x.cos())"
   ]
  },
  {
   "cell_type": "code",
   "execution_count": 139,
   "id": "10e3c2b2-4508-4d5f-bcea-93f788f92de0",
   "metadata": {},
   "outputs": [
    {
     "data": {
      "text/plain": [
       "tensor([1, 2, 3])"
      ]
     },
     "execution_count": 139,
     "metadata": {},
     "output_type": "execute_result"
    }
   ],
   "source": [
    "x = torch.tensor([1, 1, 1, 1, 2, 2, 2, 3])\n",
    "x.unique()"
   ]
  }
 ],
 "metadata": {
  "kernelspec": {
   "display_name": "Python 3 (ipykernel)",
   "language": "python",
   "name": "python3"
  },
  "language_info": {
   "codemirror_mode": {
    "name": "ipython",
    "version": 3
   },
   "file_extension": ".py",
   "mimetype": "text/x-python",
   "name": "python",
   "nbconvert_exporter": "python",
   "pygments_lexer": "ipython3",
   "version": "3.12.4"
  }
 },
 "nbformat": 4,
 "nbformat_minor": 5
}
