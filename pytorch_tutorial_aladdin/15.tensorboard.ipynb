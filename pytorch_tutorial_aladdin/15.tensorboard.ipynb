{
 "cells": [
  {
   "cell_type": "code",
   "execution_count": 11,
   "id": "900214bc-7f0a-4557-b696-c1f2bf1a8f39",
   "metadata": {},
   "outputs": [
    {
     "name": "stderr",
     "output_type": "stream",
     "text": [
      " 12%|█████████▋                                                                     | 231/1875 [00:04<00:30, 53.64it/s]"
     ]
    },
    {
     "name": "stdout",
     "output_type": "stream",
     "text": [
      "warning: Embedding dir exists, did you set global_step for add_embedding()?\n"
     ]
    },
    {
     "name": "stderr",
     "output_type": "stream",
     "text": [
      "100%|██████████████████████████████████████████████████████████████████████████████| 1875/1875 [00:37<00:00, 50.51it/s]\n",
      " 13%|█████████▉                                                                     | 237/1875 [00:04<00:34, 46.84it/s]"
     ]
    },
    {
     "name": "stdout",
     "output_type": "stream",
     "text": [
      "warning: Embedding dir exists, did you set global_step for add_embedding()?\n"
     ]
    },
    {
     "name": "stderr",
     "output_type": "stream",
     "text": [
      "100%|██████████████████████████████████████████████████████████████████████████████| 1875/1875 [00:37<00:00, 50.04it/s]\n",
      " 13%|█████████▉                                                                     | 235/1875 [00:04<00:42, 38.14it/s]"
     ]
    },
    {
     "name": "stdout",
     "output_type": "stream",
     "text": [
      "warning: Embedding dir exists, did you set global_step for add_embedding()?\n"
     ]
    },
    {
     "name": "stderr",
     "output_type": "stream",
     "text": [
      "100%|██████████████████████████████████████████████████████████████████████████████| 1875/1875 [00:37<00:00, 49.80it/s]\n"
     ]
    }
   ],
   "source": [
    "\"\"\"\n",
    "Example code of how to use the TensorBoard in PyTorch.\n",
    "This code uses a lot of different functions from TensorBoard\n",
    "and tries to have them all in a compact way, it might not be\n",
    "super clear exactly what calls does what, for that I recommend\n",
    "watching the YouTube video.\n",
    "\n",
    "Programmed by Aladdin Persson <aladdin.persson at hotmail dot com>\n",
    "*    2020-04-17 Initial coding\n",
    "*    2022-12-19 Small revision of code, checked that it works with latest PyTorch version\n",
    "\"\"\"\n",
    "\n",
    "# Imports\n",
    "from tqdm import tqdm  # For nice progress bar!\n",
    "import torch\n",
    "import torchvision\n",
    "import torch.nn as nn  # All neural network modules, nn.Linear, nn.Conv2d, BatchNorm, Loss functions\n",
    "import torch.optim as optim  # For all Optimization algorithms, SGD, Adam, etc.\n",
    "import torch.nn.functional as F  # All functions that don't have any parameters\n",
    "import torchvision.datasets as datasets  # Has standard datasets we can import in a nice way\n",
    "import torchvision.transforms as transforms  # Transformations we can perform on our dataset\n",
    "from torch.utils.data import (\n",
    "    DataLoader,\n",
    ")  # Gives easier dataset managment and creates mini batches\n",
    "from torch.utils.tensorboard import SummaryWriter  # to print to tensorboard\n",
    "\n",
    "# Simple CNN\n",
    "class CNN(nn.Module):\n",
    "    def __init__(self, in_channels=1, num_classes=10):\n",
    "        super(CNN, self).__init__()\n",
    "        self.conv1 = nn.Conv2d(\n",
    "            in_channels=in_channels, out_channels=8, kernel_size=3, stride=1, padding=1\n",
    "        )\n",
    "        self.pool = nn.MaxPool2d(kernel_size=(2, 2), stride=(2, 2))\n",
    "        self.conv2 = nn.Conv2d(\n",
    "            in_channels=8, out_channels=16, kernel_size=3, stride=1, padding=1\n",
    "        )\n",
    "        self.fc1 = nn.Linear(16 * 7 * 7, num_classes)\n",
    "\n",
    "    def forward(self, x):\n",
    "        x = F.relu(self.conv1(x))\n",
    "        x = self.pool(x)\n",
    "        x = F.relu(self.conv2(x))\n",
    "        x = self.pool(x)\n",
    "        x = x.reshape(x.shape[0], -1)\n",
    "        x = self.fc1(x)\n",
    "        return x\n",
    "\n",
    "\n",
    "# Set device\n",
    "device = torch.device(\"cuda\" if torch.cuda.is_available() else \"cpu\")\n",
    "\n",
    "# Hyperparameters\n",
    "in_channels = 1\n",
    "num_classes = 10\n",
    "num_epochs = 3\n",
    "\n",
    "# Load Data\n",
    "train_dataset = datasets.MNIST(\n",
    "    root=\"dataset/\", train=True, transform=transforms.ToTensor(), download=True\n",
    ")\n",
    "\n",
    "# To do hyperparameter search, include more batch_sizes you want to try\n",
    "# and more learning rates!\n",
    "batch_size = 32\n",
    "learning_rate = 1e-2\n",
    "classes = [\"0\", \"1\", \"2\", \"3\", \"4\", \"5\", \"6\", \"7\", \"8\", \"9\"]\n",
    "\n",
    "# for batch_size in batch_sizes:\n",
    "#     for learning_rate in learning_rates:\n",
    "step = 0\n",
    "# Initialize network\n",
    "model = CNN(in_channels=in_channels, num_classes=num_classes)\n",
    "model.to(device)\n",
    "model.train()\n",
    "\n",
    "criterion = nn.CrossEntropyLoss()\n",
    "\n",
    "train_loader = DataLoader(\n",
    "    dataset=train_dataset, batch_size=batch_size, shuffle=True\n",
    ")\n",
    "\n",
    "optimizer = optim.Adam(model.parameters(), lr=learning_rate, weight_decay=0.0)\n",
    "\n",
    "writer = SummaryWriter(\n",
    "    f\"runs/MNIST/test_tensorboard\"\n",
    ")\n",
    "\n",
    "# # Visualize model in TensorBoard\n",
    "# images, _ = next(iter(train_loader))\n",
    "# writer.add_graph(model, images.to(device))\n",
    "# writer.close()\n",
    "\n",
    "for epoch in range(num_epochs):\n",
    "    losses = []\n",
    "    accuracies = []\n",
    "\n",
    "    for batch_idx, (data, targets) in enumerate(tqdm(train_loader)):\n",
    "        # Get data to cuda if possible\n",
    "        data = data.to(device=device)\n",
    "        targets = targets.to(device=device)\n",
    "\n",
    "        # forward\n",
    "        scores = model(data)\n",
    "        loss = criterion(scores, targets)\n",
    "        losses.append(loss.item())\n",
    "\n",
    "        # backward\n",
    "        optimizer.zero_grad()\n",
    "        loss.backward()\n",
    "        optimizer.step()\n",
    "\n",
    "        # # Calculate 'running' training accuracy\n",
    "        # features = data.reshape(data.shape[0], -1)\n",
    "        # img_grid = torchvision.utils.make_grid(data)\n",
    "        \n",
    "        _, predictions = scores.max(1)\n",
    "        num_correct = (predictions == targets).sum()\n",
    "        \n",
    "        # running_train_acc = float(num_correct) / float(data.shape[0])\n",
    "        # accuracies.append(running_train_acc)\n",
    "\n",
    "        # # Plot things to tensorboard\n",
    "        # class_labels = [classes[label] for label in predictions]\n",
    "        # writer.add_image(\"mnist_images\", img_grid)\n",
    "        # writer.add_histogram(\"fc1\", model.fc1.weight)\n",
    "        writer.add_scalar(\"Training loss\", loss, global_step=step)\n",
    "        writer.add_scalar(\n",
    "            \"Training Accuracy\", running_train_acc, global_step=step\n",
    "        )\n",
    "\n",
    "        if batch_idx == 230:\n",
    "            writer.add_embedding(\n",
    "                features,\n",
    "                metadata=class_labels,\n",
    "                label_img=data,\n",
    "                global_step=batch_idx,\n",
    "            )\n",
    "        step += 1\n",
    "\n",
    "    writer.add_hparams(\n",
    "        {\"lr\": learning_rate, \"bsize\": batch_size},\n",
    "        {\n",
    "            \"accuracy\": sum(accuracies) / len(accuracies),\n",
    "            \"loss\": sum(losses) / len(losses),\n",
    "        },\n",
    "    )"
   ]
  },
  {
   "cell_type": "code",
   "execution_count": 13,
   "id": "afb2746e-f633-44f3-925a-e9472978bcff",
   "metadata": {},
   "outputs": [
    {
     "data": {
      "text/html": [
       "\n",
       "      <iframe id=\"tensorboard-frame-f2b7f3993ddb5c49\" width=\"100%\" height=\"800\" frameborder=\"0\">\n",
       "      </iframe>\n",
       "      <script>\n",
       "        (function() {\n",
       "          const frame = document.getElementById(\"tensorboard-frame-f2b7f3993ddb5c49\");\n",
       "          const url = new URL(\"/\", window.location);\n",
       "          const port = 6006;\n",
       "          if (port) {\n",
       "            url.port = port;\n",
       "          }\n",
       "          frame.src = url;\n",
       "        })();\n",
       "      </script>\n",
       "    "
      ],
      "text/plain": [
       "<IPython.core.display.HTML object>"
      ]
     },
     "metadata": {},
     "output_type": "display_data"
    }
   ],
   "source": [
    "%load_ext tensorboard\n",
    "%tensorboard --logdir runs"
   ]
  }
 ],
 "metadata": {
  "kernelspec": {
   "display_name": "Python 3 (ipykernel)",
   "language": "python",
   "name": "python3"
  },
  "language_info": {
   "codemirror_mode": {
    "name": "ipython",
    "version": 3
   },
   "file_extension": ".py",
   "mimetype": "text/x-python",
   "name": "python",
   "nbconvert_exporter": "python",
   "pygments_lexer": "ipython3",
   "version": "3.12.4"
  }
 },
 "nbformat": 4,
 "nbformat_minor": 5
}
