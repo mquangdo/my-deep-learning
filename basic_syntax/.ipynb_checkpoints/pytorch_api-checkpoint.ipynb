{
 "cells": [
  {
   "cell_type": "markdown",
   "id": "bd1121f0-944b-4c0b-a2f2-c7768ee9427b",
   "metadata": {},
   "source": [
    "# nn.Sequential API"
   ]
  },
  {
   "cell_type": "code",
   "execution_count": 3,
   "id": "953206eb-75a5-4981-9ca2-9f50206d71ae",
   "metadata": {},
   "outputs": [
    {
     "name": "stderr",
     "output_type": "stream",
     "text": [
      "C:\\Users\\ASUS\\AppData\\Roaming\\Python\\Python312\\site-packages\\torch\\utils\\_pytree.py:185: FutureWarning: optree is installed but the version is too old to support PyTorch Dynamo in C++ pytree. C++ pytree support is disabled. Please consider upgrading optree using `python3 -m pip install --upgrade 'optree>=0.13.0'`.\n",
      "  warnings.warn(\n"
     ]
    },
    {
     "name": "stdout",
     "output_type": "stream",
     "text": [
      "Sequential(\n",
      "  (0): Flatten(start_dim=1, end_dim=-1)\n",
      "  (1): Linear(in_features=784, out_features=128, bias=True)\n",
      "  (2): ReLU()\n",
      "  (3): Linear(in_features=128, out_features=10, bias=True)\n",
      "  (4): Softmax(dim=1)\n",
      ")\n"
     ]
    }
   ],
   "source": [
    "import torch\n",
    "import torch.nn as nn\n",
    "\n",
    "# Xây dựng mạng nơ-ron với nn.Sequential\n",
    "model = nn.Sequential(\n",
    "    nn.Flatten(),                    # Chuyển tensor ảnh (batch, channels, height, width) thành (batch, channels*height*width)\n",
    "    nn.Linear(784, 128),             # Tầng fully connected: 784 (28x28) -> 128\n",
    "    nn.ReLU(),                       # Hàm kích hoạt ReLU\n",
    "    nn.Linear(128, 10),              # Tầng fully connected: 128 -> 10 (10 lớp)\n",
    "    nn.Softmax(dim=1)                # Softmax để chuyển thành xác suất\n",
    ")\n",
    "\n",
    "# In cấu trúc mô hình\n",
    "print(model)"
   ]
  },
  {
   "cell_type": "markdown",
   "id": "51a7fbfa-71ba-4ceb-a713-a7ac4b04ccf9",
   "metadata": {},
   "source": [
    "## nn.Sequential and nn.Module"
   ]
  },
  {
   "cell_type": "code",
   "execution_count": 6,
   "id": "77068477-499a-4a9a-8deb-f8f6c8186a3f",
   "metadata": {},
   "outputs": [
    {
     "name": "stdout",
     "output_type": "stream",
     "text": [
      "SimpleCNN(\n",
      "  (features): Sequential(\n",
      "    (0): Conv2d(1, 16, kernel_size=(3, 3), stride=(1, 1), padding=(1, 1))\n",
      "    (1): ReLU()\n",
      "    (2): MaxPool2d(kernel_size=2, stride=2, padding=0, dilation=1, ceil_mode=False)\n",
      "    (3): Conv2d(16, 32, kernel_size=(3, 3), stride=(1, 1), padding=(1, 1))\n",
      "    (4): ReLU()\n",
      "    (5): MaxPool2d(kernel_size=2, stride=2, padding=0, dilation=1, ceil_mode=False)\n",
      "  )\n",
      "  (classifier): Sequential(\n",
      "    (0): Flatten(start_dim=1, end_dim=-1)\n",
      "    (1): Linear(in_features=1568, out_features=128, bias=True)\n",
      "    (2): ReLU()\n",
      "    (3): Linear(in_features=128, out_features=10, bias=True)\n",
      "    (4): Softmax(dim=1)\n",
      "  )\n",
      ")\n"
     ]
    }
   ],
   "source": [
    "import torch\n",
    "import torch.nn as nn\n",
    "\n",
    "# Định nghĩa lớp mô hình kế thừa từ nn.Module\n",
    "class SimpleCNN(nn.Module):\n",
    "    def __init__(self, num_classes=10):\n",
    "        super(SimpleCNN, self).__init__()\n",
    "        \n",
    "        # Khối đặc trưng (feature extractor) dùng nn.Sequential\n",
    "        self.features = nn.Sequential(\n",
    "            nn.Conv2d(1, 16, kernel_size=3, stride=1, padding=1),  # Conv: 1 kênh vào, 16 kênh ra\n",
    "            nn.ReLU(),\n",
    "            nn.MaxPool2d(kernel_size=2, stride=2),                # Pooling: giảm kích thước\n",
    "            nn.Conv2d(16, 32, kernel_size=3, stride=1, padding=1), # Conv: 16 -> 32 kênh\n",
    "            nn.ReLU(),\n",
    "            nn.MaxPool2d(kernel_size=2, stride=2)                 # Pooling lần 2\n",
    "        )\n",
    "        \n",
    "        # Khối phân loại (classifier) dùng nn.Sequential\n",
    "        self.classifier = nn.Sequential(\n",
    "            nn.Flatten(),                  # Phẳng hóa tensor\n",
    "            nn.Linear(32 * 7 * 7, 128),    # 32 kênh * 7x7 (kích thước sau pooling)\n",
    "            nn.ReLU(),\n",
    "            nn.Linear(128, num_classes),   # Đầu ra: số lớp\n",
    "            nn.Softmax(dim=1)              # Chuẩn hóa thành xác suất\n",
    "        )\n",
    "    \n",
    "    # Phương thức forward\n",
    "    def forward(self, x):\n",
    "        x = self.features(x)    # Trích xuất đặc trưng\n",
    "        x = self.classifier(x)  # Phân loại\n",
    "        return x\n",
    "\n",
    "# Khởi tạo mô hình\n",
    "model = SimpleCNN(num_classes=10)\n",
    "print(model)"
   ]
  }
 ],
 "metadata": {
  "kernelspec": {
   "display_name": "Python 3 (ipykernel)",
   "language": "python",
   "name": "python3"
  },
  "language_info": {
   "codemirror_mode": {
    "name": "ipython",
    "version": 3
   },
   "file_extension": ".py",
   "mimetype": "text/x-python",
   "name": "python",
   "nbconvert_exporter": "python",
   "pygments_lexer": "ipython3",
   "version": "3.12.4"
  }
 },
 "nbformat": 4,
 "nbformat_minor": 5
}
