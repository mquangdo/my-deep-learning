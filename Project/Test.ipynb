{
 "cells": [
  {
   "cell_type": "code",
   "execution_count": 15,
   "id": "e9ce165b-9493-4a73-88b2-07f984120d58",
   "metadata": {},
   "outputs": [
    {
     "name": "stdout",
     "output_type": "stream",
     "text": [
      "[{'episode-title': '1. Chapter One: The Vanishing of Will Byers', 'episode-description': \"On his way home from a friend's house, young Will sees something terrifying. Nearby, a sinister secret lurks in the depths of a government lab.\"}, {'episode-title': '2. Chapter Two: The Weirdo on Maple Street', 'episode-description': 'Lucas, Mike and Dustin try to talk to the girl they found in the woods. Hopper questions an anxious Joyce about an unsettling phone call.'}, {'episode-title': '3. Chapter Three: Holly, Jolly', 'episode-description': \"An increasingly concerned Nancy looks for Barb and finds out what Jonathan's been up to. Joyce is convinced Will is trying to talk to her.\"}, {'episode-title': '4. Chapter Four: The Body', 'episode-description': 'Refusing to believe Will is dead, Joyce tries to connect with her son. The boys give Eleven a makeover. Nancy and Jonathan form an unlikely alliance.'}, {'episode-title': '5. Chapter Five: The Flea and the Acrobat', 'episode-description': 'Hopper breaks into the lab while Nancy and Jonathan confront the force that took Will. The boys ask Mr. Clarke how to travel to another dimension.'}, {'episode-title': '6. Chapter Six: The Monster', 'episode-description': \"A frantic Jonathan looks for Nancy in the darkness, but Steve's looking for her, too. Hopper and Joyce uncover the truth about the lab's experiments.\"}, {'episode-title': '7. Chapter Seven: The Bathtub', 'episode-description': 'Eleven struggles to reach Will, while Lucas warns that \"the bad men are coming.\" Nancy and Jonathan show the police what Jonathan caught on camera.'}, {'episode-title': '8. Chapter Eight: The Upside Down', 'episode-description': \"Dr. Brenner holds Hopper and Joyce for questioning while the boys wait with Eleven in the gym. Back at Will's, Nancy and Jonathan prepare for battle.\"}, {'genre': 'Sci-Fi TV '}, {'genre': 'Teen TV Shows '}, {'genre': 'US TV Shows '}, {'genre': 'Horror TV Serials'}, {'mood': 'Nostalgic '}, {'mood': 'Ominous '}, {'mood': 'Scary'}, {'cast': 'Winona Ryder'}, {'cast': 'David Harbour'}, {'cast': 'Millie Bobby Brown'}, {'cast': 'Finn Wolfhard'}, {'cast': 'Gaten Matarazzo'}, {'cast': 'Caleb McLaughlin'}, {'cast': 'Noah Schnapp'}, {'cast': 'Sadie Sink'}, {'cast': 'Natalia Dyer'}, {'cast': 'Charlie Heaton'}, {'cast': 'Joe Keery'}, {'cast': 'Maya Hawke'}, {'cast': 'Brett Gelman'}, {'cast': 'Priah Ferguson'}, {'cast': 'Dacre Montgomery'}, {'cast': 'Cara Buono'}, {'cast': 'Matthew Modine'}, {'cast': 'Paul Reiser'}, {'cast': 'Sean Astin'}, {'cast': 'Shannon Purser'}, {'name': 'Stranger Things', 'seasons': '4 Seasons', 'about': \"This nostalgic nod to '80s sci-fi and horror classics has earned dozens of Emmy nominations, including three for Outstanding Drama.\", 'facebook': 'https://www.facebook.com/StrangerThingsTV/', 'twitter': 'https://twitter.com/stranger_things', 'instagram': 'https://www.instagram.com/strangerthingstv'}]\n"
     ]
    }
   ],
   "source": [
    "import requests\n",
    "from bs4 import BeautifulSoup\n",
    "l=list()\n",
    "o={}\n",
    "e={}\n",
    "d={}\n",
    "m={}\n",
    "c={}\n",
    "target_url=\"https://www.netflix.com/in/title/80057281\"\n",
    "resp = requests.get(target_url)/\n",
    "soup = BeautifulSoup(resp.text, 'html.parser')\n",
    "o[\"name\"]=soup.find(\"h1\", {\"class\":\"title-title\"}).text\n",
    "o[\"seasons\"] = soup.find(\"span\", {\"class\":\"duration\"}).text\n",
    "o[\"about\"] = soup.find(\"div\", {\"class\":\"hook-text\"}).text\n",
    "episodes = soup.find(\"ol\",{\"class\":\"episodes-container\"}).find_all(\"li\")\n",
    "for i in range(0,len(episodes)):\n",
    "    e[\"episode-title\"]=episodes[i].find(\"h3\",{\"class\":\"episode-title\"}).text\n",
    "    e[\"episode-description\"]=episodes[i].find(\"p\",{\"class\":\"epsiode-synopsis\"}).text\n",
    "    l.append(e)\n",
    "    e={}\n",
    "genres = soup.find_all(\"span\",{\"class\":\"item-genres\"})\n",
    "for x in range(0,len(genres)):\n",
    "  d[\"genre\"]=genres[x].text.replace(\",\",\"\")\n",
    "  l.append(d)\n",
    "  d={}\n",
    "mood = soup.find_all(\"span\",{\"class\":\"item-mood-tag\"})\n",
    "for y in range(0,len(mood)):\n",
    "  m[\"mood\"]=mood[y].text.replace(\",\",\"\")\n",
    "  l.append(m)\n",
    "  m={}\n",
    "o[\"facebook\"]=soup.find(\"a\",{\"data-uia\":\"social-link-facebook\"}).get(\"href\")\n",
    "o[\"twitter\"]=soup.find(\"a\",{\"data-uia\":\"social-link-twitter\"}).get(\"href\")\n",
    "o[\"instagram\"]=soup.find(\"a\",{\"data-uia\":\"social-link-instagram\"}).get(\"href\")\n",
    "cast=soup.find_all(\"span\",{\"class\":\"item-cast\"})\n",
    "for t in range(0,len(cast)):\n",
    "  c[\"cast\"]=cast[t].text\n",
    "  l.append(c)\n",
    "  c={}\n",
    "l.append(o)\n",
    "print(l)"
   ]
  },
  {
   "cell_type": "code",
   "execution_count": 21,
   "id": "35d6837d-5179-4c71-a092-91304eae6f02",
   "metadata": {},
   "outputs": [
    {
     "name": "stdout",
     "output_type": "stream",
     "text": [
      "200\n"
     ]
    }
   ],
   "source": [
    "target_url=\"https://www.netflix.com/in/title/80057281\"\n",
    "resp = requests.get(target_url)\n",
    "print(resp.status_code)"
   ]
  },
  {
   "cell_type": "code",
   "execution_count": 23,
   "id": "f305f434-852e-4f65-8397-15dcc874a79d",
   "metadata": {},
   "outputs": [],
   "source": [
    "soup=BeautifulSoup(resp.text, 'html.parser')\n",
    "l=list()\n",
    "o={}\n",
    "e={}\n",
    "d={}\n",
    "m={}\n",
    "c={}"
   ]
  },
  {
   "cell_type": "code",
   "execution_count": 77,
   "id": "5a46715a-d66a-47fd-97d6-fa950fa0bc95",
   "metadata": {},
   "outputs": [],
   "source": [
    "o[\"name\"]=soup.find(\"h1\", {\"class\":\"title-title\"}).text\n",
    "o[\"seasons\"] = soup.find(\"span\", {\"class\":\"duration\"}).text\n",
    "o[\"about\"] = soup.find(\"div\", {\"class\":\"hook-text\"}).text"
   ]
  },
  {
   "cell_type": "code",
   "execution_count": 101,
   "id": "189c2e22-5810-4dc4-af22-80d842e7ed24",
   "metadata": {},
   "outputs": [],
   "source": [
    "episodes = soup.find(\"ol\",{\"class\":\"episodes-container\"}).find_all(\"li\")\n",
    "for i in range(0,len(episodes)):\n",
    "    e[\"episode-title\"]=episodes[i].find(\"h3\",{\"class\":\"episode-title\"}).text\n",
    "    e[\"episode-description\"]=episodes[i].find(\"p\",{\"class\":\"epsiode-synopsis\"}).text\n",
    "    l.append(e)"
   ]
  },
  {
   "cell_type": "code",
   "execution_count": 105,
   "id": "4e4775fe-73cb-4d73-b289-5bf79f6c4037",
   "metadata": {},
   "outputs": [
    {
     "data": {
      "text/plain": [
       "[<li class=\"episode\" data-uia=\"episode\"><figure class=\"episode-thumbnail\" data-uia=\"episode-thumbnail\"><span class=\"episode-thumbnail-gradient\"></span><img alt=\"Watch Chapter One: The Vanishing of Will Byers. Episode 1 of Season 1.\" class=\"episode-thumbnail-image\" data-uia=\"episode-thumbnail-image\" loading=\"lazy\" src=\"https://occ-0-395-325.1.nflxso.net/dnm/api/v6/9pS1daC2n6UGc3dUogvWIPMR_OU/AAAABYtfkVLxw6lawtNwtIyOhLDnTEXi2AvuyqYG3i-jZ3Y1mrRsZCJAt8mcAxiZqZHQvCS2pl4StiieJUrohIS70br7yzenTsQqVgsVKq3C5A8vuoL_GstEWeB7.jpg?r=d74\"/></figure><div class=\"episode-metadata\"><h3 class=\"episode-title\" data-uia=\"episode-title\">1. Chapter One: The Vanishing of Will Byers</h3><span class=\"episode-runtime\" data-uia=\"episode-runtime\">49m</span></div><p class=\"epsiode-synopsis\" data-uia=\"episode-synopsis\">On his way home from a friend's house, young Will sees something terrifying. Nearby, a sinister secret lurks in the depths of a government lab.</p></li>,\n",
       " <li class=\"episode\" data-uia=\"episode\"><figure class=\"episode-thumbnail\" data-uia=\"episode-thumbnail\"><span class=\"episode-thumbnail-gradient\"></span><img alt=\"Watch Chapter Two: The Weirdo on Maple Street. Episode 2 of Season 1.\" class=\"episode-thumbnail-image\" data-uia=\"episode-thumbnail-image\" loading=\"lazy\" src=\"https://occ-0-395-325.1.nflxso.net/dnm/api/v6/9pS1daC2n6UGc3dUogvWIPMR_OU/AAAABQtwsxsHgdgWIND4fSpPITza0IkQHiqZDXdeVicRWtG9JhFAws01znsKfW8XeqW_2WWBmJpqpnmdN9b7uOy3ePJ2P0Rb30PJsTNGWkXTV0aFZDawHX8kIN3Z.jpg?r=cc9\"/></figure><div class=\"episode-metadata\"><h3 class=\"episode-title\" data-uia=\"episode-title\">2. Chapter Two: The Weirdo on Maple Street</h3><span class=\"episode-runtime\" data-uia=\"episode-runtime\">56m</span></div><p class=\"epsiode-synopsis\" data-uia=\"episode-synopsis\">Lucas, Mike and Dustin try to talk to the girl they found in the woods. Hopper questions an anxious Joyce about an unsettling phone call.</p></li>,\n",
       " <li class=\"episode\" data-uia=\"episode\"><figure class=\"episode-thumbnail\" data-uia=\"episode-thumbnail\"><span class=\"episode-thumbnail-gradient\"></span><img alt=\"Watch Chapter Three: Holly, Jolly. Episode 3 of Season 1.\" class=\"episode-thumbnail-image\" data-uia=\"episode-thumbnail-image\" loading=\"lazy\" src=\"https://occ-0-395-325.1.nflxso.net/dnm/api/v6/9pS1daC2n6UGc3dUogvWIPMR_OU/AAAABfvDB1xGZuh-SkB7WccIvvvpGTvyOaoYqtePmpAV3pfCbB01RJbg2srq_yIL9UXu-tvyPH9oHIPbiXRfUsL8P7d7LLHxwZeSGpen3Bwyw7gCzFO0XYaBPOku.jpg?r=8da\"/></figure><div class=\"episode-metadata\"><h3 class=\"episode-title\" data-uia=\"episode-title\">3. Chapter Three: Holly, Jolly</h3><span class=\"episode-runtime\" data-uia=\"episode-runtime\">53m</span></div><p class=\"epsiode-synopsis\" data-uia=\"episode-synopsis\">An increasingly concerned Nancy looks for Barb and finds out what Jonathan's been up to. Joyce is convinced Will is trying to talk to her.</p></li>,\n",
       " <li class=\"episode\" data-uia=\"episode\"><figure class=\"episode-thumbnail\" data-uia=\"episode-thumbnail\"><span class=\"episode-thumbnail-gradient\"></span><img alt=\"Watch Chapter Four: The Body. Episode 4 of Season 1.\" class=\"episode-thumbnail-image\" data-uia=\"episode-thumbnail-image\" loading=\"lazy\" src=\"https://occ-0-395-325.1.nflxso.net/dnm/api/v6/9pS1daC2n6UGc3dUogvWIPMR_OU/AAAABdzKIQH8A3SQH-wskeLalpim9WLRgzXj5TzEG0cg2K3IFnKGvjqJYguqdHfUXwod-Wt70H_mkWlcx3_25eD3ZuywDNnlz0uM_5stE7pFhrg3lIMhbTW7ubMc.jpg?r=6ad\"/></figure><div class=\"episode-metadata\"><h3 class=\"episode-title\" data-uia=\"episode-title\">4. Chapter Four: The Body</h3><span class=\"episode-runtime\" data-uia=\"episode-runtime\">51m</span></div><p class=\"epsiode-synopsis\" data-uia=\"episode-synopsis\">Refusing to believe Will is dead, Joyce tries to connect with her son. The boys give Eleven a makeover. Nancy and Jonathan form an unlikely alliance.</p></li>,\n",
       " <li class=\"episode\" data-uia=\"episode\"><figure class=\"episode-thumbnail\" data-uia=\"episode-thumbnail\"><span class=\"episode-thumbnail-gradient\"></span><img alt=\"Watch Chapter Five: The Flea and the Acrobat. Episode 5 of Season 1.\" class=\"episode-thumbnail-image\" data-uia=\"episode-thumbnail-image\" loading=\"lazy\" src=\"https://occ-0-395-325.1.nflxso.net/dnm/api/v6/9pS1daC2n6UGc3dUogvWIPMR_OU/AAAABQ4GYyP7zd6_FkLaO3FRYw0Zxvi71gu1R3Jg7HNIpg9uUYIvL_UxeUKWTWJPqYjdsd5RL_fmg_tJKKs6rlzsyalFS7XlIcaHm8rskzSkWaQZDCbjWhAg92TP.jpg?r=6d4\"/></figure><div class=\"episode-metadata\"><h3 class=\"episode-title\" data-uia=\"episode-title\">5. Chapter Five: The Flea and the Acrobat</h3><span class=\"episode-runtime\" data-uia=\"episode-runtime\">54m</span></div><p class=\"epsiode-synopsis\" data-uia=\"episode-synopsis\">Hopper breaks into the lab while Nancy and Jonathan confront the force that took Will. The boys ask Mr. Clarke how to travel to another dimension.</p></li>,\n",
       " <li class=\"episode\" data-uia=\"episode\"><figure class=\"episode-thumbnail\" data-uia=\"episode-thumbnail\"><span class=\"episode-thumbnail-gradient\"></span><img alt=\"Watch Chapter Six: The Monster. Episode 6 of Season 1.\" class=\"episode-thumbnail-image\" data-uia=\"episode-thumbnail-image\" loading=\"lazy\" src=\"https://occ-0-395-325.1.nflxso.net/dnm/api/v6/9pS1daC2n6UGc3dUogvWIPMR_OU/AAAABZYtlWKeXj822vSsWsZwbfTqlG7q6IHCc3rpBErf6KCNifHLs6uQpbQn-qxpeJ3sXuRIRTTR3B8LXLEqyJ-1nPayOq_k4HwmOMC6tXcoc5KT0b8jXvG-zb92.jpg?r=3df\"/></figure><div class=\"episode-metadata\"><h3 class=\"episode-title\" data-uia=\"episode-title\">6. Chapter Six: The Monster</h3><span class=\"episode-runtime\" data-uia=\"episode-runtime\">48m</span></div><p class=\"epsiode-synopsis\" data-uia=\"episode-synopsis\">A frantic Jonathan looks for Nancy in the darkness, but Steve's looking for her, too. Hopper and Joyce uncover the truth about the lab's experiments.</p></li>,\n",
       " <li class=\"episode\" data-uia=\"episode\"><figure class=\"episode-thumbnail\" data-uia=\"episode-thumbnail\"><span class=\"episode-thumbnail-gradient\"></span><img alt=\"Watch Chapter Seven: The Bathtub. Episode 7 of Season 1.\" class=\"episode-thumbnail-image\" data-uia=\"episode-thumbnail-image\" loading=\"lazy\" src=\"https://occ-0-395-325.1.nflxso.net/dnm/api/v6/9pS1daC2n6UGc3dUogvWIPMR_OU/AAAABcTY1K2KcB54vDJTTv0wsTJvwqqGPSQszqMMsE0yj5UX2ye5XxYQcZ4J1SUtfJeOCAJYaV6DAfSyql_lCjs5RK2S28UHNWdwdSVj4RMdSS4mRntXgebiHiPB.jpg?r=779\"/></figure><div class=\"episode-metadata\"><h3 class=\"episode-title\" data-uia=\"episode-title\">7. Chapter Seven: The Bathtub</h3><span class=\"episode-runtime\" data-uia=\"episode-runtime\">43m</span></div><p class=\"epsiode-synopsis\" data-uia=\"episode-synopsis\">Eleven struggles to reach Will, while Lucas warns that \"the bad men are coming.\" Nancy and Jonathan show the police what Jonathan caught on camera.</p></li>,\n",
       " <li class=\"episode\" data-uia=\"episode\"><figure class=\"episode-thumbnail\" data-uia=\"episode-thumbnail\"><span class=\"episode-thumbnail-gradient\"></span><img alt=\"Watch Chapter Eight: The Upside Down. Episode 8 of Season 1.\" class=\"episode-thumbnail-image\" data-uia=\"episode-thumbnail-image\" loading=\"lazy\" src=\"https://occ-0-395-325.1.nflxso.net/dnm/api/v6/9pS1daC2n6UGc3dUogvWIPMR_OU/AAAABawN4HxPOBDfKODu0UjV0_56nLnOLWH96o046h8MUtHcEb5OjoWlTL0DaE3nJfC4gwPY5_qB6LoKvOhmUnIoxY_t5x11g4T281G9CN44T9HF1ustK91mBxfE.jpg?r=4b6\"/></figure><div class=\"episode-metadata\"><h3 class=\"episode-title\" data-uia=\"episode-title\">8. Chapter Eight: The Upside Down</h3><span class=\"episode-runtime\" data-uia=\"episode-runtime\">56m</span></div><p class=\"epsiode-synopsis\" data-uia=\"episode-synopsis\">Dr. Brenner holds Hopper and Joyce for questioning while the boys wait with Eleven in the gym. Back at Will's, Nancy and Jonathan prepare for battle.</p></li>]"
      ]
     },
     "execution_count": 105,
     "metadata": {},
     "output_type": "execute_result"
    }
   ],
   "source": [
    "episodes"
   ]
  },
  {
   "cell_type": "code",
   "execution_count": 93,
   "id": "7428ff15-1acf-4b79-a58a-32680f64d8c5",
   "metadata": {},
   "outputs": [],
   "source": [
    "genres = soup.find_all(\"span\",{\"class\":\"item-genres\"})\n",
    "for x in range(0,len(genres)):\n",
    "  d[\"genre\"]=genres[x].text.replace(\",\",\"\")\n",
    "  l.append(d)\n",
    "  d={}"
   ]
  },
  {
   "cell_type": "code",
   "execution_count": 107,
   "id": "78f968aa-28ae-47fb-95c8-6ba1a3c85304",
   "metadata": {},
   "outputs": [],
   "source": [
    "mood = soup.find_all(\"span\",{\"class\":\"item-mood-tag\"})\n",
    "for y in range(0,len(mood)):\n",
    "  m[\"mood\"]=mood[y].text.replace(\",\",\"\")\n",
    "  l.append(m)\n",
    "  m={}\n",
    "\n",
    "o[\"facebook\"]=soup.find(\"a\",{\"data-uia\":\"social-link-facebook\"}).get(\"href\")\n",
    "\n",
    "o[\"twitter\"]=soup.find(\"a\",{\"data-uia\":\"social-link-twitter\"}).get(\"href\")\n",
    "\n",
    "o[\"instagram\"]=soup.find(\"a\",{\"data-uia\":\"social-link-instagram\"}).get(\"href\")\n",
    "\n",
    "cast=soup.find_all(\"span\",{\"class\":\"item-cast\"})\n",
    "for t in range(0,len(cast)):\n",
    "  c[\"cast\"]=cast[t].text\n",
    "  l.append(c)\n",
    "  c={}\n",
    "l.append(o)"
   ]
  },
  {
   "cell_type": "code",
   "execution_count": 109,
   "id": "8f664cb0-5162-4ab7-b9f3-337734ec0726",
   "metadata": {},
   "outputs": [],
   "source": [
    "import requests\n",
    "from bs4 import BeautifulSoup\n",
    "\n",
    "elements = []\n",
    "#a access the web\n",
    "website_url = requests.get('https://en.wikipedia.org/wiki/List_of_Nintendo_Switch_games_(Q%E2%80%93Z)').text"
   ]
  },
  {
   "cell_type": "code",
   "execution_count": 115,
   "id": "21bef697-04ad-4180-a051-d8fd32691ad7",
   "metadata": {},
   "outputs": [],
   "source": [
    "soup = BeautifulSoup(website_url,'lxml')"
   ]
  },
  {
   "cell_type": "code",
   "execution_count": 127,
   "id": "ddd2b299-5915-4b50-a1dc-e5673d8415fb",
   "metadata": {},
   "outputs": [],
   "source": [
    "table = soup.find('table', class_='wikitable plainrowheaders sortable')"
   ]
  },
  {
   "cell_type": "code",
   "execution_count": 131,
   "id": "21759dbb-2591-4c42-8662-4b393fb8c203",
   "metadata": {},
   "outputs": [
    {
     "name": "stdout",
     "output_type": "stream",
     "text": [
      "[['Q.U.B.E. 2', '/wiki/Q.U.B.E._2', 'Toxic Games\\n', 'Trapped Nerve Games\\n', 'February 21, 2019\\n'], ['Quake', '/wiki/Quake_(video_game)', 'id Software', 'Bethesda Softworks', 'August 19, 2021\\n'], ['Quarantine Circular', '/wiki/Quarantine_Circular', 'Mike Bithell Games', 'Mike Bithell Games\\n', 'December 8, 2018\\n'], ['Quest of Dungeons', '/wiki/Quest_of_Dungeons', 'Upfall Studios\\n', 'JP', 'August 10, 2017\\n'], ['R-Type Dimensions EX', '/wiki/R-Type_Dimensions_EX', 'Irem', 'Tozai Games\\n', 'November 28, 2018\\n'], ['R-Type Final 2', '/wiki/R-Type_Final_2', 'Granzella', 'JP', 'April 29, 2021\\n'], ['Rabbids: Adventure Party', '/wiki/Rabbids:_Adventure_Party', 'Ubisoft Chengdu', 'Ubisoft', 'TBA\\n'], ['Rad', '/wiki/Rad_(video_game)', 'Double Fine', 'Bandai Namco Entertainment', 'August 20, 2019\\n'], ['Rad Rodgers Radical Edition', '/wiki/Rad_Rodgers_Radical_Edition', 'Slipgate Studios', 'JP', 'February 26, 2019\\n'], ['Radiant Silvergun', '/wiki/Radiant_Silvergun', 'Treasure', 'Live Wire\\n', 'September 13, 2022\\n'], ['Radiation Island', '/wiki/Radiation_Island', 'Atypical Games\\n', 'Atypical Games\\n', 'February 22, 2018\\n'], ['Rage in Peace', '/wiki/Rage_in_Peace', 'Rolling Glory Jam\\n', 'Toge Productions\\n', 'November 8, 2018\\n'], ['Rage of the Dragons', '/wiki/Rage_of_the_Dragons', 'QUByte Interactive\\n', 'QUByte Interactive\\n', 'TBA\\n'], ['Raging Loop', '/wiki/Raging_Loop', 'Kemco', 'JP', 'August 3, 2017\\n'], ['Raiden V: Director’s Cut', '/wiki/Raiden_V:_Director%E2%80%99s_Cut', 'Moss', 'UFO Interactive Games', 'July 25, 2019\\n'], ['Railbound', '/wiki/Railbound', 'Afterburn\\n', '7Levels\\n', 'December 1, 2022\\n'], ['Railway Empire', '/wiki/Railway_Empire', 'Gaming Minds Studios\\n', 'JP', 'February 14, 2020\\n'], ['Rainbow Billy: The Curse of the Leviathan', '/wiki/Rainbow_Billy:_The_Curse_of_the_Leviathan', 'ManaVoid Entertainment\\n', 'Skybound Games', 'October 5, 2021\\n'], ['Rain World', '/wiki/Rain_World', 'Videocult\\n', 'Adult Swim Games', 'December 13, 2018\\n'], ['Raji: An Ancient Epic', '/wiki/Raji:_An_Ancient_Epic', 'Nodding Heads Games\\n', 'Super.com\\n', 'August 18, 2020\\n'], ['The Raven Remastered', '/wiki/The_Raven_Remastered', 'King Art Games', 'THQ Nordic', 'January 21, 2019\\n'], ['Rayman Legends', '/wiki/Rayman_Legends', 'Ubisoft Montpellier', 'Ubisoft', 'September 12, 2017\\n'], ['R.B.I. Baseball 17', '/wiki/R.B.I._Baseball_17', 'Nighthawk Interactive\\n', 'MLB Advanced Media', 'September 5, 2017\\n'], ['R.B.I. Baseball 18', '/wiki/R.B.I._Baseball_18', 'MLB Advanced Media', 'MLB Advanced Media\\n', 'June 14, 2018\\n'], ['R.B.I. Baseball 19', '/wiki/R.B.I._Baseball_19', 'MLB Advanced Media', 'MLB Advanced Media\\n', 'March 5, 2019\\n'], ['R.B.I. Baseball 20', '/wiki/R.B.I._Baseball_20', 'MLB Advanced Media', 'MLB Advanced Media\\n', 'March 16, 2020\\n'], ['R.B.I. Baseball 21', '/wiki/R.B.I._Baseball_21', 'MLB Advanced Media', 'MLB Advanced Media\\n', 'March 16, 2021\\n'], ['Read Only Memories: Neurodiver', '/wiki/Read_Only_Memories:_Neurodiver', 'MidBoss', 'MidBoss\\n', 'Q1 2022\\n'], ['Real Heroes: Firefighter', '/wiki/Real_Heroes:_Firefighter', 'Epicenter Studios, Scientifically Proven Entertainment\\n', '612 Entertainment, Golem Entertainment\\n', 'November 27, 2019\\n'], ['Realm Royale', '/wiki/Realm_Royale', 'Heroic Leap Games\\n', 'Hi-Rez Studios', 'June 20, 2019\\n'], ['RealMyst: Masterpiece Edition', '/wiki/RealMyst:_Masterpiece_Edition', 'Cyan Worlds', 'Cyan Worlds\\n', 'May 21, 2020\\n'], ['Rebel Galaxy Outlaw', '/wiki/Rebel_Galaxy_Outlaw', 'Double Damage Games\\n', 'Double Damage Games\\n', 'September 22, 2020\\n'], ['Record of Agarest War', '/wiki/Record_of_Agarest_War', 'Compile Heart', 'Aksys Games', 'March 2023\\n'], ['Record of Lodoss War: Deedlit in Wonder Labyrinth', '/wiki/Record_of_Lodoss_War:_Deedlit_in_Wonder_Labyrinth', 'Team Ladybug, Why So Serious?\\n', 'Playism', 'December 16, 2021\\n'], ['Red Dead Redemption', '/wiki/Red_Dead_Redemption', 'Double Eleven', 'Rockstar Games', 'August 17, 2023\\n'], ['Red Faction: Guerrilla Re-Mars-tered', '/wiki/Red_Faction:_Guerrilla_Re-Mars-tered', 'Kaiko\\n', 'THQ Nordic', 'July 2, 2023\\n'], ['The Red Strings Club', '/wiki/The_Red_Strings_Club', 'Deconstructeam\\n', 'Devolver Digital', 'March 14, 2019\\n'], ['Redeemer: Enhanced Edition', '/wiki/Redeemer:_Enhanced_Edition', 'Sobaka Studio\\n', 'JP', 'July 19, 2019\\n'], ['Redout', '/wiki/Redout_(video_game)', '34BigThings\\n', 'Nicalis', 'May 14, 2019\\n'], ['Redout 2', '/wiki/Redout_(video_game)', '34BigThings\\n', 'Saber Interactive', '2022\\n'], ['Reel Fishing: Road Trip Adventure', '/wiki/Reel_Fishing:_Road_Trip_Adventure', 'Natsume Inc.', 'Natsume Inc.\\n', 'September 17, 2019\\n'], ['Reigns: Game of Thrones', '/wiki/Reigns:_Game_of_Thrones', 'Nerial\\n', 'Devolver Digital', 'April 11, 2019\\n'], ['Reigns: Kings & Queens', '/wiki/Reigns:_Kings_%26_Queens', 'Nerial\\n', 'Devolver Digital', 'September 20, 2018\\n'], ['Remnant: From the Ashes', '/wiki/Remnant:_From_the_Ashes', 'Gunfire Games', 'THQ Nordic', 'TBA\\n'], ['Remothered: Broken Porcelain', '/wiki/Remothered:_Broken_Porcelain', 'Stormind Games\\n', 'Darril Arts\\n', 'October 13, 2020\\n'], ['Remothered: Tormented Fathers', '/wiki/Remothered:_Tormented_Fathers', 'Stormind Games\\n', 'Darril Arts\\n', 'June 27, 2019\\n'], ['Resident Evil', '/wiki/Resident_Evil_HD_Remastered', 'Capcom', 'Capcom\\n', 'May 21, 2019\\n'], ['Resident Evil 0', '/wiki/Resident_Evil_0', 'Capcom', 'Capcom\\n', 'May 21, 2019\\n'], ['Resident Evil 2', '/wiki/Resident_Evil_2_(2019_video_game)', 'Capcom', 'Capcom\\n', 'November 11, 2022\\n'], ['Resident Evil 3', '/wiki/Resident_Evil_3_(2020_video_game)', 'Capcom', 'Capcom\\n', 'November 18, 2022\\n'], ['Resident Evil 4', '/wiki/Resident_Evil_4', 'Capcom', 'Capcom\\n', 'May 21, 2019\\n'], ['Resident Evil 5', '/wiki/Resident_Evil_5', 'Capcom', 'Capcom\\n', 'October 29, 2019\\n'], ['Resident Evil 6', '/wiki/Resident_Evil_6', 'Capcom', 'Capcom\\n', 'October 29, 2019\\n'], ['Resident Evil 7: Biohazard', '/wiki/Resident_Evil_7:_Biohazard', 'Capcom', 'Capcom\\n', 'May 24, 2018\\n'], ['Resident Evil: Origins Collection', '/wiki/Resident_Evil:_Origins_Collection', 'Capcom', 'Capcom\\n', 'May 21, 2019\\n'], ['Resident Evil: Revelations', '/wiki/Resident_Evil:_Revelations', 'Capcom', 'Capcom\\n', 'November 28, 2017\\n'], ['Resident Evil: Revelations 2', '/wiki/Resident_Evil:_Revelations_2', 'Capcom', 'Capcom\\n', 'November 28, 2017\\n'], ['Resident Evil Village', '/wiki/Resident_Evil_Village', 'Capcom', 'Capcom\\n', 'October 28, 2022\\n'], ['Retro City Rampage DX', '/wiki/Retro_City_Rampage_DX', 'Vblank Entertainment\\n', 'Vblank Entertainment\\n', 'August 3, 2017\\n'], ['Retro Bowl', '/wiki/Retro_Bowl', 'New Star Games', '\\n', 'February 10, 2022\\n'], ['Return of the Obra Dinn', '/wiki/Return_of_the_Obra_Dinn', '3909\\n', '3909\\n', 'October 18, 2019\\n'], ['Return to Monkey Island', '/wiki/Return_to_Monkey_Island', 'Terrible Toybox\\n', 'Devolver Digital', 'September 19, 2022\\n'], ['Revenant Dogma', '/wiki/Revenant_Dogma', 'Exe Create\\n', 'Kemco', 'October 4, 2018\\n'], ['Revenant Saga', '/wiki/Revenant_Saga', 'Exe Create\\n', 'Kemco', 'October 19, 2017\\n'], ['Reverie: Sweet As Edition', '/wiki/Reverie:_Sweet_As_Edition', 'Rainbite', 'Rainbite\\n', 'February 7, 2019\\n'], ['Reverie Knights Tactics', '/wiki/Reverie_Knights_Tactics', '40 Giants Entertainment\\n', '1C Entertainment', 'January 25, 2022\\n'], ['Revita', '/wiki/Revita', 'BenStar\\n', 'Dear Villagers', 'April 21, 2022\\n'], ['Re:Zero -Starting Life in Another World-: The Prophecy of the Throne', '/wiki/Re:Zero_-Starting_Life_in_Another_World-:_The_Prophecy_of_the_Throne', 'Chime\\n', 'Spike Chunsoft', 'January 28, 2021\\n'], ['Rime', '/wiki/Rime_(video_game)', 'Tequila Works', 'Grey Box\\n', 'November 14, 2017\\n'], ['Ring Fit Adventure', '/wiki/Ring_Fit_Adventure', 'Nintendo EPD', 'Nintendo', 'October 18, 2019\\n'], ['Rise Eterna', '/wiki/Rise_Eterna', 'Makee\\n', 'Forever Entertainment\\n', 'May 13, 2021\\n'], ['Rise of the Triad Remastered', '/wiki/Rise_of_the_Triad_Remastered', 'Destructive Creations, Apogee Software\\n', '3D Realms', '2021\\n'], ['Risen', '/wiki/Risen_(video_game)', 'Piranha Bytes', 'THQ Nordic', 'January 24, 2023\\n'], ['Risk of Rain', '/wiki/Risk_of_Rain', 'Hopoo Games\\n', 'Chucklefish', 'September 20, 2018\\n'], ['Risk of Rain 2', '/wiki/Risk_of_Rain_2', 'Hopoo Games\\n', 'JP', 'August 30, 2019\\n'], ['Rivals of Aether', '/wiki/Rivals_of_Aether', 'Petra Jurošková\\n', 'Dan Fornace\\n', 'September 24, 2020\\n'], ['Rive', '/wiki/Rive_(video_game)', 'Two Tribes', 'JP', 'November 17, 2017\\n'], ['River City Girls', '/wiki/River_City_Girls', 'WayForward', 'Arc System Works', 'September 5, 2019\\n'], ['River City Girls 2', '/wiki/River_City_Girls_2', 'WayForward', 'Arc System Works', '2022\\n'], ['River City Girls Zero', '/wiki/River_City_Girls_Zero', 'WayForward', 'Arc System Works', 'February 14, 2022\\n'], ['River City Melee Mach', '/wiki/River_City_Melee_Mach', 'WayForward', 'Arc System Works', 'October 10, 2019\\n'], ['Robonauts', '/wiki/Robonauts', 'QubicGames\\n', 'QubicGames\\n', 'September 15, 2017\\n'], ['Robotics;Notes Dash', '/wiki/Robotics;Notes_Dash', '5pb.', 'JP', 'January 31, 2019\\n'], ['Robotics;Notes Elite', '/wiki/Robotics;Notes_Elite', '5pb.', 'JP', 'January 31, 2019\\n'], ['Rock of Ages 2: Bigger & Boulder', '/wiki/Rock_of_Ages_2:_Bigger_%26_Boulder', 'Ace Team', 'Sega', 'May 14, 2019\\n'], ['Rock of Ages III: Make & Break', '/wiki/Rock_of_Ages_III:_Make_%26_Break', 'Giant Monkey Robot, ', 'JP', 'July 21, 2020\\n'], ['Rocket League', '/wiki/Rocket_League', 'Psyonix', 'Psyonix\\n', 'November 14, 2017\\n'], ['Rockets Rockets Rockets', '/wiki/Rockets_Rockets_Rockets', 'Radial Games\\n', 'Radial Games\\n', 'November 15, 2018\\n'], ['Rogue Company', '/wiki/Rogue_Company', 'Hi-Rez Studios', 'Hi-Rez Studios\\n', 'October 1, 2020\\n'], ['Rogue Heroes: Ruins of Tasos', '/wiki/Rogue_Heroes:_Ruins_of_Tasos', 'Heliocentric Studios\\n', 'Team17', 'February 23, 2021\\n'], ['Rogue Legacy', '/wiki/Rogue_Legacy', 'Cellar Door Games\\n', 'Cellar Door Games\\n', 'November 6, 2018\\n'], ['Rogue Trooper Redux', '/wiki/Rogue_Trooper_Redux', 'Rebellion Developments', 'Rebellion Developments\\n', 'October 17, 2017\\n'], ['RollerCoaster Tycoon 3', '/wiki/RollerCoaster_Tycoon_3', 'Frontier Developments\\n', 'Frontier Developments\\n', 'September 24, 2020\\n'], ['RollerCoaster Tycoon Adventures', '/wiki/RollerCoaster_Tycoon_Adventures', 'Nvizzio Creations\\n', 'Atari', 'December 6, 2018\\n'], ['Roller Champions', '/wiki/Roller_Champions', 'Ubisoft Montreal', 'Ubisoft', '2021\\n'], ['Romance of the Three Kingdoms XIII', '/wiki/Romance_of_the_Three_Kingdoms_XIII', 'Koei', 'Koei Tecmo', 'March 30, 2017\\n'], ['Romancing SaGa 2', '/wiki/Romancing_SaGa_2', 'ArtePiazza', 'Square Enix', 'December 15, 2017\\n'], ['Romancing SaGa 3', '/wiki/Romancing_SaGa_3', 'ArtePiazza', 'Square Enix', 'November 11, 2019\\n'], ['Romancing SaGa: Minstrel Song Remastered', '/wiki/Romancing_SaGa:_Minstrel_Song', 'Square Enix', 'Square Enix\\n', 'December 1, 2022\\n'], ['The Room', '/wiki/The_Room_(video_game)', 'Fireproof Games', 'Team17', 'October 18, 2018\\n'], ['Root Film', '/wiki/Root_Film', 'Kadokawa Games', 'JP', 'July 30, 2020\\n'], ['Root Letter: Last Answer', '/wiki/Root_Letter:_Last_Answer', 'Kadokawa Games', 'JP', 'December 20, 2018\\n'], ['RPG Maker MV', '/wiki/RPG_Maker_MV', 'Enterbrain\\n', 'Kadokawa Games\\n', 'November 15, 2018\\n'], ['Ruined King: A League of Legends Story', '/wiki/Ruined_King:_A_League_of_Legends_Story', 'Airship Syndicate', 'Riot Forge', 'November 16, 2021\\n'], ['Ruiner', '/wiki/Ruiner_(video_game)', 'Reikon Games\\n', 'Devolver Digital', 'June 18, 2020\\n'], ['Runbow', '/wiki/Runbow', '13AM Games, ', 'Rainy Frog\\n', 'July 3, 2018\\n'], ['Rune Factory 3 Special', '/wiki/Rune_Factory_3_Special', 'Marvelous', 'JP', 'March 2, 2023\\n'], ['Rune Factory 4 Special', '/wiki/Rune_Factory_4_Special', 'Marvelous', 'JP', 'July 25, 2019\\n'], ['Rune Factory 5', '/wiki/Rune_Factory_5', 'Marvelous', 'JP', 'May 20, 2021\\n'], ['Runestone Keeper', '/wiki/Runestone_Keeper', 'Innoteg, Cimu Games\\n', 'Circle Entertainment\\n', 'August 20, 2020\\n'], ['Runner3', '/wiki/Runner3', 'Choice Provisions', 'Choice Provisions\\n', 'May 22, 2018\\n'], ['RWBY: Grimm Eclipse – Definitive Edition', '/wiki/RWBY:_Grimm_Eclipse', 'Rooster Teeth Games', 'Aspyr', 'May 13, 2021\\n'], ['RWBY: Arrowfell', '/wiki/RWBY:_Arrowfell', 'WayForward', 'Arc System Works', '2022\\n'], [\"The Ryuo's Work Is Never Done!\", '/wiki/The_Ryuo%27s_Work_Is_Never_Done!', 'Entergram\\n', 'Entergram\\n', 'December 17, 2020\\n'], ['Saboteur', '/wiki/Saboteur_(1985_video_game)', 'Clive Townsend\\n', 'SimFabric\\n', 'November 9, 2018\\n'], ['SaGa: Scarlet Grace', '/wiki/SaGa:_Scarlet_Grace', 'Square Enix', 'Square Enix\\n', 'August 2, 2018\\n'], ['SaGa Frontier Remastered', '/wiki/SaGa_Frontier_Remastered', 'Square Enix', 'Square Enix\\n', 'April 15, 2021\\n'], ['Saint Kotar', '/wiki/Saint_Kotar', 'Red Martyr Entertainment\\n', 'Soedesco', 'October 14, 2022\\n'], ['Saints Row: The Third', '/wiki/Saints_Row:_The_Third', 'Volition', 'JP', 'May 9, 2019\\n'], ['Saints Row IV: Re-Elected', '/wiki/Saints_Row_IV:_Re-Elected', 'Volition', 'Deep Silver', 'March 27, 2020\\n'], ['Sakuna: Of Rice and Ruin', '/wiki/Sakuna:_Of_Rice_and_Ruin', 'Edelweiss\\n', 'Xseed Games', 'November 10, 2020\\n'], ['Salt and Sanctuary', '/wiki/Salt_and_Sanctuary', 'Ska Studios', 'Ska Studios\\n', 'August 2, 2018\\n'], ['Saltsea Chronicles', '/wiki/Saltsea_Chronicles', 'Die Gute Fabrik', 'Die Gute Fabrik\\n', 'October 12, 2023\\n'], ['Sam & Max Beyond Time and Space Remastered', '/wiki/Sam_%26_Max_Beyond_Time_and_Space_Remastered', 'Skunkape Games\\n', 'Skunkape Games\\n', 'December 8, 2021\\n'], ['Sam & Max Save the World Remastered', '/wiki/Sam_%26_Max_Save_the_World_Remastered', 'Skunkape Games\\n', 'Skunkape Games\\n', 'December 2, 2020\\n'], [\"Sam & Max: The Devil's Playhouse Remastered\", '/wiki/Sam_%26_Max:_The_Devil%27s_Playhouse_Remastered', 'Skunkape Games\\n', 'Skunkape Games\\n', 'August 14, 2024\\n'], ['Samba de Amigo: Party Central', '/wiki/Samba_de_Amigo:_Party_Central', 'Sega', 'Sega\\n', 'August 29, 2023\\n'], ['Samurai Gunn 2', '/wiki/Samurai_Gunn_2', 'Teknopants\\n', 'Maxistentialism\\n', 'TBA\\n'], ['Samurai Jack: Battle Through Time', '/wiki/Samurai_Jack:_Battle_Through_Time', 'Soleil Ltd.\\n', 'JP', 'August 21, 2020\\n'], ['Samurai Shodown', '/wiki/Samurai_Shodown_(2019_video_game)', 'SNK', 'SNK\\n', 'December 12, 2019\\n'], ['Samurai Shodown NeoGeo Collection', '/wiki/Samurai_Shodown_NeoGeo_Collection', 'SNK', 'SNK\\n', 'June 11, 2020\\n'], ['Samurai Warriors 5', '/wiki/Samurai_Warriors_5', 'Omega Force', 'Koei Tecmo', 'June 24, 2021\\n'], ['Samurai Warriors: Spirit of Sanada', '/wiki/Samurai_Warriors:_Spirit_of_Sanada', 'Omega Force', 'Koei Tecmo', 'November 9, 2017\\n'], ['Saturday Morning RPG', '/wiki/Saturday_Morning_RPG', 'Mighty Rabbit Studios\\n', 'Limited Run Games\\n', 'April 26, 2018\\n'], ['Save Me Mr Tako', '/wiki/Save_Me_Mr_Tako', 'Deneos Games\\n', 'Nicalis', 'October 30, 2018\\n'], ['Save Me Mr Tako: Definitive Edition', '/wiki/Save_Me_Mr_Tako', 'Deneos Games\\n', 'Limited Run Games', 'May 5, 2021\\n'], ['Sayonara Wild Hearts', '/wiki/Sayonara_Wild_Hearts', 'Simogo', 'Annapurna Interactive', 'September 19, 2019\\n'], ['Schlag den Star: Das Spiel', '/wiki/Schlag_den_Star:_Das_Spiel', 'Lost the Game Studios\\n', 'BitComposer Interactive', 'September 29, 2017\\n'], ['Scott Pilgrim vs. the World: The Game - Complete Edition', '/wiki/Scott_Pilgrim_vs._the_World:_The_Game_-_Complete_Edition', 'Engine Software', 'Ubisoft', 'January 14, 2021\\n'], ['Screencheat: Unplugged', '/wiki/Screencheat:_Unplugged', 'Samurai Punk\\n', 'Surprise Attack\\n', 'November 29, 2018\\n'], ['Scribblenauts Mega Pack', '/wiki/Scribblenauts_Mega_Pack', 'Shiver Entertainment\\n', 'WB Games\\n', 'September 18, 2018\\n'], ['Scribblenauts Showdown', '/wiki/Scribblenauts_Showdown', 'Shiver Entertainment\\n', 'Warner Bros. Interactive Entertainment', 'March 6, 2018\\n'], ['SD Gundam G Generation Cross Rays', '/wiki/SD_Gundam_G_Generation_Cross_Rays', 'Bandai Namco Studios', 'Bandai Namco Entertainment', 'November 28, 2019\\n'], ['SD Gundam G Generation Genesis', '/wiki/SD_Gundam_G_Generation_Genesis', 'Bandai Namco Studios', 'Bandai Namco Entertainment', 'April 26, 2018\\n'], [\"Sea of Solitude: The Director's Cut\", '/wiki/Sea_of_Solitude', 'Jo-Mei Games\\n', 'Quantic Dream', 'March 4, 2021\\n'], ['Sea of Stars', '/wiki/Sea_of_Stars', 'Sabotage Studio\\n', 'Sabotage Studio\\n', 'August 29, 2023\\n'], ['Seek Hearts', '/wiki/Seek_Hearts', 'Exe Create\\n', 'Kemco', 'January 16, 2020\\n'], ['Sega Genesis Classics', '/wiki/Sega_Genesis_Classics', 'd3t\\n', 'Sega', 'December 6, 2018\\n'], ['Semblance', '/wiki/Semblance_(video_game)', 'Nyamakop\\n', 'Nyamakop\\n', 'July 24, 2018\\n'], ['Sense: A Cyberpunk Ghost Story', '/wiki/Sense:_A_Cyberpunk_Ghost_Story', 'Suzaku\\n', 'Top Hat Studios\\n', 'January 7, 2021\\n'], ['Senran Kagura: Peach Ball', '/wiki/Senran_Kagura:_Peach_Ball', 'Marvelous', 'Marvelous\\n', 'December 13, 2018\\n'], ['Senran Kagura: Reflexions', '/wiki/Senran_Kagura:_Reflexions', 'Marvelous', 'NA', 'November 24, 2017\\n'], ['Serial Cleaner', '/wiki/Serial_Cleaner', 'iFun4all\\n', 'Curve Digital', 'November 30, 2017\\n'], ['Serial Cleaners', '/wiki/Serial_Cleaners', 'Draw Distance\\n', 'Draw Distance\\n', '2021\\n'], ['Serious Sam Collection', '/wiki/Serious_Sam', 'Croteam', 'Devolver Digital', 'November 17, 2020\\n'], ['Severed', '/wiki/Severed_(video_game)', 'DrinkBox Studios', 'JP', 'August 8, 2017\\n'], ['The Sexy Brutale', '/wiki/The_Sexy_Brutale', 'Tequila Works', 'JP', 'December 7, 2017\\n'], ['Shadow Man Remastered', '/wiki/Shadow_Man_Remastered', 'Nightdive Studios', 'Nightdive Studios\\n', 'January 17, 2022\\n'], ['Shadowgate', '/wiki/Shadowgate', 'Abstraction Games\\n', 'Abstraction Games\\n', 'April 11, 2019\\n'], [\"Shadowrun: Dragonfall - Director's Cut\", '/wiki/Shadowrun:_Dragonfall_-_Director%27s_Cut', 'Paradox Interactive', 'Paradox Interactive\\n', '2022\\n'], ['Shadowrun: Hong Kong', '/wiki/Shadowrun:_Hong_Kong', 'Paradox Interactive', 'Paradox Interactive\\n', '2022\\n'], ['Shadowrun Returns', '/wiki/Shadowrun_Returns', 'Paradox Interactive', 'Paradox Interactive\\n', '2022\\n'], [\"Shadowverse: Champion's Battle\", '/wiki/Shadowverse:_Champion%27s_Battle', 'Cygames', 'JP', 'November 5, 2020\\n'], ['Shakedown: Hawaii', '/wiki/Shakedown:_Hawaii', 'Vblank Entertainment\\n', 'Vblank Entertainment\\n', 'May 7, 2019\\n'], ['Shantae', '/wiki/Shantae_(video_game)', 'WayForward', 'WayForward\\n', 'April 22, 2021\\n'], ['Shantae: Half-Genie Hero', '/wiki/Shantae:_Half-Genie_Hero', 'WayForward', 'WayForward\\n', 'June 8, 2017\\n'], [\"Shantae: Risky's Revenge - Director's Cut\", '/wiki/Shantae:_Risky%27s_Revenge_-_Director%27s_Cut', 'WayForward', 'WayForward\\n', 'October 15, 2020\\n'], ['Shantae Advance: Risky Revolution', '/wiki/Shantae_Advance:_Risky_Revolution', 'WayForward', 'WayForward\\n', '2025\\n'], [\"Shantae and the Pirate's Curse\", '/wiki/Shantae_and_the_Pirate%27s_Curse', 'WayForward', 'WayForward\\n', 'March 20, 2018\\n'], ['Shantae and the Seven Sirens', '/wiki/Shantae_and_the_Seven_Sirens', 'WayForward', 'JP', 'May 28, 2020\\n'], ['Shattered – Tale of the Forgotten King', '/wiki/Shattered_%E2%80%93_Tale_of_the_Forgotten_King', 'Redlock Studio\\n', 'Forthright Entertainment\\n', 'April 22, 2022\\n'], ['Shaq Fu: A Legend Reborn', '/wiki/Shaq_Fu:_A_Legend_Reborn', 'Big Deez Productions\\n', 'Saber Interactive', 'June 5, 2018\\n'], ['Sheltered', '/wiki/Sheltered_(video_game)', 'Unicube Studios\\n', 'Team17', 'December 18, 2018\\n'], ['Sherlock Holmes: The Awakened', '/wiki/Sherlock_Holmes:_The_Awakened_(2023_video_game)', 'Frogwares', 'Frogwares\\n', 'April 11, 2023\\n'], ['Sherlock Holmes: Crimes & Punishments', '/wiki/Sherlock_Holmes:_Crimes_%26_Punishments', 'Frogwares', 'Frogwares\\n', 'February 3, 2022\\n'], [\"Sherlock Holmes: The Devil's Daughter\", '/wiki/Sherlock_Holmes:_The_Devil%27s_Daughter', 'Frogwares', 'Frogwares\\n', 'April 7, 2022\\n'], ['Shin Megami Tensei III: Nocturne HD Remaster', '/wiki/Shin_Megami_Tensei_III:_Nocturne_HD_Remaster', 'Atlus', 'Atlus\\n', 'October 29, 2020\\n'], ['Shin Megami Tensei V', '/wiki/Shin_Megami_Tensei_V', 'Atlus', 'WW', 'November 11, 2021\\n'], ['Spirit Hunter: Death Mark II', '/wiki/Spirit_Hunter:_Death_Mark_II', 'Experience\\n', 'Experience\\n', 'December 1, 2022\\n'], ['Shining Resonance Refrain', '/wiki/Shining_Resonance_Refrain', 'Sega', 'Sega\\n', 'July 10, 2018\\n'], ['Shiren the Wanderer: The Tower of Fortune and the Dice of Fate', '/wiki/Shiren_the_Wanderer:_The_Tower_of_Fortune_and_the_Dice_of_Fate', 'Spike Chunsoft', 'Spike Chunsoft\\n', 'December 2, 2020\\n'], ['Shironeko New Project', '/wiki/Shironeko_New_Project', 'Colopl\\n', 'Colopl\\n', 'TBA\\n'], ['Shinsekai: Into the Depths', '/wiki/Shinsekai:_Into_the_Depths', 'Capcom', 'Capcom\\n', 'March 26, 2020\\n'], ['A Short Hike', '/wiki/A_Short_Hike', 'Adamgryu\\n', 'JP', 'August 18, 2020\\n'], ['Shovel Knight', '/wiki/Shovel_Knight', 'Yacht Club Games', 'Yacht Club Games\\n', 'March 3, 2017\\n'], ['Shovel Knight Dig', '/wiki/Shovel_Knight_Dig', 'Nitrome', 'Yacht Club Games', 'September 23, 2022\\n'], ['Shovel Knight: Pocket Dungeon', '/wiki/Shovel_Knight:_Pocket_Dungeon', 'Vine\\n', 'Yacht Club Games', 'December 13, 2021\\n'], ['Sifu', '/wiki/Sifu_(video_game)', 'Sloclap\\n', 'Sloclap\\n', 'November 8, 2022\\n'], ['Signalis', '/wiki/Signalis', 'rose-engine\\n', 'Humble Games, ', 'October 27, 2022\\n'], ['Silt', '/wiki/Silt_(video_game)', 'Spiral Circus\\n', 'Fireshine Games', 'June 1, 2022\\n'], ['The Silver Case', '/wiki/The_Silver_Case', 'Grasshopper Manufacture', 'Playism', 'February 18, 2021\\n'], ['Sine Mora EX', '/wiki/Sine_Mora_EX', 'Digital Reality', 'THQ Nordic', 'September 26, 2017\\n'], ['The Sinking City', '/wiki/The_Sinking_City', 'Frogwares', 'Bigben Interactive', 'September 12, 2019\\n'], ['Sinner: Sacrifice for Redemption', '/wiki/Sinner:_Sacrifice_for_Redemption', 'Dark Star\\n', 'Another Indie\\n', 'October 18, 2018\\n'], ['Skatebird', '/wiki/Skatebird', 'Glass Bottom Gaming\\n', 'Glass Bottom Gaming\\n', 'September 16, 2021\\n'], ['Skullgirls 2nd Encore', '/wiki/Skullgirls_2nd_Encore', 'Reverge Labs\\n', 'Marvelous', 'October 22, 2019\\n'], ['Sky: Children of the Light', '/wiki/Sky:_Children_of_the_Light', 'Thatgamecompany', 'Thatgamecompany\\n', 'June 29, 2021\\n'], ['Sky Force Anniversary', '/wiki/Sky_Force_Anniversary', 'Infinite Dreams\\n', 'Infinite Dreams\\n', 'February 1, 2018\\n'], ['Sky Force Reloaded', '/wiki/Sky_Force_Reloaded', 'Infinite Dreams\\n', 'Infinite Dreams\\n', 'November 8, 2018\\n'], ['Skyforge', '/wiki/Skyforge', 'Allods Team', 'My.com\\n', 'February 4, 2021\\n'], ['Skylanders: Imaginators', '/wiki/Skylanders:_Imaginators', 'Toys for Bob', 'Activision', 'March 3, 2017\\n'], ['Slain: Back from Hell', '/wiki/Slain:_Back_from_Hell', 'Wolf Brew Games, Stage Clear Studios\\n', 'Digerati\\n', 'December 7, 2017\\n'], ['Slay the Spire', '/wiki/Slay_the_Spire', 'MegaCrit\\n', 'Humble Bundle', 'June 6, 2019\\n'], ['Slender: The Arrival', '/wiki/Slender:_The_Arrival', 'Blue Isle Studios\\n', 'Blue Isle Studios\\n', 'June 20, 2019\\n'], ['Smite', '/wiki/Smite_(video_game)', 'Titan Forge Games', 'Hi-Rez Studios', 'January 24, 2019\\n'], ['The Smurfs: Mission Vileaf', '/wiki/The_Smurfs:_Mission_Vileaf', 'OSome Studios\\n', 'Microids', 'November 5, 2021\\n'], ['Snack World: The Dungeon Crawl – Gold', '/wiki/Snack_World:_The_Dungeon_Crawl_%E2%80%93_Gold', 'Level-5', 'Level-5\\n', 'April 12, 2018\\n'], ['Snake Pass', '/wiki/Snake_Pass_(video_game)', 'Sumo Digital', 'JP', 'March 28, 2017\\n'], ['Sniper Elite III', '/wiki/Sniper_Elite_III', 'Rebellion Developments', 'Rebellion Developments\\n', 'October 1, 2019\\n'], ['Sniper Elite 4', '/wiki/Sniper_Elite_4', 'Rebellion Developments', 'Rebellion Developments\\n', 'November 17, 2020\\n'], ['Sniper Elite V2 Remastered', '/wiki/Sniper_Elite_V2_Remastered', 'Rebellion Developments', 'Rebellion Developments\\n', 'May 14, 2019\\n'], ['Snipperclips', '/wiki/Snipperclips', 'SFB Games', 'Nintendo', 'March 3, 2017\\n'], ['Snipperclips Plus', '/wiki/Snipperclips_Plus', 'SFB Games', 'Nintendo', 'November 10, 2017\\n'], ['SNK 40th Anniversary Collection', '/wiki/SNK_40th_Anniversary_Collection', 'SNK', 'NIS America', 'November 13, 2018\\n'], [\"SNK Gals' Fighters\", '/wiki/SNK_Gals%27_Fighters', 'Code Mystics', 'SNK', 'April 29, 2020\\n'], ['SNK Heroines: Tag Team Frenzy', '/wiki/SNK_Heroines:_Tag_Team_Frenzy', 'SNK', 'Nippon Ichi Software', 'September 6, 2018\\n'], ['SNK vs. Capcom: The Match of the Millennium', '/wiki/SNK_vs._Capcom:_The_Match_of_the_Millennium', 'SNK', 'SNK\\n', 'February 17, 2021\\n'], ['Snow Moto Racing Freedom', '/wiki/Snow_Moto_Racing_Freedom', 'Zordix\\n', 'Bigben Interactive', 'November 24, 2017\\n'], ['SnowRunner', '/wiki/SnowRunner', 'Saber Interactive', 'Focus Home Interactive', 'May 18, 2021\\n'], ['Snooker 19', '/wiki/Snooker_19', 'Lab42\\n', 'Ripstone Games', 'August 23, 2019\\n'], ['Snufkin: Melody of Moominvalley', '/wiki/Snufkin:_Melody_of_Moominvalley', 'Hyper Games\\n', 'Raw Fury', 'March 7, 2024\\n'], ['Soccer Slammers', '/wiki/Soccer_Slammers', 'Atooi', 'Atooi\\n', 'June 14, 2018\\n'], ['Sol Cresta', '/wiki/Sol_Cresta', 'PlatinumGames', 'PlatinumGames\\n', 'February 22, 2022\\n'], ['Sol Divide: Sword of Darkness', '/wiki/Sol_Divide:_Sword_of_Darkness', 'Zerodiv\\n', 'Zerodiv\\n', 'March 22, 2018\\n'], ['Soldam: Drop, Connect, Erase', '/wiki/Soldam:_Drop,_Connect,_Erase', 'City Connection\\n', 'Dispatch Games\\n', 'March 3, 2017\\n'], ['Solstice Chronicles: MIA', '/wiki/Solstice_Chronicles:_MIA', 'Ironward\\n', 'Circle Entertainment\\n', 'February 7, 2019\\n'], ['Songbringer', '/wiki/Songbringer', 'Wizard Fu Games\\n', 'Double Eleven\\n', 'May 31, 2018\\n'], ['Sonic Colors: Ultimate', '/wiki/Sonic_Colors:_Ultimate', 'Blind Squirrel Games', 'Sega', 'September 7, 2021\\n'], ['Sonic Forces', '/wiki/Sonic_Forces', 'Sonic Team', 'Sega', 'November 7, 2017\\n'], ['Sonic Frontiers', '/wiki/Sonic_Frontiers', 'Sonic Team', 'Sega', 'November 8, 2022\\n'], ['Sonic Mania', '/wiki/Sonic_Mania', 'Headcannon, PagodaWest Games, ', 'Sega', 'August 15, 2017\\n'], ['Sonic Mania Plus', '/wiki/Sonic_Mania_Plus', 'Headcannon, PagodaWest Games, ', 'Sega', 'July 17, 2018\\n'], ['Sonic Origins', '/wiki/Sonic_Origins', 'Sonic Team', 'Sega', 'June 23, 2022\\n'], ['Sonic Origins Plus', '/wiki/Sonic_Origins', 'Sonic Team', 'Sega', 'June 23, 2023\\n'], ['Sonic Superstars', '/wiki/Sonic_Superstars', 'Arzest', 'Sega', 'October 17, 2023\\n'], ['Sonic X Shadow Generations', '/wiki/Sonic_X_Shadow_Generations', 'Sonic Team', 'Sega', 'October 25, 2024\\n'], ['South Park: The Fractured but Whole', '/wiki/South_Park:_The_Fractured_but_Whole', 'Ubisoft San Francisco', 'Ubisoft\\n', 'April 24, 2018\\n'], ['South Park: Snow Day!', '/wiki/South_Park:_Snow_Day!', 'Question LLC\\n', 'THQ Nordic', 'March 26, 2024\\n'], ['South Park: The Stick of Truth', '/wiki/South_Park:_The_Stick_of_Truth', 'Obsidian Entertainment', 'Ubisoft\\n', 'September 25, 2018\\n'], ['Space Crew', '/wiki/Space_Crew', 'Runner Duck', 'Curve Digital', 'October 15, 2020\\n'], ['A Space for the Unbound', '/wiki/A_Space_for_the_Unbound', 'Mojiken Studio\\n', 'Toge Productions, Chorus Worldwide\\n', 'January 19, 2023\\n'], ['Space Invaders Forever', '/wiki/Space_Invaders_Forever', 'Taito', 'JP', 'December 11, 2020\\n'], ['Space Invaders Invincible Collection', '/wiki/Space_Invaders_Invincible_Collection', 'Taito', 'JP', 'March 26, 2020\\n'], ['Space Warlord Organ Trading Simulator', '/wiki/Space_Warlord_Organ_Trading_Simulator', 'Strange Scaffold\\n', 'Strange Scaffold\\n', 'April 29, 2022\\n'], ['Sparkle 2 Evo', '/wiki/Sparkle_2_Evo', 'Madman Theory Games, Plastic Games\\n', 'JP', 'November 2, 2017\\n'], ['Sparkle 3 Genesis', '/wiki/Sparkle_3_Genesis', 'Madman Theory Games, Plastic Games\\n', 'JP', 'March 15, 2018\\n'], ['The Spectrum Retreat', '/wiki/The_Spectrum_Retreat', 'Dan Smith\\n', 'Ripstone Games\\n', 'September 13, 2018\\n'], ['SpeedRunners', '/wiki/SpeedRunners', 'DoubleDutch Games', 'TinyBuild', 'January 23, 2020\\n'], ['Spellbreak', '/wiki/Spellbreak', 'Proletariat\\n', 'Proletariat\\n', 'September 3, 2020\\n'], ['Spelunker HD Deluxe', '/wiki/Spelunker_HD', 'Irem Software Engineering', 'ININ Games\\n', 'August 6, 2021\\n'], ['Spelunker Party!', '/wiki/Spelunker_Party!', 'Tozai Games\\n', 'Square Enix', 'April 20, 2017\\n'], ['Spelunky', '/wiki/Spelunky', 'Mossmouth\\n', 'Mossmouth\\n', 'August 26, 2021\\n'], ['Spelunky 2', '/wiki/Spelunky_2', 'Mossmouth, ', 'Mossmouth\\n', 'August 26, 2021\\n'], ['Sphinx and the Cursed Mummy', '/wiki/Sphinx_and_the_Cursed_Mummy', 'THQ Nordic', 'THQ Nordic\\n', 'January 29, 2019\\n'], ['Spice and Wolf VR', '/wiki/Spice_and_Wolf_VR', 'Spicy Tails\\n', 'Gemdrops\\n', 'September 5, 2019\\n'], ['Spintires: MudRunner - American Wilds', '/wiki/Spintires:_MudRunner_-_American_Wilds', 'Saber Interactive', 'JP', 'November 27, 2018\\n'], ['Spiritfarer', '/wiki/Spiritfarer', 'Thunder Lotus Games\\n', 'Thunder Lotus Games\\n', 'August 18, 2020\\n'], ['Spirit Hunter: NG', '/wiki/Spirit_Hunter:_NG', 'Experience\\n', 'JP', 'October 10, 2019\\n'], ['Spirit Hunter: Death Mark II', '/wiki/Spirit_Hunter:_Death_Mark_II', 'Experience\\n', 'JP', 'December 1, 2022\\n'], [\"Spirit: Lucky's Big Adventure\", '/wiki/Spirit:_Lucky%27s_Big_Adventure', 'aheartfulofgames\\n', 'Outright Games\\n', 'June 1, 2021\\n'], ['Splasher', '/wiki/Splasher_(video_game)', 'SplashTeam\\n', 'JP', 'October 26, 2017\\n'], ['Splatoon 2', '/wiki/Splatoon_2', 'Nintendo EPD', 'Nintendo', 'July 21, 2017\\n'], ['Splatoon 3', '/wiki/Splatoon_3', 'Nintendo EPD', 'Nintendo', 'September 9, 2022\\n'], ['SpongeBob SquarePants: Battle for Bikini Bottom – Rehydrated', '/wiki/SpongeBob_SquarePants:_Battle_for_Bikini_Bottom_%E2%80%93_Rehydrated', 'Purple Lamp Studios', 'THQ Nordic', 'June 23, 2020\\n'], ['SpongeBob SquarePants: The Cosmic Shake', '/wiki/SpongeBob_SquarePants:_The_Cosmic_Shake', 'Purple Lamp Studios', 'THQ Nordic', 'January 31, 2023\\n'], ['Spyro: Reignited Trilogy', '/wiki/Spyro:_Reignited_Trilogy', 'Toys for Bob', 'Activision', 'September 3, 2019\\n'], ['The Stanley Parable: Ultra Deluxe', '/wiki/The_Stanley_Parable:_Ultra_Deluxe', 'Galactic Cafe, Crows Crows Crows\\n', 'Galactic Cafe\\n', 'April 27, 2022\\n'], ['Star Ocean: First Departure R', '/wiki/Star_Ocean:_First_Departure_R', 'Tri-Ace', 'Square Enix', 'December 5, 2019\\n'], ['Star Ocean: The Second Story R', '/wiki/Star_Ocean:_The_Second_Story_R', 'Gemdrops\\n', 'Square Enix', 'November 2, 2023\\n'], ['Star Wars Episode I: Racer', '/wiki/Star_Wars_Episode_I:_Racer', 'Aspyr', 'Lucasfilm Games', 'June 23, 2020\\n'], ['Star Wars: Hunters', '/wiki/Star_Wars:_Hunters', 'NaturalMotion', 'Zynga', '2022\\n'], ['Star Wars Jedi Knight: Jedi Academy', '/wiki/Star_Wars_Jedi_Knight:_Jedi_Academy', 'Raven Software', 'NA', 'March 26, 2020\\n'], ['Star Wars Jedi Knight II: Jedi Outcast', '/wiki/Star_Wars_Jedi_Knight_II:_Jedi_Outcast', 'Raven Software', 'Disney Interactive Studios', 'September 24, 2019\\n'], ['Star Wars: Knights of the Old Republic', '/wiki/Star_Wars:_Knights_of_the_Old_Republic_(video_game)', 'Aspyr', 'Lucasfilm Games', 'November 11, 2021\\n'], ['Star Wars Knights of the Old Republic II: The Sith Lords', '/wiki/Star_Wars_Knights_of_the_Old_Republic_II:_The_Sith_Lords', 'Aspyr', 'Lucasfilm Games', 'June 8, 2022\\n'], ['Star Wars Pinball', '/wiki/Star_Wars_Pinball', 'Zen Studios', 'JP', 'September 13, 2019\\n'], ['Star Wars: Republic Commando', '/wiki/Star_Wars:_Republic_Commando', 'LucasArts', 'Aspyr', 'April 6, 2021\\n'], ['Star Wars: The Force Unleashed', '/wiki/Star_Wars:_The_Force_Unleashed', 'Krome Studios', 'Aspyr', 'April 20, 2022\\n'], ['Stardew Valley', '/wiki/Stardew_Valley', 'ConcernedApe', 'ConcernedApe\\n', 'October 5, 2017\\n'], ['Starlink: Battle for Atlas', '/wiki/Starlink:_Battle_for_Atlas', 'Ubisoft Toronto', 'Virtuos', 'October 16, 2018\\n'], ['State of Mind', '/wiki/State_of_Mind_(video_game)', 'Daedalic Entertainment', 'Daedalic Entertainment\\n', 'August 15, 2018\\n'], ['Stay Cool, Kobayashi-san!: A River City Ransom Story', '/wiki/Stay_Cool,_Kobayashi-san!:_A_River_City_Ransom_Story', 'Arc System Works', 'Arc System Works\\n', 'November 7, 2019\\n'], ['SteamWorld Dig', '/wiki/SteamWorld_Dig', 'Image & Form', 'Image & Form\\n', 'February 1, 2018\\n'], ['SteamWorld Dig 2', '/wiki/SteamWorld_Dig_2', 'Image & Form', 'Image & Form\\n', 'September 21, 2017\\n'], ['SteamWorld Heist', '/wiki/SteamWorld_Heist', 'Image & Form', 'Image & Form\\n', 'December 28, 2017\\n'], ['SteamWorld Quest: Hand of Gilgamech', '/wiki/SteamWorld_Quest:_Hand_of_Gilgamech', 'Image & Form', 'JP', 'April 25, 2019\\n'], ['Steins;Gate 0', '/wiki/Steins;Gate_0', '5pb.', 'JP', 'March 20, 2019\\n'], ['Steins;Gate Elite', '/wiki/Steins;Gate_Elite', '5pb.', 'JP', 'September 20, 2018\\n'], ['Steins;Gate: Linear Bounded Phenogram', '/wiki/Steins;Gate:_Linear_Bounded_Phenogram', '5pb.', '5pb.\\n', 'March 20, 2019\\n'], [\"Steins;Gate: My Darling's Embrace\", '/wiki/Steins;Gate:_My_Darling%27s_Embrace', '5pb.', 'JP', 'March 20, 2019\\n'], ['Stela', '/wiki/Stela_(video_game)', 'SkyBox Labs', 'SkyBox Labs\\n', 'March 13, 2020\\n'], ['Stern Pinball Arcade', '/wiki/Stern_Pinball_Arcade', 'FarSight Studios', 'FarSight Studios\\n', 'December 12, 2017\\n'], ['Steven Universe: Save the Light', '/wiki/Steven_Universe:_Save_the_Light', 'Grumpyface Studios', 'Cartoon Network Games', 'October 30, 2018\\n'], ['The Stillness of the Wind', '/wiki/The_Stillness_of_the_Wind', 'Memory of God\\n', 'Fellow Traveller\\n', 'February 7, 2019\\n'], ['Stories Untold', '/wiki/Stories_Untold_(video_game)', 'No Code\\n', 'Devolver Digital', 'January 16, 2020\\n'], ['Story of Seasons: Friends of Mineral Town', '/wiki/Story_of_Seasons:_Friends_of_Mineral_Town', 'Marvelous', 'NA', 'October 17, 2019\\n'], ['Story of Seasons: Pioneers of Olive Town', '/wiki/Story_of_Seasons:_Pioneers_of_Olive_Town', 'Marvelous', 'NA', 'February 25, 2021\\n'], ['Strange Brigade', '/wiki/Strange_Brigade', 'Rebellion Developments', 'Rebellion Developments\\n', 'June 15, 2021\\n'], ['Stranger of Sword City Revisited', '/wiki/Stranger_of_Sword_City_Revisited', 'Experience\\n', 'NIS America', 'March 16, 2021\\n'], ['Stranger Things 3: The Game', '/wiki/Stranger_Things_3:_The_Game', 'BonusXP\\n', 'Netflix', 'July 4, 2019\\n'], ['Stray', '/wiki/Stray_(video_game)', 'BlueTwelve Studio\\n', 'Annapurna Interactive', '2024\\n'], ['Street Fighter 30th Anniversary Collection', '/wiki/Street_Fighter_30th_Anniversary_Collection', 'Capcom', 'Capcom\\n', 'May 29, 2018\\n'], ['Streets of Rage 4', '/wiki/Streets_of_Rage_4', 'Lizardcube, Guard Crush Games, ', 'Dotemu\\n', 'April 30, 2020\\n'], ['Streets of Rogue', '/wiki/Streets_of_Rogue', 'Matt Dabrowski\\n', 'TinyBuild', 'July 12, 2019\\n'], ['The Stretchers', '/wiki/The_Stretchers', 'Tarsier Studios', 'Nintendo', 'November 8, 2019\\n'], ['Strife: Veteran Edition', '/wiki/Strife:_Veteran_Edition', 'Rogue Entertainment', 'Nightdive Studios', '2021\\n'], [\"Strike Suit Zero: Director's Cut\", '/wiki/Strike_Suit_Zero:_Director%27s_Cut', 'Born Ready\\n', 'Born Ready\\n', 'May 2, 2019\\n'], ['Strikers 1945', '/wiki/Strikers_1945', 'Zerodiv\\n', 'Zerodiv\\n', 'August 3, 2017\\n'], ['Strikers 1945 II', '/wiki/Strikers_1945_II', 'Zerodiv\\n', 'Zerodiv\\n', 'January 25, 2018\\n'], ['Stubbs the Zombie in Rebel Without a Pulse', '/wiki/Stubbs_the_Zombie_in_Rebel_Without_a_Pulse', 'Wideload Games', 'Aspyr', 'March 16, 2021\\n'], ['Subnautica', '/wiki/Subnautica', 'Unknown Worlds Entertainment', 'Unknown Worlds Entertainment\\n', 'May 14, 2021\\n'], ['Subnautica: Below Zero', '/wiki/Subnautica:_Below_Zero', 'Unknown Worlds Entertainment\\n', 'Bandai Namco Entertainment', 'May 14, 2021\\n'], ['Subsurface Circular', '/wiki/Subsurface_Circular', 'Bithell Games\\n', 'Bithell Games\\n', 'March 1, 2018\\n'], ['Sumikko Gurashi: Sumikko Park e Youkoso', '/wiki/Sumikko_Gurashi:_Sumikko_Park_e_Youkoso', 'Nippon Columbia', 'Nippon Columbia\\n', 'December 7, 2017\\n'], ['Summer Pockets', '/wiki/Summer_Pockets', 'Key', 'Prototype', 'June 20, 2019\\n'], ['Summer Time Rendering: Another Horizon', '/wiki/Summer_Time_Rendering', 'Mages', 'Mages\\n', 'January 26, 2023\\n'], ['Sunless Sea: Zubmariner Edition', '/wiki/Sunless_Sea:_Zubmariner_Edition', 'Failbetter Games, Nephilim Games\\n', 'Digerati\\n', 'April 23, 2020\\n'], ['Sunless Skies: Sovereign Edition', '/wiki/Sunless_Skies:_Sovereign_Edition', 'Failbetter Games\\n', 'Digerati\\n', 'May 19, 2021\\n'], ['Super Animal Royale', '/wiki/Super_Animal_Royale', 'Pixile\\n', 'Modus Games\\n', 'August 26, 2021\\n'], ['Super Bomberman R', '/wiki/Super_Bomberman_R', 'Konami', 'Konami\\n', 'March 3, 2017\\n'], ['Super Bomberman R Online', '/wiki/Super_Bomberman_R_Online', 'Konami', 'Konami\\n', 'May 27, 2021\\n'], ['Super Chariot', '/wiki/Super_Chariot', 'Frima Studio\\n', 'Microids', 'May 10, 2018\\n'], ['Super Crate Box', '/wiki/Super_Crate_Box', 'Vlambeer', 'Vlambeer\\n', 'October 1, 2019\\n'], ['Super Dragon Ball Heroes: World Mission', '/wiki/Super_Dragon_Ball_Heroes:_World_Mission', 'Dimps', 'Bandai Namco Entertainment', 'April 4, 2019\\n'], ['Super Hydorah', '/wiki/Super_Hydorah', 'Locomalito, Gryzor87\\n', 'Abylight Studios\\n', 'November 15, 2018\\n'], ['Super Kirby Clash', '/wiki/Super_Kirby_Clash', 'HAL Laboratory', 'Nintendo', 'September 4, 2019\\n'], ['Super Lone Survivor', '/wiki/Lone_Survivor_(video_game)', 'Superflat Games\\n', 'Curve Digital', '2021\\n'], ['Super Mario 3D All-Stars', '/wiki/Super_Mario_3D_All-Stars', 'Nintendo', 'Nintendo\\n', 'September 18, 2020\\n'], [\"Super Mario 3D World + Bowser's Fury\", '/wiki/Super_Mario_3D_World_%2B_Bowser%27s_Fury', 'Nintendo EPD', 'Nintendo', 'February 12, 2021\\n'], ['Super Mario Bros. 35', '/wiki/Super_Mario_Bros._35', 'Arika', 'Nintendo', 'October 1, 2020\\n'], ['Super Mario Bros. Wonder', '/wiki/Super_Mario_Bros._Wonder', 'Nintendo EPD', 'Nintendo', 'October 20, 2023\\n'], ['Super Mario Maker 2', '/wiki/Super_Mario_Maker_2', 'Nintendo EPD', 'Nintendo', 'June 28, 2019\\n'], ['Super Mario Odyssey', '/wiki/Super_Mario_Odyssey', 'Nintendo EPD', 'Nintendo', 'October 27, 2017\\n'], ['Super Mario Party', '/wiki/Super_Mario_Party', 'NDcube', 'Nintendo', 'October 5, 2018\\n'], ['Super Mario Party Jamboree', '/wiki/Super_Mario_Party_Jamboree', 'NDcube', 'Nintendo', 'October 17, 2024\\n'], ['Super Mario RPG', '/wiki/Super_Mario_RPG', 'ArtePiazza', 'Nintendo', 'November 17, 2023\\n'], ['Super Meat Boy', '/wiki/Super_Meat_Boy', 'Team Meat\\n', 'JP', 'January 11, 2018\\n'], ['Super Meat Boy Forever', '/wiki/Super_Meat_Boy_Forever', 'Team Meat\\n', 'JP', 'December 23, 2020\\n'], ['Super Mega Baseball 2', '/wiki/Super_Mega_Baseball_2', 'Metalhead Software\\n', 'Metalhead Software\\n', 'July 25, 2019\\n'], ['Super Mega Baseball 3', '/wiki/Super_Mega_Baseball_3', 'Metalhead Software\\n', 'Metalhead Software\\n', 'May 13, 2020\\n'], ['Super Monkey Ball: Banana Blitz', '/wiki/Super_Monkey_Ball:_Banana_Blitz', 'Sega', 'Sega\\n', 'October 29, 2019\\n'], ['Super Monkey Ball: Banana Mania', '/wiki/Super_Monkey_Ball:_Banana_Mania', 'Ryu Ga Gotoku Studio', 'Sega', 'October 5, 2021\\n'], ['Super Monkey Ball Banana Rumble', '/wiki/Super_Monkey_Ball_Banana_Rumble', 'Ryu Ga Gotoku Studio', 'Sega', 'June 25, 2024\\n'], ['Super Neptunia RPG', '/wiki/Super_Neptunia_RPG', 'Artisan Studios\\n', 'Idea Factory\\n', 'December 20, 2018\\n'], ['Super Putty Squad', '/wiki/Super_Putty_Squad', 'System 3', 'System 3\\n', 'November 9, 2017\\n'], ['Super Robot Wars 30', '/wiki/Super_Robot_Wars_30', 'B.B. Studio', 'Bandai Namco Entertainment', 'October 28, 2021\\n'], ['Super Robot Wars T', '/wiki/Super_Robot_Wars_T', 'B.B. Studio', 'Bandai Namco Entertainment', 'March 20, 2019\\n'], ['Super Robot Wars V', '/wiki/Super_Robot_Wars_V', 'B.B. Studio', 'Bandai Namco Entertainment', 'October 3, 2019\\n'], ['Super Robot Wars X', '/wiki/Super_Robot_Wars_X', 'B.B. Studio', 'Bandai Namco Entertainment', 'January 10, 2020\\n'], ['Super Smash Bros. Ultimate', '/wiki/Super_Smash_Bros._Ultimate', 'Bandai Namco Studios', 'Nintendo', 'December 7, 2018\\n'], ['Superbeat: Xonic', '/wiki/Superbeat:_Xonic', 'Nurijoy\\n', 'WW', 'November 21, 2017\\n'], ['Superbrothers: Sword & Sworcery EP', '/wiki/Superbrothers:_Sword_%26_Sworcery_EP', 'Capybara Games', 'Capybara Games\\n', 'November 30, 2018\\n'], ['Superhot', '/wiki/Superhot', 'Superhot Team\\n', 'Superhot Team\\n', 'August 19, 2019\\n'], ['Superliminal', '/wiki/Superliminal', 'Pillow Castle Games\\n', 'Pillow Castle Games\\n', 'July 7, 2020\\n'], ['Supraland', '/wiki/Supraland', 'Supra Games\\n', 'Humble Games\\n', 'October 22, 2020\\n'], ['Surgeon Simulator CPR', '/wiki/Surgeon_Simulator_CPR', 'Bossa Studios', 'Bossa Studios\\n', 'September 13, 2018\\n'], ['Surviving the Aftermath', '/wiki/Surviving_the_Aftermath', 'Iceflake Studios\\n', 'Paradox Interactive', 'September 23, 2021\\n'], ['Sushi Striker: The Way of Sushido', '/wiki/Sushi_Striker:_The_Way_of_Sushido', 'indieszero', 'Nintendo', 'June 8, 2018\\n'], ['Suzerain', '/wiki/Suzerain_(video_game)', 'Torpor Games\\n', 'Fellow Traveller\\n', 'December 4, 2020\\n'], ['The Swindle', '/wiki/The_Swindle_(video_game)', 'Size Five Games', 'Curve Digital', 'September 20, 2018\\n'], ['Sword Art Online: Alicization Lycoris', '/wiki/Sword_Art_Online:_Alicization_Lycoris', 'Aquria', 'Bandai Namco Entertainment', 'September 29, 2022\\n'], ['Sword Art Online: Fatal Bullet', '/wiki/Sword_Art_Online:_Fatal_Bullet', 'Dimps', 'Bandai Namco Entertainment', 'August 8, 2019\\n'], ['Sword Art Online: Hollow Realization', '/wiki/Sword_Art_Online:_Hollow_Realization', 'Dimps', 'Bandai Namco Entertainment', 'April 25, 2019\\n'], [\"The Swords of Ditto: Mormo's Curse\", '/wiki/The_Swords_of_Ditto:_Mormo%27s_Curse', 'One Bit Beyond\\n', 'Devolver Digital', 'May 2, 2019\\n'], ['Swords & Soldiers II: Shawarmageddon', '/wiki/Swords_%26_Soldiers_II:_Shawarmageddon', 'Ronimo Games\\n', 'Ronimo Games\\n', 'March 1, 2019\\n'], ['Syberia', '/wiki/Syberia_(video_game)', 'Koalabs Studio\\n', 'Microids', 'October 20, 2017\\n'], ['Syberia 2', '/wiki/Syberia_2', 'Koalabs Studio\\n', 'Microids', 'November 30, 2017\\n'], ['Syberia 3', '/wiki/Syberia_3', 'Koalabs Studio\\n', 'Microids', 'October 18, 2018\\n'], ['Tadpole Treble Encore', '/wiki/Tadpole_Treble_Encore', 'BitFinity\\n', 'BitFinity\\n', 'January 21, 2021\\n'], ['Taiko no Tatsujin: Dokodon! Mystery Adventure', '/wiki/Taiko_no_Tatsujin:_Dokodon!_Mystery_Adventure', 'Bandai Namco Studios', 'Bandai Namco Entertainment', 'November 26, 2020\\n'], ['Taiko no Tatsujin: Don to Katsu no Jikū Daibōken', '/wiki/Taiko_no_Tatsujin:_Don_to_Katsu_no_Jik%C5%AB_Daib%C5%8Dken', 'Bandai Namco Studios', 'Bandai Namco Entertainment', 'November 26, 2020\\n'], [\"Taiko no Tatsujin: Drum 'n' Fun!\", '/wiki/Taiko_no_Tatsujin:_Drum_%27n%27_Fun!', 'Bandai Namco Studios', 'Bandai Namco Entertainment', 'July 19, 2018\\n'], ['Tails of Iron', '/wiki/Tails_of_Iron', 'Odd Bug Studio\\n', 'United Label', 'September 17, 2021\\n'], ['Tales from Space: Mutant Blobs Attack', '/wiki/Tales_from_Space:_Mutant_Blobs_Attack', 'DrinkBox Studios', 'DrinkBox Studios\\n', 'May 10, 2019\\n'], ['Tales of Aravorn: Seasons of the Wolf', '/wiki/Tales_of_Aravorn:_Seasons_of_the_Wolf', 'Winter Wolves\\n', 'Ratalaika Games\\n', 'TBA\\n'], ['Tales of Symphonia Remastered', '/wiki/Tales_of_Symphonia_Remastered', 'Bandai Namco Entertainment Romania', 'Bandai Namco Entertainment\\n', 'February 17, '], ['Tales of Vesperia', '/wiki/Tales_of_Vesperia', 'Bandai Namco Studios', 'Bandai Namco Entertainment', 'January 11, 2019\\n'], ['The Talos Principle', '/wiki/The_Talos_Principle', 'Croteam', 'Devolver Digital', 'December 10, 2019\\n'], ['Tangle Tower', '/wiki/Tangle_Tower', 'SFB Games\\n', 'SFB Games\\n', 'October 22, 2019\\n'], ['The Tartarus Key', '/wiki/The_Tartarus_Key', 'Vertical Reach\\n', 'Armor Games Studios', 'May 31, 2023\\n'], ['Tavern Talk', '/wiki/Tavern_Talk', 'Gentle Troll Entertainment\\n', 'Gentle Troll Entertainment\\n', 'June 20, 2024\\n'], ['Taxi Chaos', '/wiki/Taxi_Chaos', 'Team6 Game Studios', 'Orange One\\n', 'February 23, 2021\\n'], ['Tchia', '/wiki/Tchia', 'Awaceb\\n', 'Awaceb\\n', 'June 27, 2024\\n'], ['Team Sonic Racing', '/wiki/Team_Sonic_Racing', 'Sumo Digital', 'Sega', 'May 21, 2019\\n'], ['Teenage Mutant Ninja Turtles: The Cowabunga Collection', '/wiki/Teenage_Mutant_Ninja_Turtles:_The_Cowabunga_Collection', 'Digital Eclipse', 'Konami', 'August 30, 2022\\n'], ['Teenage Mutant Ninja Turtles: Mutants Unleashed', '/wiki/Teenage_Mutant_Ninja_Turtles:_Mutants_Unleashed', 'aheartfulofgames\\n', 'Outright Games', 'October 18, 2024\\n'], [\"Teenage Mutant Ninja Turtles: Shredder's Revenge\", '/wiki/Teenage_Mutant_Ninja_Turtles:_Shredder%27s_Revenge', 'Tribute Games', 'Dotemu', 'June 16, 2022\\n'], ['Telling Lies', '/wiki/Telling_Lies_(video_game)', 'Sam Barlow', 'Annapurna Interactive', 'April 28, 2020\\n'], ['Temtem', '/wiki/Temtem', 'Crema\\n', 'Humble Bundle', '2021\\n'], ['Tennis World Tour', '/wiki/Tennis_World_Tour', 'Breakpoint Studio\\n', 'Bigben Interactive', 'August 30, 2018\\n'], ['Terra Nil', '/wiki/Terra_Nil', 'Free Lives', 'Devolver Digital', 'December 18, 2023\\n'], ['Terraria', '/wiki/Terraria', 'Pipeworks Studios', 'JP', 'June 27, 2019\\n'], ['TerraTech', '/wiki/TerraTech', 'Payload Studios\\n', 'JP', 'May 29, 2019\\n'], ['Tesla vs. Lovecraft', '/wiki/Tesla_vs._Lovecraft', '10tons\\n', '10tons\\n', 'March 16, 2018\\n'], ['Teslagrad', '/wiki/Teslagrad', 'Rain Games\\n', 'JP', 'November 16, 2017\\n'], ['Test Drive Unlimited Solar Crown', '/wiki/Test_Drive_Unlimited_Solar_Crown', 'Kylotonn', 'Nacon', 'September 22, 2022\\n'], ['Tetris 99', '/wiki/Tetris_99', 'Arika', 'Nintendo', 'February 13, 2019\\n'], ['Tetris Effect: Connected', '/wiki/Tetris_Effect:_Connected', 'Monstars\\n', 'Enhance Games\\n', 'October 8, 2021\\n'], ['Theatrhythm Final Bar Line', '/wiki/Theatrhythm_Final_Fantasy', 'indieszero', 'Square Enix', 'February 16, 2023\\n'], ['Thief Simulator', '/wiki/Thief_Simulator', 'Forever Entertainment\\n', 'Forever Entertainment\\n', 'May 16, 2019\\n'], ['Thimbleweed Park', '/wiki/Thimbleweed_Park', 'Terrible Toybox\\n', 'Terrible Toybox\\n', 'September 21, 2017\\n'], ['This Is the Police', '/wiki/This_Is_the_Police', 'Weappy Studio\\n', 'THQ Nordic', 'October 24, 2017\\n'], ['This Is the Police 2', '/wiki/This_Is_the_Police_2', 'Weappy Studio\\n', 'THQ Nordic', 'September 25, 2018\\n'], ['This War of Mine', '/wiki/This_War_of_Mine', '11 Bit Studios', '11 Bit Studios\\n', 'November 27, 2018\\n'], ['This Way Madness Lies', '/wiki/This_Way_Madness_Lies', 'Zeboyd Games', 'Zeboyd Games\\n', 'July 25, 2023\\n'], ['Thomas Was Alone', '/wiki/Thomas_Was_Alone', 'Mike Bithell Games', 'Ant Workshop\\n', 'February 19, 2021\\n'], ['Thronebreaker: The Witcher Tales', '/wiki/Thronebreaker:_The_Witcher_Tales', 'CD Projekt Red', 'CD Projekt\\n', 'January 28, 2020\\n'], ['Through the Darkest of Times', '/wiki/Through_the_Darkest_of_Times', 'HandyGames', 'HandyGames\\n', 'August 13, 2020\\n'], ['Thumper', '/wiki/Thumper_(video_game)', 'Drool\\n', 'Drool\\n', 'May 18, 2017\\n'], ['Timelie', '/wiki/Timelie', 'Urnique Studio\\n', 'Urnique Studio, Zordix Publishing\\n', 'December 15, 2021\\n'], ['Timespinner', '/wiki/Timespinner', 'Lunar Ray Games\\n', 'JP', 'June 4, 2019\\n'], ['Tiny Metal', '/wiki/Tiny_Metal', 'Area35\\n', 'Unties\\n', 'December 21, 2017\\n'], ['Tiny Metal: Full Metal Rumble', '/wiki/Tiny_Metal:_Full_Metal_Rumble', 'Area35\\n', 'Unties\\n', 'July 11, 2019\\n'], ['Tiny Troopers: Joint Ops DX', '/wiki/Tiny_Troopers:_Joint_Ops_DX', 'Wired Productions\\n', 'JP', 'December 21, 2017\\n'], ['Titan Quest', '/wiki/Titan_Quest', 'Iron Lore Entertainment', 'THQ Nordic', 'July 31, 2018\\n'], ['To the Moon', '/wiki/To_the_Moon', 'X.D. Network\\n', 'Freebird Games\\n', 'January 16, 2020\\n'], ['Toby: The Secret Mine', '/wiki/Toby:_The_Secret_Mine', 'Lukáš Navrátil\\n', 'JP', 'July 24, 2018\\n'], ['ToeJam & Earl: Back in the Groove', '/wiki/ToeJam_%26_Earl:_Back_in_the_Groove', 'HumaNature Studios', 'JP', 'March 1, 2019\\n'], ['Toem', '/wiki/Toem', 'Something We Made\\n', 'Something We Made\\n', 'September 17, 2021\\n'], ['Together! The Battle Cats', '/wiki/Together!_The_Battle_Cats', 'Ponos\\n', 'Ponos\\n', 'December 20, 2018\\n'], ['Toki', '/wiki/Toki_(video_game)', 'Golgoth Studio\\n', 'Microïds\\n', 'December 4, 2018\\n'], ['Toki Tori', '/wiki/Toki_Tori', 'Two Tribes', 'Two Tribes Publishing\\n', 'March 30, 2018\\n'], ['Toki Tori 2+', '/wiki/Toki_Tori_2%2B', 'Two Tribes', 'Two Tribes\\n', 'February 23, 2018\\n'], ['Tokimeki Memorial: Forever With You Emotional', '/wiki/Tokimeki_Memorial', 'Konami', 'Konami\\n', '2025\\n'], [\"Tokimeki Memorial: Girl's Side 4th Heart\", '/wiki/Tokimeki_Memorial:_Girl%27s_Side_4th_Heart', 'Konami', 'Konami\\n', 'October 28, 2021\\n'], ['Tokyo Dark: Remembrance', '/wiki/Tokyo_Dark:_Remembrance', 'Cherrymochi\\n', 'Unties\\n', 'November 7, 2019\\n'], ['Tokyo Mirage Sessions ♯FE Encore', '/wiki/Tokyo_Mirage_Sessions_%E2%99%AFFE_Encore', 'Atlus', 'Nintendo', 'January 17, 2020\\n'], ['Tokyo Xanadu eX+', '/wiki/Tokyo_Xanadu_eX%2B', 'Nihon Falcom', 'Aksys Games', 'June 29, 2023\\n'], [\"Tomoyo After: It's a Wonderful Life\", '/wiki/Tomoyo_After:_It%27s_a_Wonderful_Life', 'Key', 'Prototype', 'September 10, 2020\\n'], ['Tonight We Riot', '/wiki/Tonight_We_Riot', 'Pixel Pushers Local 512\\n', 'Means Interactive', 'May 1, 2020\\n'], [\"Tony Hawk's Pro Skater 1 + 2\", '/wiki/Tony_Hawk%27s_Pro_Skater_1_%2B_2', 'Vicarious Visions', 'Activision', 'June 25, 2021\\n'], ['Tools Up!', '/wiki/Tools_Up!', 'Knights of Unity\\n', 'All In! Games\\n', 'December 3, 2019\\n'], ['Torchlight II', '/wiki/Torchlight_II', 'Panic Button', 'Runic Games', 'September 3, 2019\\n'], ['Torchlight III', '/wiki/Torchlight_III', 'Echtra Games\\n', 'Perfect World Entertainment', 'October 22, 2020\\n'], ['Tormented Souls', '/wiki/Tormented_Souls', 'Dual Effect, Abstract Digital\\n', 'PQube\\n', 'April 14, 2022\\n'], ['Totally Accurate Battle Simulator', '/wiki/Totally_Accurate_Battle_Simulator', 'Landfall Games\\n', 'Landfall Games\\n', 'November 3, 2022\\n'], ['Tomb of the Mask', '/wiki/Tomb_of_the_Mask', 'Happymagenta UAB\\n', 'Playgendary\\n', 'October 27, 2021\\n'], ['Tomb Raider I–III Remastered', '/wiki/Tomb_Raider_I%E2%80%93III_Remastered', 'Aspyr', 'Aspyr\\n', 'February 14, 2024\\n'], ['Touhou Genso Wanderer: Reloaded', '/wiki/Touhou_Genso_Wanderer:_Reloaded', 'Aqua Style\\n', 'JP', 'December 28, 2017\\n'], ['Touhou Gouyoku Ibun ~ Sunken Fossil World', '/wiki/Sunken_Fossil_World', 'Twilight Frontier', 'Phoenixx\\n', 'October 20, 2022\\n'], ['Touhou Hyoibana: Antinomy of Common Flowers', '/wiki/Touhou_Hyoibana:_Antinomy_of_Common_Flowers', 'Twilight Frontier', 'Team Shanghai Alice', 'TBA\\n'], ['Touhou Kobuto V: Burst Battle', '/wiki/Touhou_Kobuto_V:_Burst_Battle', 'Cubetype\\n', 'JP', 'October 10, 2017\\n'], ['Touhou Luna Nights', '/wiki/Touhou_Luna_Nights', 'Team Ladybug\\n', 'Phoenixx\\n', 'December 17, 2020\\n'], ['Touhou Sky Arena: Matsuri Climax', '/wiki/Touhou_Sky_Arena:_Matsuri_Climax', 'Area Zero\\n', 'Area Zero\\n', 'February 14, 2019\\n'], ['Touhou Spell Bubble', '/wiki/Touhou_Spell_Bubble', 'Taito', 'Taito\\n', 'February 6, 2020\\n'], ['Touken Ranbu Warriors', '/wiki/Touken_Ranbu_Warriors', 'Omega Force', 'JP', 'February 17, 2022\\n'], ['The Touryst', '/wiki/The_Touryst', \"Shin'en Multimedia\", \"Shin'en Multimedia\\n\", 'November 21, 2019\\n'], ['Tousouchuu: Great Mission', '/wiki/Fuji_Television#Game_shows', 'D3 Publisher', 'D3 Publisher\\n', 'July 4, 2024\\n'], ['Tousouchuu: Shijou Saikyou no Hunter-Tachi Kara Nigekire! and Chou Tousouchuu Atsumare! Saikyou no Tousousha-tachi Combat Double Pack', '/wiki/Fuji_Television#Game_shows', 'Namco Bandai', 'Namco Bandai\\n', 'November 29, 2018\\n'], ['TowerFall', '/wiki/TowerFall', 'Matt Makes Games\\n', 'Matt Makes Games\\n', 'September 27, 2018\\n'], ['Townscaper', '/wiki/Townscaper', 'Oskar Stålberg\\n', 'Oskar Stålberg\\n', 'August 26, 2021\\n'], ['Toy Soldiers HD', '/wiki/Toy_Soldiers_HD', 'Signal Studios', 'Accelerate Games\\n', 'December 31, 2022\\n'], ['Trailblazers', '/wiki/Trailblazers_(video_game)', 'Supergonk\\n', 'Rising Star Games', 'May 15, 2018\\n'], ['Transistor', '/wiki/Transistor_(video_game)', 'Supergiant Games\\n', 'Supergiant Games\\n', 'November 1, 2018\\n'], ['Travis Strikes Again: No More Heroes', '/wiki/Travis_Strikes_Again:_No_More_Heroes', 'Grasshopper Manufacture', 'Grasshopper Manufacture\\n', 'January 18, 2019\\n'], ['Treadnauts', '/wiki/Treadnauts', 'Topstitch Games\\n', 'Topstitch Games\\n', 'August 17, 2018\\n'], ['Trek to Yomi', '/wiki/Trek_to_Yomi', 'Flying Wild Hog', 'Devolver Digital', 'January 30, 2023\\n'], ['Trials of Mana', '/wiki/Trials_of_Mana_(2020_video_game)', 'Square Enix', 'Square Enix\\n', 'April 24, 2020\\n'], ['Trials Rising', '/wiki/Trials_Rising', 'Ubisoft', 'Ubisoft\\n', 'February 26, 2019\\n'], ['Triangle Strategy', '/wiki/Triangle_Strategy', 'Artdink', 'Square Enix', 'March 4, 2022\\n'], ['Tricky Towers', '/wiki/Tricky_Towers', 'WeirdBeard\\n', 'WeirdBeard\\n', 'October 11, 2018\\n'], ['Trine: Enchanted Edition', '/wiki/Trine:_Enchanted_Edition', 'Frozenbyte', 'Frozenbyte\\n', 'November 9, 2018\\n'], ['Trine 2: Complete Story', '/wiki/Trine_2:_Complete_Story', 'Frozenbyte', 'Frozenbyte\\n', 'February 18, 2019\\n'], ['Trine 3: The Artifacts of Power', '/wiki/Trine_3:_The_Artifacts_of_Power', 'Frozenbyte', 'Frozenbyte\\n', 'July 29, 2019\\n'], ['Trine 4: The Nightmare Prince', '/wiki/Trine_4:_The_Nightmare_Prince', 'Frozenbyte', 'Modus Games\\n', 'October 8, 2019\\n'], ['Troll and I', '/wiki/Troll_and_I', 'Spiral House\\n', 'Maximum Games', 'August 14, 2017\\n'], ['Trollhunters: Defenders of Arcadia', '/wiki/Trollhunters:_Defenders_of_Arcadia', 'WayForward', 'Outright Games\\n', 'September 25, 2020\\n'], ['Tropico 6', '/wiki/Tropico_6', 'Limbic Entertainment', 'JP', 'November 6, 2020\\n'], ['Trover Saves the Universe', '/wiki/Trover_Saves_the_Universe', 'Squanch Games\\n', 'Squanch Games\\n', 'November 28, 2019\\n'], ['Truck Driver', '/wiki/Truck_Driver_(video_game)', 'Triangle Studios', 'Soedesco', 'TBA\\n'], ['Tsukihime: A Piece of Blue Glass Moon', '/wiki/Tsukihime:_A_Piece_of_Blue_Glass_Moon', 'Type-Moon', 'Aniplex', 'August 26, 2021\\n'], ['TumbleSeed', '/wiki/TumbleSeed', 'Benedict Fritz\\n', 'aeiowu\\n', 'May 2, 2017\\n'], ['The Turing Test', '/wiki/The_Turing_Test_(video_game)', 'Bulkhead Interactive\\n', 'Square Enix', 'February 7, 2020\\n'], ['Turnip Boy Commits Tax Evasion', '/wiki/Turnip_Boy_Commits_Tax_Evasion', 'Snoozy Kazoo\\n', 'Graffiti Games\\n', 'April 22, 2021\\n'], ['Turrican Flashback', '/wiki/Turrican_Flashback', 'Factor 5', 'Inin Games\\n', 'December 8, 2020\\n'], ['Turok: Dinosaur Hunter', '/wiki/Turok:_Dinosaur_Hunter', 'Nightdive Studios\\n', 'Nightdive Studios\\n', 'March 18, 2019\\n'], ['Turok 2: Seeds of Evil', '/wiki/Turok_2:_Seeds_of_Evil', 'Nightdive Studios\\n', 'Nightdive Studios\\n', 'August 9, 2019\\n'], ['Two Point Campus', '/wiki/Two_Point_Campus', 'Two Point Studios', 'Sega', 'August 9, 2022\\n'], ['Two Point Hospital', '/wiki/Two_Point_Hospital', 'Two Point Studios', 'Sega', 'February 25, 2020\\n'], ['Ty the Tasmanian Tiger HD', '/wiki/Ty_the_Tasmanian_Tiger_HD', 'Krome Studios', 'Krome Studios\\n', 'March 31, 2020\\n'], ['Ty the Tasmanian Tiger 2: Bush Rescue HD', '/wiki/Ty_the_Tasmanian_Tiger_2:_Bush_Rescue', 'Krome Studios\\n', 'Krome Studios\\n', 'March 30, 2021\\n'], ['Type:Rider', '/wiki/Type:Rider', 'Agat Films & Cie - Ex Nihilo\\n', 'BulkyPix, ', 'April 25, 2019\\n'], ['Typoman', '/wiki/Typoman', 'Brainseed Factory\\n', 'JP', 'February 22, 2018\\n'], ['UglyDolls: An Imperfect Adventure', '/wiki/UglyDolls:_An_Imperfect_Adventure', 'Ugly Industries Holdings\\n', 'Outright Games\\n', 'April 26, 2019\\n'], ['Ultimate Chicken Horse', '/wiki/Ultimate_Chicken_Horse', 'Clever Endeavour Games\\n', 'Clever Endeavour Games\\n', 'September 25, 2018\\n'], ['Ultra Kaiju Monster Rancher', '/wiki/Ultra_Kaiju_Monster_Rancher', 'Koei Tecmo', 'Bandai Namco Entertainment', 'October 20, 2022\\n'], ['Ultra Street Fighter II: The Final Challengers', '/wiki/Ultra_Street_Fighter_II:_The_Final_Challengers', 'Capcom', 'Capcom\\n', 'May 26, 2017\\n'], ['Ultracore', '/wiki/Ultracore', 'Digital Illusions', 'Inin Games, Strictly Limited Games\\n', 'June 23, 2020\\n'], ['Umihara Kawase BaZooKa', '/wiki/Umihara_Kawase_BaZooKa', 'Studio Saizensen\\n', 'Success', 'May 28, 2020\\n'], ['Umihara Kawase Fresh!', '/wiki/Umihara_Kawase_Fresh!', 'Studio Saizensen\\n', 'Success', 'April 25, 2019\\n'], ['Umineko When They Cry Saku: Nekobako to Musou no Koukyoukyoku', '/wiki/Umineko_When_They_Cry_Saku:_Nekobako_to_Musou_no_Koukyoukyoku', '07th Expansion', 'Entergram', 'January 28, 2021\\n'], ['Umurangi Generation', '/wiki/Umurangi_Generation', 'Origame Digital\\n', 'Playism', 'June 5, 2021\\n'], ['Unavowed', '/wiki/Unavowed', 'Wadjet Eye Games', 'Wadjet Eye Games\\n', 'July 7, 2021\\n'], ['Unbound: Worlds Apart', '/wiki/Unbound:_Worlds_Apart', 'Alien Pixel Studios\\n', 'Alien Pixel Studios\\n', 'July 28, 2021\\n'], ['The Uncertain: Last Quiet Day', '/wiki/The_Uncertain:_Last_Quiet_Day', 'New Game Order\\n', 'Postmeta\\n', 'February 24, 2022\\n'], ['Under Night In-Birth Exe:Late cl-r', '/wiki/Under_Night_In-Birth_Exe:Late_cl-r', 'French Bread', 'Arc System Works', 'February 20, 2020\\n'], ['Undertale', '/wiki/Undertale', '8-4', '8-4\\n', 'September 15, 2018\\n'], ['Unepic', '/wiki/Unepic', 'Francisco Téllez de Meneses\\n', 'Ninagamers\\n', 'December 15, 2017\\n'], ['Unexplored: Unlocked Edition', '/wiki/Unexplored', 'Ludomotion\\n', 'Digerati\\n', 'August 9, 2018\\n'], ['Unforeseen Incidents', '/wiki/Unforeseen_Incidents', 'Backwoods Entertainment\\n', 'Application Systems Heidelberg\\n', 'January 27, 2022\\n'], ['Uno', '/wiki/Uno_(card_game)', 'Ubisoft', 'Ubisoft\\n', 'November 7, 2017\\n'], ['Unpacking', '/wiki/Unpacking_(video_game)', 'Witch Beam\\n', 'Humble Bundle', 'November 2, 2021\\n'], ['Unrailed!', '/wiki/Unrailed!', 'Indoor Astronaut\\n', 'Daedalic Entertainment', 'September 23, 2020\\n'], ['Unravel Two', '/wiki/Unravel_Two', 'Coldwood Interactive\\n', 'Electronic Arts', 'March 22, 2019\\n'], ['Unruly Heroes', '/wiki/Unruly_Heroes', 'Magic Design Studios\\n', 'Magic Design Studios\\n', 'January 23, 2019\\n'], ['Unsighted', '/wiki/Unsighted', 'Studio Pixel Punk\\n', 'Humble Games\\n', 'September 30, 2021\\n'], ['Unsung Story', '/wiki/Unsung_Story', 'Little Orbit\\n', 'Little Orbit\\n', 'TBA\\n'], ['Untitled Goose Game', '/wiki/Untitled_Goose_Game', 'House House\\n', 'Panic', 'September 20, 2019\\n'], ['Urban Trial Playground', '/wiki/Urban_Trial_Playground', 'Teyon', 'Tate Interactive', 'April 5, 2018\\n'], ['Use Your Words', '/wiki/Use_Your_Words', 'Smiling Buddha Games\\n', 'Screenwave Media\\n', 'August 3, 2017\\n'], ['Uta no Prince-sama: Amazing Aria', '/wiki/Uta_no_Prince-sama:_Amazing_Aria', 'Broccoli', 'Broccoli\\n', 'May 20, 2020\\n'], ['Uta no Prince-sama Debut', '/wiki/Uta_no_Prince-sama_Debut', 'Broccoli', 'Broccoli\\n', 'February 25, 2021\\n'], ['Uta no Prince-sama: Sweet Serenade', '/wiki/Uta_no_Prince-sama:_Sweet_Serenade', 'Broccoli', 'Broccoli\\n', 'May 20, 2020\\n'], ['V-Rally 4', '/wiki/V-Rally_4', 'Kylotonn', 'Bigben Interactive', 'December 13, 2018\\n'], ['VA-11 Hall-A: Cyberpunk Bartender Action', '/wiki/VA-11_Hall-A:_Cyberpunk_Bartender_Action', 'Sukeban Games', 'JP', 'May 2, 2019\\n'], ['Valfaris', '/wiki/Valfaris', 'Steel Mantis\\n', 'JP', 'October 10, 2019\\n'], ['Valiant Hearts: The Great War', '/wiki/Valiant_Hearts:_The_Great_War', 'Ubisoft Montpellier', 'Ubisoft', 'November 8, 2018\\n'], ['Valis: The Fantasm Soldier Collection', '/wiki/Valis:_The_Fantasm_Soldier_Collection', 'Edia\\n', 'Edia\\n', 'December 9, 2021\\n'], ['Valkyria Chronicles', '/wiki/Valkyria_Chronicles_(video_game)', 'Sega', 'Sega\\n', 'September 27, 2018\\n'], ['Valkyria Chronicles 4', '/wiki/Valkyria_Chronicles_4', 'Sega', 'Sega\\n', 'September 25, 2018\\n'], ['Valley', '/wiki/Valley_(video_game)', 'Blue Isle Studios', 'Blue Isle Studios\\n', 'March 7, 2019\\n'], ['Vambrace: Cold Soul', '/wiki/Vambrace:_Cold_Soul', 'Devespresso Games\\n', 'Chorus Worldwide, Headup Games\\n', 'August 29, 2019\\n'], ['Vampire: The Masquerade – Coteries of New York', '/wiki/Vampire:_The_Masquerade_%E2%80%93_Coteries_of_New_York', 'Draw Distance\\n', 'Draw Distance\\n', 'March 24, 2020\\n'], ['Vampire: The Masquerade – Shadows of New York', '/wiki/Vampire:_The_Masquerade_%E2%80%93_Shadows_of_New_York', 'Draw Distance\\n', 'JP', 'September 10, 2020\\n'], ['Vampire: The Masquerade – Swansong', '/wiki/Vampire:_The_Masquerade_%E2%80%93_Swansong', 'Big Bad Wolf\\n', 'Nacon', 'February 2022'], ['Vampyr', '/wiki/Vampyr_(video_game)', 'Focus Home Interactive', 'JP', 'October 29, 2019\\n'], ['The Vanishing of Ethan Carter', '/wiki/The_Vanishing_of_Ethan_Carter', 'Astronauts\\n', 'Astronauts\\n', 'August 15, 2019\\n'], ['Velocity 2X', '/wiki/Velocity_2X', 'FuturLab\\n', 'Curve Digital', 'September 20, 2018\\n'], ['Vera Blanc: Full Moon', '/wiki/Vera_Blanc:_Full_Moon', 'Winter Wolves', 'Ratalaika Games\\n', 'November 13, 2020\\n'], ['Victor Vran', '/wiki/Victor_Vran', 'Haemimont Games', 'Wired Productions\\n', 'August 28, 2018\\n'], ['Vigor', '/wiki/Vigor_(video_game)', 'Bohemia Interactive', 'Bohemia Interactive\\n', 'July 8, 2020\\n'], ['Virgo Versus the Zodiac', '/wiki/Virgo_Versus_the_Zodiac', 'Moonana\\n', 'Serenity Forge', 'August 23, 2023\\n'], ['Vitamin Connection', '/wiki/Vitamin_Connection', 'WayForward', 'WayForward\\n', 'February 20, 2020\\n'], ['Voez', '/wiki/Voez', 'Rayark Games, Esquadra\\n', 'Flyhigh Works\\n', 'March 3, 2017\\n'], ['Voice of Cards: The Forsaken Maiden', '/wiki/Voice_of_Cards:_The_Forsaken_Maiden', 'Alim\\n', 'Square Enix', 'February 17, 2022\\n'], ['Voice of Cards: The Isle Dragon Roars', '/wiki/Voice_of_Cards:_The_Isle_Dragon_Roars', 'Alim\\n', 'Square Enix\\n', 'October 28, 2021\\n'], ['Void Bastards', '/wiki/Void_Bastards', 'Blue Manchu\\n', 'Humble Bundle', 'May 7, 2020\\n'], ['Volgarr the Viking', '/wiki/Volgarr_the_Viking', 'Crazy Viking Studios\\n', 'Crazy Viking Studios\\n', 'October 5, 2017\\n'], ['Vroom in the Night Sky', '/wiki/Vroom_in_the_Night_Sky', 'Poisoft\\n', 'Poisoft\\n', 'March 3, 2017\\n'], ['VVVVVV', '/wiki/VVVVVV', 'Terry Cavanagh\\n', 'JP', 'November 17, 2017\\n'], ['Wagamama High Spec', '/wiki/Wagamama_High_Spec', 'Madosoft\\n', 'iMel\\n', 'September 24, 2020\\n'], ['The Walking Dead: The Complete First Season', '/wiki/The_Walking_Dead_(video_game)', 'Telltale Games', 'Telltale Games\\n', 'August 7, 2018\\n'], ['The Walking Dead: Season Two', '/wiki/The_Walking_Dead:_Season_Two', 'Telltale Games', 'Telltale Games\\n', 'January 21, 2020\\n'], ['The Walking Dead: A New Frontier', '/wiki/The_Walking_Dead:_A_New_Frontier', 'Telltale Games', 'Telltale Games\\n', 'January 21, 2020\\n'], ['The Walking Dead: The Final Season', '/wiki/The_Walking_Dead:_The_Final_Season', 'Telltale Games', 'Telltale Games\\n', 'August 12, 2018\\n'], ['Wandersong', '/wiki/Wandersong', 'Greg Lobanov\\n', 'Humble Bundle', 'September 27, 2018\\n'], ['The Wardrobe', '/wiki/The_Wardrobe_(video_game)', 'C.I.N.I.C. Games\\n', 'NA', 'July 6, 2018\\n'], ['Warface', '/wiki/Warface', 'Allods Team\\n', 'My.com\\n', 'February 18, 2020\\n'], ['Warframe', '/wiki/Warframe', 'Digital Extremes', 'Digital Extremes\\n', 'November 20, 2018\\n'], ['Wargroove', '/wiki/Wargroove', 'Chucklefish', 'Chucklefish\\n', 'February 1, 2019\\n'], ['Warhammer 40,000: Mechanicus', '/wiki/Warhammer_40,000:_Mechanicus', 'Bulwark Studios\\n', 'Kasedo Games\\n', 'July 17, 2020\\n'], ['Warhammer 40,000: Shootas, Blood and Teef', '/wiki/Warhammer_40,000:_Shootas,_Blood_and_Teef', 'Rogueside\\n', 'Rogueside\\n', '2022\\n'], ['Warhammer 40,000: Space Wolf', '/wiki/Warhammer_40,000:_Space_Wolf', 'HeroCraft\\n', 'HeroCraft\\n', 'January 23, 2020\\n'], ['Warhammer Age of Sigmar: Champions', '/wiki/Warhammer_Age_of_Sigmar:_Champions', 'Games Workshop', 'Playfusion\\n', 'April 16, 2019\\n'], ['Warhammer Quest', '/wiki/Warhammer_Quest_(video_game_series)', 'Rodeo Games\\n', 'Chilled Mouse\\n', 'February 26, 2019\\n'], ['Warhammer Quest 2: The End Times', '/wiki/Warhammer_Quest_2:_The_End_Times', 'Perchang Games\\n', 'Chilled Mouse\\n', 'December 23, 2019\\n'], ['WarioWare: Get It Together!', '/wiki/WarioWare:_Get_It_Together!', 'Intelligent Systems', 'Nintendo', 'September 10, 2021\\n'], ['WarioWare: Move It!', '/wiki/WarioWare:_Move_It!', 'Intelligent Systems', 'Nintendo', 'November 3, 2023\\n'], ['Warriors Orochi 3 Ultimate', '/wiki/Warriors_Orochi_3_Ultimate', 'Omega Force', 'Koei Tecmo', 'November 9, 2017\\n'], ['Warriors Orochi 4', '/wiki/Warriors_Orochi_4', 'Omega Force', 'Koei Tecmo', 'September 27, 2018\\n'], ['Warriors Orochi 4 Ultimate', '/wiki/Warriors_Orochi_4_Ultimate', 'Omega Force', 'Koei Tecmo', 'December 19, 2019\\n'], [\"Wasteland 2: Director's Cut\", '/wiki/Wasteland_2:_Director%27s_Cut', 'inXile Entertainment\\n', 'inXile Entertainment\\n', 'September 13, 2018\\n'], ['The Way Remastered', '/wiki/The_Way_Remastered', 'Sonka\\n', 'Sonka\\n', 'April 20, 2018\\n'], ['We Are OFK', '/wiki/We_Are_OFK', 'Team OFK\\n', 'Team OFK\\n', 'August 18, 2022\\n'], ['Werewolf: The Apocalypse – Heart of the Forest', '/wiki/Werewolf:_The_Apocalypse_%E2%80%93_Heart_of_the_Forest', 'Different Tales\\n', 'Walkabout Games\\n', 'January 7, 2021\\n'], ['West of Loathing', '/wiki/West_of_Loathing', 'Asymmetric Publications', 'Asymmetric Publications\\n', 'May 31, 2018\\n'], ['What the Golf', '/wiki/What_the_Golf', 'Triband\\n', 'Triband\\n', 'May 21, 2020\\n'], ['What Remains of Edith Finch', '/wiki/What_Remains_of_Edith_Finch', 'Giant Sparrow\\n', 'Annapurna Interactive', 'July 4, 2019\\n'], ['Wheel of Fortune', '/wiki/Wheel_of_Fortune_video_games', 'Ubisoft', 'Ubisoft\\n', 'October 30, 2018\\n'], ['Wheels of Aurelia', '/wiki/Wheels_of_Aurelia', 'Santa Ragione\\n', 'MixedBag\\n', 'November 2, 2017\\n'], ['When Ski Lifts Go Wrong', '/wiki/When_Ski_Lifts_Go_Wrong', 'Hugecalf Studios\\n', 'JP', 'January 23, 2019\\n'], ['Where Cards Fall', '/wiki/Where_Cards_Fall', 'The Game Band\\n', 'Snowman', 'November 4, 2021\\n'], ['Where the Water Tastes Like Wine', '/wiki/Where_the_Water_Tastes_Like_Wine', 'Dim Bulb Games, Serenity Forge\\n', 'Serenity Forge\\n', 'November 29, 2019\\n'], ['Whispering Willows', '/wiki/Whispering_Willows', 'Night Light Interactive', 'Akupara Games\\n', 'September 27, 2018\\n'], ['Who Wants to Be a Millionaire?', '/wiki/Who_Wants_to_Be_a_Millionaire%3F', 'Appeal Studios\\n', 'Microids', 'October 29, 2020\\n'], ['The Wild at Heart', '/wiki/The_Wild_at_Heart', 'Moonlight Kids\\n', 'Humble Games', 'November 16, 2021\\n'], ['Wild Guns Reloaded', '/wiki/Wild_Guns_Reloaded', 'Natsume Atari', 'JP', 'April 17, 2018\\n'], [\"Wilmot's Warehouse\", '/wiki/Wilmot%27s_Warehouse', 'Finji', 'Finji\\n', 'August 29, 2019\\n'], ['Windjammers', '/wiki/Windjammers_(video_game)', 'Dotemu', 'Dotemu\\n', 'October 23, 2018\\n'], ['Windjammers 2', '/wiki/Windjammers_2', 'Dotemu', 'Dotemu\\n', 'January 20, 2022\\n'], ['Wingspan', '/wiki/Wingspan_(video_game)', 'Monster Couch\\n', 'Monster Couch\\n', 'December 29, 2020\\n'], ['Winning Post 8 2017', '/wiki/Winning_Post_8_2017', 'Koei Tecmo', 'Koei Tecmo\\n', 'September 14, 2017\\n'], ['Winning Post 8 2018', '/wiki/Winning_Post_8_2018', 'Koei Tecmo', 'Koei Tecmo\\n', 'March 15, 2018\\n'], ['Winning Post 9', '/wiki/Winning_Post_9', 'Koei Tecmo', 'Koei Tecmo\\n', 'March 28, 2019\\n'], ['Winning Post 9 2020', '/wiki/Winning_Post_9_2020', 'Koei Tecmo', 'Koei Tecmo\\n', 'March 12, 2020\\n'], ['Winning Post 9 2021', '/wiki/Winning_Post_9_2021', 'Koei Tecmo', 'Koei Tecmo\\n', 'April 15, 2021\\n'], ['Winning Post 9 2022', '/wiki/Winning_Post', 'Koei Tecmo', 'Koei Tecmo\\n', 'April 14, 2022\\n'], ['Wintermoor Tactics Club', '/wiki/Wintermoor_Tactics_Club', 'EVC\\n', 'Versus Evil', 'September 10, 2020\\n'], ['WitchSpring3 Re:Fine – The Story of Eirudy', '/wiki/WitchSpring3_Re:Fine_%E2%80%93_The_Story_of_Eirudy', 'Kiwi Walks\\n', 'G Choice, Artdink\\n', 'December 17, 2020\\n'], ['The Witcher 3: Wild Hunt', '/wiki/The_Witcher_3:_Wild_Hunt', 'Saber Interactive', 'CD Projekt Red', 'October 15, 2019\\n'], ['Wizard of Legend', '/wiki/Wizard_of_Legend', 'Contingent99\\n', 'Humble Bundle', 'May 15, 2018\\n'], ['Wolfenstein II: The New Colossus', '/wiki/Wolfenstein_II:_The_New_Colossus', 'MachineGames', 'Bethesda Softworks', 'June 29, 2018\\n'], ['Wolfenstein: Youngblood', '/wiki/Wolfenstein:_Youngblood', 'MachineGames', 'Bethesda Softworks', 'July 26, 2019\\n'], ['Wonder Boy: Asha in Monster World', '/wiki/Wonder_Boy:_Asha_in_Monster_World', 'Artdink', 'JP', 'April 22, 2021\\n'], [\"Wonder Boy: The Dragon's Trap\", '/wiki/Wonder_Boy:_The_Dragon%27s_Trap', 'Lizardcube\\n', 'Dotemu', 'April 18, 2017\\n'], ['Wonder Boy Returns Remix', '/wiki/Wonder_Boy_Returns_Remix', 'CFK\\n', 'Sega', 'May 23, 2019\\n'], ['The Wonderful 101: Remastered', '/wiki/The_Wonderful_101:_Remastered', 'PlatinumGames', 'PlatinumGames\\n', 'May 19, 2020\\n'], ['World End Syndrome', '/wiki/World_End_Syndrome', 'Toybox Games\\n', 'Arc System Works', 'August 30, 2018\\n'], ['The World Ends with You: Final Remix', '/wiki/The_World_Ends_with_You:_Final_Remix', 'Jupiter Corporation', 'Square Enix', 'September 27, 2018\\n'], ['World of Final Fantasy Maxima', '/wiki/World_of_Final_Fantasy_Maxima', 'Tose', 'Square Enix\\n', 'November 6, 2018\\n'], ['World of Goo', '/wiki/World_of_Goo', '2D Boy', 'Tomorrow Corporation', 'March 16, 2017\\n'], ['World of Tanks Blitz', '/wiki/World_of_Tanks_Blitz', 'Wargaming\\n', 'Wargaming\\n', 'August 26, 2020\\n'], [\"World's End Club\", '/wiki/World%27s_End_Club', 'Too Kyo Games\\n', 'Izanagi Games\\n', 'May 27, 2021\\n'], ['World War Z', '/wiki/World_War_Z_(2019_video_game)', 'Saber Interactive', 'Mad Dog Games\\n', 'November 2, 2021\\n'], ['Worms Armageddon: Anniversary Edition', '/wiki/Worms_Armageddon', 'Team17', 'Team17\\n', 'September 26, 2024\\n'], ['Worms Rumble', '/wiki/Worms_Rumble', 'Team17', 'Team17\\n', 'June 23, 2021\\n'], ['Worms W.M.D', '/wiki/Worms_W.M.D', 'Team17', 'Team17\\n', 'November 23, 2017\\n'], ['Wrath: Aeon of Ruin', '/wiki/Wrath:_Aeon_of_Ruin', 'KillPixel Games\\n', '3D Realms', 'February 25, 2021\\n'], ['WRC 8', '/wiki/WRC_8', 'Kylotonn Games', 'Bigben Interactive', 'November 14, 2019\\n'], ['WRC 9', '/wiki/WRC_9', 'Kylotonn Games', 'Nacon', 'March 11, 2021\\n'], ['WRC 10', '/wiki/WRC_10', 'Kylotonn Games', 'Nacon', 'TBA\\n'], ['Wreckfest', '/wiki/Wreckfest', 'Bugbear Entertainment', 'THQ Nordic', 'June 21, 2022\\n'], ['Wrestling Empire', '/wiki/Wrestling_Empire', 'MDickie\\n', 'MDickie\\n', 'January 11, 2021\\n'], ['WWE 2K Battlegrounds', '/wiki/WWE_2K_Battlegrounds', 'Saber Interactive', 'JP', 'September 18, 2020\\n'], ['WWE 2K18', '/wiki/WWE_2K18', \"Yuke's\", '2K Sports', 'December 6, 2017\\n'], ['Wytchwood', '/wiki/Wytchwood', 'Alientrap\\n', 'Whitethorn Games, Whisper Games\\n', 'December 9, 2021\\n'], [\"Xiaomei and the Flame Dragon's Fist\", '/wiki/Kung-Fu_Master_(video_game)#Sequels_and_successors', 'PiXEL\\n', 'Leoful\\n', 'March 31, 2023\\n'], ['Xcom 2 Collection', '/wiki/Xcom_2_Collection', 'Firaxis Games', '2K Games', 'May 29, 2020\\n'], ['Xenoblade Chronicles: Definitive Edition', '/wiki/Xenoblade_Chronicles:_Definitive_Edition', 'Monolith Soft', 'Nintendo', 'May 29, 2020\\n'], ['Xenoblade Chronicles 2', '/wiki/Xenoblade_Chronicles_2', 'Monolith Soft', 'Nintendo', 'December 1, 2017\\n'], ['Xenoblade Chronicles 2: Torna – The Golden Country', '/wiki/Xenoblade_Chronicles_2:_Torna_%E2%80%93_The_Golden_Country', 'Monolith Soft', 'Nintendo', 'September 14, 2018\\n'], ['Xenoblade Chronicles 3', '/wiki/Xenoblade_Chronicles_3', 'Monolith Soft', 'Nintendo', 'July 29, 2022\\n'], ['Xeno Crisis', '/wiki/Xeno_Crisis', 'Bitmap Bureau\\n', 'Bitmap Bureau\\n', 'October 28, 2018\\n'], ['Xenon Racer', '/wiki/Xenon_Racer', '3D Clouds\\n', 'Soedesco', 'March 26, 2019\\n'], ['Xeodrifter', '/wiki/Xeodrifter', 'Atooi', 'Atooi\\n', 'February 15, 2018\\n'], ['XIII', '/wiki/XIII_(2020_video_game)', 'PlayMagic\\n', 'Microids', 'September 13, 2022\\n'], ['Xtreme Sports', '/wiki/Xtreme_Sports_(video_game)', 'WayForward', 'WayForward\\n', 'TBA\\n'], ['Yakuza Kiwami', '/wiki/Yakuza_Kiwami', 'Ryu Ga Gotoku Studio\\n', 'Sega\\n', 'October 24, 2024\\n'], ['Yars: Recharged', '/wiki/Yars:_Recharged', 'Adamvision Studios\\n', 'Atari', 'August 23, 2022\\n'], ['Yeah! You Want \"Those Games,\" Right? So Here You Go! Now, Let\\'s See You Clear Them!', '/wiki/Yeah!_You_Want_%22Those_Games,%22_Right%3F_So_Here_You_Go!_Now,_Let%27s_See_You_Clear_Them!', 'Monkeycraft Co. Ltd.\\n', 'D3 Publisher', 'July 19, 2023\\n'], ['Yes, Your Grace', '/wiki/Yes,_Your_Grace', 'Brave at Night\\n', 'No More Robots', 'June 26, 2020\\n'], ['Yesterday Origins', '/wiki/Yesterday_Origins', 'Pendulo Studios\\n', 'Microids', 'May 31, 2018\\n'], ['YesterMorrow', '/wiki/YesterMorrow', 'Bitmap Galaxy\\n', 'JP', 'November 5, 2020\\n'], ['YIIK: A Postmodern RPG', '/wiki/YIIK:_A_Postmodern_RPG', 'Ackk Studios\\n', 'Ackk Studios\\n', 'January 17, 2019\\n'], ['Yo-kai Watch', '/wiki/Yo-kai_Watch_(video_game)', 'Level-5', 'Level-5\\n', 'October 10, 2019\\n'], ['Yo-kai Watch 4', '/wiki/Yo-kai_Watch_4', 'Level-5', 'Level-5\\n', 'June 20, 2019\\n'], ['Yōdanji', '/wiki/Y%C5%8Ddanji', 'Kemco', 'Kemco\\n', 'December 7, 2017\\n'], [\"Yoku's Island Express\", '/wiki/Yoku%27s_Island_Express', 'Villa Gorilla\\n', 'Team17', 'May 29, 2018\\n'], ['Yomawari: The Long Night Collection', '/wiki/Yomawari:_The_Long_Night_Collection', 'Nippon Ichi Software', 'NIS America', 'October 25, 2018\\n'], ['Yonder: The Cloud Catcher Chronicles', '/wiki/Yonder:_The_Cloud_Catcher_Chronicles', 'Prideful Sloth\\n', 'Prideful Sloth\\n', 'May 17, 2018\\n'], ['Yooka-Laylee', '/wiki/Yooka-Laylee', 'Playtonic Games', 'Team17', 'December 14, 2017\\n'], ['Yooka-Laylee and the Impossible Lair', '/wiki/Yooka-Laylee_and_the_Impossible_Lair', 'Playtonic Games\\n', 'Team17', 'October 8, 2019\\n'], [\"Yoshi's Crafted World\", '/wiki/Yoshi%27s_Crafted_World', 'Good-Feel', 'Nintendo', 'March 29, 2019\\n'], ['Ys Origin', '/wiki/Ys_Origin', 'Nihon Falcom', 'Nihon Falcom\\n', 'October 1, 2020\\n'], ['Ys Memoire: The Oath in Felghana', '/wiki/Ys_Memoire:_The_Oath_in_Felghana', 'Nihon Falcom', 'Nihon Falcom\\n', 'April 27, 2023\\n'], ['Ys VIII: Lacrimosa of Dana', '/wiki/Ys_VIII:_Lacrimosa_of_Dana', 'Nihon Falcom\\n', 'JP', 'June 26, 2018\\n'], ['Ys IX: Monstrum Nox', '/wiki/Ys_IX:_Monstrum_Nox', 'Nihon Falcom\\n', 'JP', 'July 6, 2021\\n'], ['Ys X: Nordics', '/wiki/Ys_X:_Nordics', 'Nihon Falcom\\n', 'JP', 'September 28, 2023\\n'], ['Yu-Gi-Oh! Legacy of the Duelist: Link Evolution', '/wiki/Yu-Gi-Oh!_Legacy_of_the_Duelist:_Link_Evolution', 'Konami', 'Konami\\n', 'April 25, 2019\\n'], ['Yu-Gi-Oh! Master Duel', '/wiki/Yu-Gi-Oh!_Master_Duel', 'Konami', 'Konami\\n', 'January 18, 2022\\n'], ['Yu-Gi-Oh! Rush Duel: Dawn of the Battle Royale', '/wiki/Yu-Gi-Oh!_Rush_Duel_Saikyo_Battle_Royale', 'Konami', 'Konami\\n', 'August 12, 2021\\n'], ['Yu-No: A Girl Who Chants Love at the Bound of this World', '/wiki/Yu-No:_A_Girl_Who_Chants_Love_at_the_Bound_of_this_World', '5pb.', 'JP', 'March 14, 2019\\n'], ['Yume Nikki: Dream Diary', '/wiki/Yume_Nikki:_Dream_Diary', 'Active Gaming Media', 'Active Gaming Media\\n', 'February 21, 2019\\n'], ['Yuppie Psycho: Executive Edition', '/wiki/Yuppie_Psycho', 'Baroque Decay\\n', 'Another Indie\\n', 'October 29, 2020\\n'], ['Yurukill: The Calumniation Games', '/wiki/Yurukill:_The_Calumniation_Games', 'G.Rev\\n', 'JP', 'May 26, 2022\\n'], ['Zen Bound 2', '/wiki/Zen_Bound_2', 'Secret Exit\\n', 'Secret Exit\\n', 'May 24, 2018\\n'], ['Ziggurat', '/wiki/Ziggurat_(2014_video_game)', 'Milkstone Studios\\n', 'Milkstone Studios\\n', 'July 5, 2019\\n'], ['Zoids Wild: Blast Unleashed', '/wiki/Zoids_Wild:_Blast_Unleashed', 'Eighting', 'JP', 'February 28, 2019\\n'], ['Zoids Wild: Infinity Blast', '/wiki/Zoids_Wild:_Infinity_Blast', 'Takara Tomy', 'Takara Tomy\\n', 'November 26, 2020\\n'], ['Zombie Army 4: Dead War', '/wiki/Zombie_Army_4:_Dead_War', 'Rebellion Developments', 'Rebellion Developments\\n', 'April 29, 2022\\n'], ['Zombie Army Trilogy', '/wiki/Zombie_Army_Trilogy', 'Rebellion Developments', 'Rebellion Developments\\n', 'March 31, 2020\\n'], ['Zombie Driver: Immortal Edition', '/wiki/Zombie_Driver:_Immortal_Edition', 'Exor Studios\\n', 'JP', 'July 25, 2019\\n'], ['Zombieland: Double Tap – Road Trip', '/wiki/Zombieland:_Double_Tap_%E2%80%93_Road_Trip', 'High Voltage Software', 'NA', 'October 15, 2019\\n'], ['Zombies Ate My Neighbors', '/wiki/Zombies_Ate_My_Neighbors', 'Dotemu', 'Lucasfilm Games', 'June 29, 2021\\n'], ['Zumba: Burn it Up!', '/wiki/Zumba:_Burn_it_Up!', 'Kuju Games\\n', '505 Games', 'November 19, 2019\\n']]\n"
     ]
    },
    {
     "name": "stderr",
     "output_type": "stream",
     "text": [
      "C:\\Users\\Asus\\AppData\\Local\\Temp\\ipykernel_17936\\969707285.py:7: DeprecationWarning: The 'text' argument to find()-type methods is deprecated. Use 'string' instead.\n",
      "  game_name = game[0].find(text=True)\n",
      "C:\\Users\\Asus\\AppData\\Local\\Temp\\ipykernel_17936\\969707285.py:17: DeprecationWarning: The 'text' argument to find()-type methods is deprecated. Use 'string' instead.\n",
      "  att = cells[i].find(text=True)\n"
     ]
    }
   ],
   "source": [
    "for row in table.find_all('tr'):\n",
    "    # tqdm._instances.clear()\n",
    "\n",
    "    # only find game names with links to their own pages\n",
    "    try:\n",
    "        game = row.find_all('th')\n",
    "        game_name = game[0].find(text=True)\n",
    "        game_link = game[0].find(href=True)['href']\n",
    "    \n",
    "    except: pass\n",
    "\n",
    "    # find rest of cells\n",
    "    else:\n",
    "        cells = row.find_all('td')\n",
    "        atts = []\n",
    "        for i in range(len(cells)-1):\n",
    "            att = cells[i].find(text=True)\n",
    "            atts.append(att)\n",
    "        \n",
    "        # append full row to list    \n",
    "        elements.append([game_name, game_link] + atts)\n",
    "\n",
    "print(elements)"
   ]
  },
  {
   "cell_type": "code",
   "execution_count": 7,
   "id": "f5b36560-2f86-4d51-aa31-517b7d07b65e",
   "metadata": {},
   "outputs": [],
   "source": [
    "import numpy as np\n",
    "\n",
    "def _sigmoid(x: float):\n",
    "    return 1/(1 + np.exp(-x) )"
   ]
  },
  {
   "cell_type": "code",
   "execution_count": 33,
   "id": "e4b40b85-6d43-41a9-bf71-3054b1cd69f2",
   "metadata": {},
   "outputs": [
    {
     "data": {
      "text/plain": [
       "(0.9525741268224334, 0.9933071490757153)"
      ]
     },
     "execution_count": 33,
     "metadata": {},
     "output_type": "execute_result"
    }
   ],
   "source": [
    "a1 = _sigmoid(3)\n",
    "a2 = _sigmoid(5)\n",
    "a1, a2"
   ]
  },
  {
   "cell_type": "code",
   "execution_count": 37,
   "id": "53f62183-ef2f-4b88-a4b4-9f8b6c7b7648",
   "metadata": {},
   "outputs": [
    {
     "data": {
      "text/plain": [
       "0.9972527361673434"
      ]
     },
     "execution_count": 37,
     "metadata": {},
     "output_type": "execute_result"
    }
   ],
   "source": [
    "y = a1 + 2*a2\n",
    "1 - (3 - y) * _sigmoid(3)*(1 - _sigmoid(3)) * 1"
   ]
  },
  {
   "cell_type": "code",
   "execution_count": 45,
   "id": "050828b0-fc4e-40e8-9555-9522c08ef35f",
   "metadata": {},
   "outputs": [
    {
     "data": {
      "text/plain": [
       "0.9972527361673434"
      ]
     },
     "execution_count": 45,
     "metadata": {},
     "output_type": "execute_result"
    }
   ],
   "source": [
    "1 - (3 - y) * _sigmoid(3)*(1 - _sigmoid(3)) * 1"
   ]
  },
  {
   "cell_type": "code",
   "execution_count": 47,
   "id": "cd8d3ca5-778d-4688-a3c2-7682d5ec8a64",
   "metadata": {},
   "outputs": [
    {
     "data": {
      "text/plain": [
       "(2.996, 5)"
      ]
     },
     "execution_count": 47,
     "metadata": {},
     "output_type": "execute_result"
    }
   ],
   "source": [
    "z1 = 0.996 * 1 + 2 * 1\n",
    "z2 = 1 * 1 + 2 * 2\n",
    "z1, z2"
   ]
  },
  {
   "cell_type": "code",
   "execution_count": 51,
   "id": "f13c238a-3436-483c-a79d-82bc50cefd73",
   "metadata": {},
   "outputs": [
    {
     "data": {
      "text/plain": [
       "3.5"
      ]
     },
     "execution_count": 51,
     "metadata": {},
     "output_type": "execute_result"
    }
   ],
   "source": [
    "63/18"
   ]
  },
  {
   "cell_type": "code",
   "execution_count": 55,
   "id": "70e2cf35-f9ba-461d-b68c-29e7eb11ab6b",
   "metadata": {},
   "outputs": [],
   "source": [
    "import math\n",
    "sum = 0\n",
    "for i in range (1, 21):\n",
    "    sum += 3 * math.sqrt(i ** 4) + 5 * i + 5"
   ]
  },
  {
   "cell_type": "code",
   "execution_count": 59,
   "id": "91a2699a-f9cd-4054-b6c5-4b119071562a",
   "metadata": {},
   "outputs": [
    {
     "ename": "TypeError",
     "evalue": "combinations() missing required argument 'iterable' (pos 1)",
     "output_type": "error",
     "traceback": [
      "\u001b[1;31m---------------------------------------------------------------------------\u001b[0m",
      "\u001b[1;31mTypeError\u001b[0m                                 Traceback (most recent call last)",
      "Cell \u001b[1;32mIn[59], line 3\u001b[0m\n\u001b[0;32m      1\u001b[0m \u001b[38;5;28;01mfrom\u001b[39;00m \u001b[38;5;21;01mitertools\u001b[39;00m \u001b[38;5;28;01mimport\u001b[39;00m combinations\n\u001b[1;32m----> 3\u001b[0m a \u001b[38;5;241m=\u001b[39m combinations()\n",
      "\u001b[1;31mTypeError\u001b[0m: combinations() missing required argument 'iterable' (pos 1)"
     ]
    }
   ],
   "source": [
    "from itertools import combinations\n",
    "\n",
    "a = combinations()"
   ]
  },
  {
   "cell_type": "code",
   "execution_count": 65,
   "id": "30bace4f-3835-41e3-8e64-a665591acd03",
   "metadata": {},
   "outputs": [
    {
     "data": {
      "text/plain": [
       "443.6666666666667"
      ]
     },
     "execution_count": 65,
     "metadata": {},
     "output_type": "execute_result"
    }
   ],
   "source": [
    "1331/3"
   ]
  },
  {
   "cell_type": "code",
   "execution_count": 67,
   "id": "bf3d2d21-12c5-4a11-943b-107ef48a1143",
   "metadata": {},
   "outputs": [
    {
     "data": {
      "text/plain": [
       "-260"
      ]
     },
     "execution_count": 67,
     "metadata": {},
     "output_type": "execute_result"
    }
   ],
   "source": [
    "-20*13"
   ]
  },
  {
   "cell_type": "code",
   "execution_count": 69,
   "id": "2e371c06-91f0-4427-a587-44ef883d072c",
   "metadata": {},
   "outputs": [
    {
     "data": {
      "text/plain": [
       "720"
      ]
     },
     "execution_count": 69,
     "metadata": {},
     "output_type": "execute_result"
    }
   ],
   "source": [
    "6*5*4*3*2*1"
   ]
  },
  {
   "cell_type": "code",
   "execution_count": 73,
   "id": "de43727b-0be0-4dec-a6c9-39b99c2904b4",
   "metadata": {},
   "outputs": [
    {
     "data": {
      "text/plain": [
       "696"
      ]
     },
     "execution_count": 73,
     "metadata": {},
     "output_type": "execute_result"
    }
   ],
   "source": [
    "720 - (4*3*2)"
   ]
  },
  {
   "cell_type": "code",
   "execution_count": null,
   "id": "488dcd24-9a3f-4cde-afea-f1f312bcf330",
   "metadata": {},
   "outputs": [],
   "source": []
  }
 ],
 "metadata": {
  "kernelspec": {
   "display_name": "Python 3 (ipykernel)",
   "language": "python",
   "name": "python3"
  },
  "language_info": {
   "codemirror_mode": {
    "name": "ipython",
    "version": 3
   },
   "file_extension": ".py",
   "mimetype": "text/x-python",
   "name": "python",
   "nbconvert_exporter": "python",
   "pygments_lexer": "ipython3",
   "version": "3.12.4"
  }
 },
 "nbformat": 4,
 "nbformat_minor": 5
}
