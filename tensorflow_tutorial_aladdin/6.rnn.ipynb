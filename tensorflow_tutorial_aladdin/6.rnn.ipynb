{
 "cells": [
  {
   "cell_type": "markdown",
   "id": "3e6855f2-f5d2-496c-b585-1b13b818519d",
   "metadata": {},
   "source": [
    "![Image](img/rnn_arch.png)"
   ]
  }
 ],
 "metadata": {
  "kernelspec": {
   "display_name": "Python 3 (ipykernel)",
   "language": "python",
   "name": "python3"
  },
  "language_info": {
   "codemirror_mode": {
    "name": "ipython",
    "version": 3
   },
   "file_extension": ".py",
   "mimetype": "text/x-python",
   "name": "python",
   "nbconvert_exporter": "python",
   "pygments_lexer": "ipython3",
   "version": "3.12.4"
  }
 },
 "nbformat": 4,
 "nbformat_minor": 5
}
